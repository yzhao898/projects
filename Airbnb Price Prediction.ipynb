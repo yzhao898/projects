{
 "cells": [
  {
   "cell_type": "code",
   "execution_count": 401,
   "id": "initial_id",
   "metadata": {
    "ExecuteTime": {
     "end_time": "2023-11-27T01:55:46.273257200Z",
     "start_time": "2023-11-27T01:55:46.260224500Z"
    },
    "collapsed": true
   },
   "outputs": [],
   "source": [
    "\n",
    "import numpy as np\n",
    "import pandas as pd\n",
    "from matplotlib import pyplot as plt\n",
    "import seaborn as sns\n"
   ]
  },
  {
   "cell_type": "code",
   "execution_count": 402,
   "id": "9a986efbf3e660b7",
   "metadata": {
    "ExecuteTime": {
     "end_time": "2023-11-27T01:55:49.902499400Z",
     "start_time": "2023-11-27T01:55:48.068850700Z"
    }
   },
   "outputs": [
    {
     "data": {
      "text/html": [
       "<div>\n",
       "<style scoped>\n",
       "    .dataframe tbody tr th:only-of-type {\n",
       "        vertical-align: middle;\n",
       "    }\n",
       "\n",
       "    .dataframe tbody tr th {\n",
       "        vertical-align: top;\n",
       "    }\n",
       "\n",
       "    .dataframe thead th {\n",
       "        text-align: right;\n",
       "    }\n",
       "</style>\n",
       "<table border=\"1\" class=\"dataframe\">\n",
       "  <thead>\n",
       "    <tr style=\"text-align: right;\">\n",
       "      <th></th>\n",
       "      <th>id</th>\n",
       "      <th>listing_url</th>\n",
       "      <th>scrape_id</th>\n",
       "      <th>last_scraped</th>\n",
       "      <th>source</th>\n",
       "      <th>name</th>\n",
       "      <th>description</th>\n",
       "      <th>neighborhood_overview</th>\n",
       "      <th>picture_url</th>\n",
       "      <th>host_id</th>\n",
       "      <th>...</th>\n",
       "      <th>review_scores_communication</th>\n",
       "      <th>review_scores_location</th>\n",
       "      <th>review_scores_value</th>\n",
       "      <th>license</th>\n",
       "      <th>instant_bookable</th>\n",
       "      <th>calculated_host_listings_count</th>\n",
       "      <th>calculated_host_listings_count_entire_homes</th>\n",
       "      <th>calculated_host_listings_count_private_rooms</th>\n",
       "      <th>calculated_host_listings_count_shared_rooms</th>\n",
       "      <th>reviews_per_month</th>\n",
       "    </tr>\n",
       "  </thead>\n",
       "  <tbody>\n",
       "    <tr>\n",
       "      <th>0</th>\n",
       "      <td>150097</td>\n",
       "      <td>https://www.airbnb.com/rooms/150097</td>\n",
       "      <td>20230606052736</td>\n",
       "      <td>45084</td>\n",
       "      <td>city scrape</td>\n",
       "      <td>Bed and breakfast in North Hollywood · ★4.96 ·...</td>\n",
       "      <td>Welcome to our guest studio house! private ent...</td>\n",
       "      <td>The house is located in a quiet residential ne...</td>\n",
       "      <td>https://a0.muscache.com/pictures/6793974d-9fb2...</td>\n",
       "      <td>647546</td>\n",
       "      <td>...</td>\n",
       "      <td>4.99</td>\n",
       "      <td>4.90</td>\n",
       "      <td>4.95</td>\n",
       "      <td>NaN</td>\n",
       "      <td>f</td>\n",
       "      <td>4</td>\n",
       "      <td>1</td>\n",
       "      <td>3</td>\n",
       "      <td>0</td>\n",
       "      <td>1.67</td>\n",
       "    </tr>\n",
       "    <tr>\n",
       "      <th>1</th>\n",
       "      <td>40667</td>\n",
       "      <td>https://www.airbnb.com/rooms/40667</td>\n",
       "      <td>20230606052736</td>\n",
       "      <td>45084</td>\n",
       "      <td>city scrape</td>\n",
       "      <td>Rental unit in Los Angeles · ★4.30 · 1 bedroom...</td>\n",
       "      <td>&lt;b&gt;The space&lt;/b&gt;&lt;br /&gt;Nice, quiet  master bedr...</td>\n",
       "      <td>NaN</td>\n",
       "      <td>https://a0.muscache.com/pictures/70033015/cb7f...</td>\n",
       "      <td>175264</td>\n",
       "      <td>...</td>\n",
       "      <td>4.64</td>\n",
       "      <td>4.36</td>\n",
       "      <td>4.45</td>\n",
       "      <td>NaN</td>\n",
       "      <td>f</td>\n",
       "      <td>1</td>\n",
       "      <td>0</td>\n",
       "      <td>1</td>\n",
       "      <td>0</td>\n",
       "      <td>0.08</td>\n",
       "    </tr>\n",
       "    <tr>\n",
       "      <th>2</th>\n",
       "      <td>109</td>\n",
       "      <td>https://www.airbnb.com/rooms/109</td>\n",
       "      <td>20230606052736</td>\n",
       "      <td>45084</td>\n",
       "      <td>city scrape</td>\n",
       "      <td>Condo in Culver City · 2 bedrooms · 2 beds · 2...</td>\n",
       "      <td>*** Unit upgraded with new bamboo flooring, ne...</td>\n",
       "      <td>NaN</td>\n",
       "      <td>https://a0.muscache.com/pictures/miso/Hosting-...</td>\n",
       "      <td>521</td>\n",
       "      <td>...</td>\n",
       "      <td>4.00</td>\n",
       "      <td>5.00</td>\n",
       "      <td>4.00</td>\n",
       "      <td>NaN</td>\n",
       "      <td>f</td>\n",
       "      <td>1</td>\n",
       "      <td>1</td>\n",
       "      <td>0</td>\n",
       "      <td>0</td>\n",
       "      <td>0.01</td>\n",
       "    </tr>\n",
       "    <tr>\n",
       "      <th>3</th>\n",
       "      <td>152514</td>\n",
       "      <td>https://www.airbnb.com/rooms/152514</td>\n",
       "      <td>20230606052736</td>\n",
       "      <td>45084</td>\n",
       "      <td>city scrape</td>\n",
       "      <td>Guesthouse in Manhattan Beach · 1 bedroom · 1 ...</td>\n",
       "      <td>Wake up to the sound of waves crashing on the ...</td>\n",
       "      <td>NaN</td>\n",
       "      <td>https://a0.muscache.com/pictures/prohost-api/H...</td>\n",
       "      <td>733870</td>\n",
       "      <td>...</td>\n",
       "      <td>5.00</td>\n",
       "      <td>5.00</td>\n",
       "      <td>4.00</td>\n",
       "      <td>NaN</td>\n",
       "      <td>f</td>\n",
       "      <td>2</td>\n",
       "      <td>2</td>\n",
       "      <td>0</td>\n",
       "      <td>0</td>\n",
       "      <td>0.01</td>\n",
       "    </tr>\n",
       "    <tr>\n",
       "      <th>4</th>\n",
       "      <td>43318</td>\n",
       "      <td>https://www.airbnb.com/rooms/43318</td>\n",
       "      <td>20230606052736</td>\n",
       "      <td>45084</td>\n",
       "      <td>city scrape</td>\n",
       "      <td>Hostel in Los Angeles · ★4.37 · 1 bedroom · 1 ...</td>\n",
       "      <td>Best value in most exciting part of DTLA!  Wal...</td>\n",
       "      <td>Little Tokyo is the most vibrant area of downt...</td>\n",
       "      <td>https://a0.muscache.com/pictures/938a66db-d66b...</td>\n",
       "      <td>156094545</td>\n",
       "      <td>...</td>\n",
       "      <td>4.73</td>\n",
       "      <td>4.68</td>\n",
       "      <td>4.53</td>\n",
       "      <td>Exempt - This listing is a hotel or motel</td>\n",
       "      <td>f</td>\n",
       "      <td>14</td>\n",
       "      <td>0</td>\n",
       "      <td>14</td>\n",
       "      <td>0</td>\n",
       "      <td>0.72</td>\n",
       "    </tr>\n",
       "    <tr>\n",
       "      <th>...</th>\n",
       "      <td>...</td>\n",
       "      <td>...</td>\n",
       "      <td>...</td>\n",
       "      <td>...</td>\n",
       "      <td>...</td>\n",
       "      <td>...</td>\n",
       "      <td>...</td>\n",
       "      <td>...</td>\n",
       "      <td>...</td>\n",
       "      <td>...</td>\n",
       "      <td>...</td>\n",
       "      <td>...</td>\n",
       "      <td>...</td>\n",
       "      <td>...</td>\n",
       "      <td>...</td>\n",
       "      <td>...</td>\n",
       "      <td>...</td>\n",
       "      <td>...</td>\n",
       "      <td>...</td>\n",
       "      <td>...</td>\n",
       "      <td>...</td>\n",
       "    </tr>\n",
       "    <tr>\n",
       "      <th>44459</th>\n",
       "      <td>906838372251518000</td>\n",
       "      <td>https://www.airbnb.com/rooms/906838372251518667</td>\n",
       "      <td>20230606052736</td>\n",
       "      <td>45084</td>\n",
       "      <td>city scrape</td>\n",
       "      <td>Rental unit in Los Angeles · ★New · 2 bedrooms...</td>\n",
       "      <td>Guesthouse is a collection of creatively desig...</td>\n",
       "      <td>NaN</td>\n",
       "      <td>https://a0.muscache.com/pictures/miso/Hosting-...</td>\n",
       "      <td>325135786</td>\n",
       "      <td>...</td>\n",
       "      <td>NaN</td>\n",
       "      <td>NaN</td>\n",
       "      <td>NaN</td>\n",
       "      <td>NaN</td>\n",
       "      <td>t</td>\n",
       "      <td>9</td>\n",
       "      <td>9</td>\n",
       "      <td>0</td>\n",
       "      <td>0</td>\n",
       "      <td>NaN</td>\n",
       "    </tr>\n",
       "    <tr>\n",
       "      <th>44460</th>\n",
       "      <td>906849730595831000</td>\n",
       "      <td>https://www.airbnb.com/rooms/906849730595831419</td>\n",
       "      <td>20230606052736</td>\n",
       "      <td>45084</td>\n",
       "      <td>city scrape</td>\n",
       "      <td>Rental unit in View Park-Windsor Hills · ★New ...</td>\n",
       "      <td>&gt; Private room with shared bathroom &lt;br /&gt;&gt; 3 ...</td>\n",
       "      <td>Located on Lacienega blvd, Inglewood&lt;br /&gt;Plea...</td>\n",
       "      <td>https://a0.muscache.com/pictures/miso/Hosting-...</td>\n",
       "      <td>14936368</td>\n",
       "      <td>...</td>\n",
       "      <td>NaN</td>\n",
       "      <td>NaN</td>\n",
       "      <td>NaN</td>\n",
       "      <td>NaN</td>\n",
       "      <td>f</td>\n",
       "      <td>106</td>\n",
       "      <td>23</td>\n",
       "      <td>83</td>\n",
       "      <td>0</td>\n",
       "      <td>NaN</td>\n",
       "    </tr>\n",
       "    <tr>\n",
       "      <th>44461</th>\n",
       "      <td>906864593949172000</td>\n",
       "      <td>https://www.airbnb.com/rooms/906864593949172534</td>\n",
       "      <td>20230606052736</td>\n",
       "      <td>45084</td>\n",
       "      <td>city scrape</td>\n",
       "      <td>Rental unit in Los Angeles · ★New · 1 bedroom ...</td>\n",
       "      <td>&gt; CoLiving apartment with 3 private bedrooms i...</td>\n",
       "      <td>Hart of Westwood, UCAL walking distance</td>\n",
       "      <td>https://a0.muscache.com/pictures/miso/Hosting-...</td>\n",
       "      <td>14936368</td>\n",
       "      <td>...</td>\n",
       "      <td>NaN</td>\n",
       "      <td>NaN</td>\n",
       "      <td>NaN</td>\n",
       "      <td>NaN</td>\n",
       "      <td>t</td>\n",
       "      <td>106</td>\n",
       "      <td>23</td>\n",
       "      <td>83</td>\n",
       "      <td>0</td>\n",
       "      <td>NaN</td>\n",
       "    </tr>\n",
       "    <tr>\n",
       "      <th>44462</th>\n",
       "      <td>906867349473658000</td>\n",
       "      <td>https://www.airbnb.com/rooms/906867349473658950</td>\n",
       "      <td>20230606052736</td>\n",
       "      <td>45083</td>\n",
       "      <td>city scrape</td>\n",
       "      <td>Home in Vernon · ★New · 1 bedroom · 1 bed · 1 ...</td>\n",
       "      <td>Enjoy a stylish experience at this centrally-l...</td>\n",
       "      <td>NaN</td>\n",
       "      <td>https://a0.muscache.com/pictures/miso/Hosting-...</td>\n",
       "      <td>390414536</td>\n",
       "      <td>...</td>\n",
       "      <td>NaN</td>\n",
       "      <td>NaN</td>\n",
       "      <td>NaN</td>\n",
       "      <td>NaN</td>\n",
       "      <td>f</td>\n",
       "      <td>69</td>\n",
       "      <td>18</td>\n",
       "      <td>51</td>\n",
       "      <td>0</td>\n",
       "      <td>NaN</td>\n",
       "    </tr>\n",
       "    <tr>\n",
       "      <th>44463</th>\n",
       "      <td>906872151078347000</td>\n",
       "      <td>https://www.airbnb.com/rooms/906872151078347575</td>\n",
       "      <td>20230606052736</td>\n",
       "      <td>45083</td>\n",
       "      <td>city scrape</td>\n",
       "      <td>Home in Huntington Park · ★New · 1 bedroom · 1...</td>\n",
       "      <td>The whole group will enjoy easy access to ever...</td>\n",
       "      <td>NaN</td>\n",
       "      <td>https://a0.muscache.com/pictures/miso/Hosting-...</td>\n",
       "      <td>390414536</td>\n",
       "      <td>...</td>\n",
       "      <td>NaN</td>\n",
       "      <td>NaN</td>\n",
       "      <td>NaN</td>\n",
       "      <td>NaN</td>\n",
       "      <td>f</td>\n",
       "      <td>69</td>\n",
       "      <td>18</td>\n",
       "      <td>51</td>\n",
       "      <td>0</td>\n",
       "      <td>NaN</td>\n",
       "    </tr>\n",
       "  </tbody>\n",
       "</table>\n",
       "<p>44464 rows × 75 columns</p>\n",
       "</div>"
      ],
      "text/plain": [
       "                       id                                      listing_url  \\\n",
       "0                  150097              https://www.airbnb.com/rooms/150097   \n",
       "1                   40667               https://www.airbnb.com/rooms/40667   \n",
       "2                     109                 https://www.airbnb.com/rooms/109   \n",
       "3                  152514              https://www.airbnb.com/rooms/152514   \n",
       "4                   43318               https://www.airbnb.com/rooms/43318   \n",
       "...                   ...                                              ...   \n",
       "44459  906838372251518000  https://www.airbnb.com/rooms/906838372251518667   \n",
       "44460  906849730595831000  https://www.airbnb.com/rooms/906849730595831419   \n",
       "44461  906864593949172000  https://www.airbnb.com/rooms/906864593949172534   \n",
       "44462  906867349473658000  https://www.airbnb.com/rooms/906867349473658950   \n",
       "44463  906872151078347000  https://www.airbnb.com/rooms/906872151078347575   \n",
       "\n",
       "            scrape_id  last_scraped       source  \\\n",
       "0      20230606052736         45084  city scrape   \n",
       "1      20230606052736         45084  city scrape   \n",
       "2      20230606052736         45084  city scrape   \n",
       "3      20230606052736         45084  city scrape   \n",
       "4      20230606052736         45084  city scrape   \n",
       "...               ...           ...          ...   \n",
       "44459  20230606052736         45084  city scrape   \n",
       "44460  20230606052736         45084  city scrape   \n",
       "44461  20230606052736         45084  city scrape   \n",
       "44462  20230606052736         45083  city scrape   \n",
       "44463  20230606052736         45083  city scrape   \n",
       "\n",
       "                                                    name  \\\n",
       "0      Bed and breakfast in North Hollywood · ★4.96 ·...   \n",
       "1      Rental unit in Los Angeles · ★4.30 · 1 bedroom...   \n",
       "2      Condo in Culver City · 2 bedrooms · 2 beds · 2...   \n",
       "3      Guesthouse in Manhattan Beach · 1 bedroom · 1 ...   \n",
       "4      Hostel in Los Angeles · ★4.37 · 1 bedroom · 1 ...   \n",
       "...                                                  ...   \n",
       "44459  Rental unit in Los Angeles · ★New · 2 bedrooms...   \n",
       "44460  Rental unit in View Park-Windsor Hills · ★New ...   \n",
       "44461  Rental unit in Los Angeles · ★New · 1 bedroom ...   \n",
       "44462  Home in Vernon · ★New · 1 bedroom · 1 bed · 1 ...   \n",
       "44463  Home in Huntington Park · ★New · 1 bedroom · 1...   \n",
       "\n",
       "                                             description  \\\n",
       "0      Welcome to our guest studio house! private ent...   \n",
       "1      <b>The space</b><br />Nice, quiet  master bedr...   \n",
       "2      *** Unit upgraded with new bamboo flooring, ne...   \n",
       "3      Wake up to the sound of waves crashing on the ...   \n",
       "4      Best value in most exciting part of DTLA!  Wal...   \n",
       "...                                                  ...   \n",
       "44459  Guesthouse is a collection of creatively desig...   \n",
       "44460  > Private room with shared bathroom <br />> 3 ...   \n",
       "44461  > CoLiving apartment with 3 private bedrooms i...   \n",
       "44462  Enjoy a stylish experience at this centrally-l...   \n",
       "44463  The whole group will enjoy easy access to ever...   \n",
       "\n",
       "                                   neighborhood_overview  \\\n",
       "0      The house is located in a quiet residential ne...   \n",
       "1                                                    NaN   \n",
       "2                                                    NaN   \n",
       "3                                                    NaN   \n",
       "4      Little Tokyo is the most vibrant area of downt...   \n",
       "...                                                  ...   \n",
       "44459                                                NaN   \n",
       "44460  Located on Lacienega blvd, Inglewood<br />Plea...   \n",
       "44461            Hart of Westwood, UCAL walking distance   \n",
       "44462                                                NaN   \n",
       "44463                                                NaN   \n",
       "\n",
       "                                             picture_url    host_id  ...  \\\n",
       "0      https://a0.muscache.com/pictures/6793974d-9fb2...     647546  ...   \n",
       "1      https://a0.muscache.com/pictures/70033015/cb7f...     175264  ...   \n",
       "2      https://a0.muscache.com/pictures/miso/Hosting-...        521  ...   \n",
       "3      https://a0.muscache.com/pictures/prohost-api/H...     733870  ...   \n",
       "4      https://a0.muscache.com/pictures/938a66db-d66b...  156094545  ...   \n",
       "...                                                  ...        ...  ...   \n",
       "44459  https://a0.muscache.com/pictures/miso/Hosting-...  325135786  ...   \n",
       "44460  https://a0.muscache.com/pictures/miso/Hosting-...   14936368  ...   \n",
       "44461  https://a0.muscache.com/pictures/miso/Hosting-...   14936368  ...   \n",
       "44462  https://a0.muscache.com/pictures/miso/Hosting-...  390414536  ...   \n",
       "44463  https://a0.muscache.com/pictures/miso/Hosting-...  390414536  ...   \n",
       "\n",
       "      review_scores_communication review_scores_location  review_scores_value  \\\n",
       "0                            4.99                   4.90                 4.95   \n",
       "1                            4.64                   4.36                 4.45   \n",
       "2                            4.00                   5.00                 4.00   \n",
       "3                            5.00                   5.00                 4.00   \n",
       "4                            4.73                   4.68                 4.53   \n",
       "...                           ...                    ...                  ...   \n",
       "44459                         NaN                    NaN                  NaN   \n",
       "44460                         NaN                    NaN                  NaN   \n",
       "44461                         NaN                    NaN                  NaN   \n",
       "44462                         NaN                    NaN                  NaN   \n",
       "44463                         NaN                    NaN                  NaN   \n",
       "\n",
       "                                         license instant_bookable  \\\n",
       "0                                            NaN                f   \n",
       "1                                            NaN                f   \n",
       "2                                            NaN                f   \n",
       "3                                            NaN                f   \n",
       "4      Exempt - This listing is a hotel or motel                f   \n",
       "...                                          ...              ...   \n",
       "44459                                        NaN                t   \n",
       "44460                                        NaN                f   \n",
       "44461                                        NaN                t   \n",
       "44462                                        NaN                f   \n",
       "44463                                        NaN                f   \n",
       "\n",
       "      calculated_host_listings_count  \\\n",
       "0                                  4   \n",
       "1                                  1   \n",
       "2                                  1   \n",
       "3                                  2   \n",
       "4                                 14   \n",
       "...                              ...   \n",
       "44459                              9   \n",
       "44460                            106   \n",
       "44461                            106   \n",
       "44462                             69   \n",
       "44463                             69   \n",
       "\n",
       "       calculated_host_listings_count_entire_homes  \\\n",
       "0                                                1   \n",
       "1                                                0   \n",
       "2                                                1   \n",
       "3                                                2   \n",
       "4                                                0   \n",
       "...                                            ...   \n",
       "44459                                            9   \n",
       "44460                                           23   \n",
       "44461                                           23   \n",
       "44462                                           18   \n",
       "44463                                           18   \n",
       "\n",
       "       calculated_host_listings_count_private_rooms  \\\n",
       "0                                                 3   \n",
       "1                                                 1   \n",
       "2                                                 0   \n",
       "3                                                 0   \n",
       "4                                                14   \n",
       "...                                             ...   \n",
       "44459                                             0   \n",
       "44460                                            83   \n",
       "44461                                            83   \n",
       "44462                                            51   \n",
       "44463                                            51   \n",
       "\n",
       "      calculated_host_listings_count_shared_rooms reviews_per_month  \n",
       "0                                               0              1.67  \n",
       "1                                               0              0.08  \n",
       "2                                               0              0.01  \n",
       "3                                               0              0.01  \n",
       "4                                               0              0.72  \n",
       "...                                           ...               ...  \n",
       "44459                                           0               NaN  \n",
       "44460                                           0               NaN  \n",
       "44461                                           0               NaN  \n",
       "44462                                           0               NaN  \n",
       "44463                                           0               NaN  \n",
       "\n",
       "[44464 rows x 75 columns]"
      ]
     },
     "execution_count": 402,
     "metadata": {},
     "output_type": "execute_result"
    }
   ],
   "source": [
    "df = pd.read_csv('listings.csv')\n",
    "df"
   ]
  },
  {
   "cell_type": "code",
   "execution_count": 403,
   "id": "20ed68828f060562",
   "metadata": {
    "ExecuteTime": {
     "end_time": "2023-11-27T01:55:50.084585800Z",
     "start_time": "2023-11-27T01:55:49.902499400Z"
    }
   },
   "outputs": [
    {
     "name": "stdout",
     "output_type": "stream",
     "text": [
      "<class 'pandas.core.frame.DataFrame'>\n",
      "RangeIndex: 44464 entries, 0 to 44463\n",
      "Data columns (total 75 columns):\n",
      " #   Column                                        Non-Null Count  Dtype  \n",
      "---  ------                                        --------------  -----  \n",
      " 0   id                                            44464 non-null  int64  \n",
      " 1   listing_url                                   44464 non-null  object \n",
      " 2   scrape_id                                     44464 non-null  int64  \n",
      " 3   last_scraped                                  44464 non-null  int64  \n",
      " 4   source                                        44464 non-null  object \n",
      " 5   name                                          44464 non-null  object \n",
      " 6   description                                   43765 non-null  object \n",
      " 7   neighborhood_overview                         26222 non-null  object \n",
      " 8   picture_url                                   44464 non-null  object \n",
      " 9   host_id                                       44464 non-null  int64  \n",
      " 10  host_url                                      44464 non-null  object \n",
      " 11  host_name                                     44462 non-null  object \n",
      " 12  host_since                                    44462 non-null  float64\n",
      " 13  host_location                                 35291 non-null  object \n",
      " 14  host_about                                    26153 non-null  object \n",
      " 15  host_response_time                            34489 non-null  object \n",
      " 16  host_response_rate                            34489 non-null  float64\n",
      " 17  host_acceptance_rate                          35041 non-null  float64\n",
      " 18  host_is_superhost                             32583 non-null  object \n",
      " 19  host_thumbnail_url                            44462 non-null  object \n",
      " 20  host_picture_url                              44462 non-null  object \n",
      " 21  host_neighbourhood                            35307 non-null  object \n",
      " 22  host_listings_count                           44462 non-null  float64\n",
      " 23  host_total_listings_count                     44462 non-null  float64\n",
      " 24  host_verifications                            44464 non-null  object \n",
      " 25  host_has_profile_pic                          44462 non-null  object \n",
      " 26  host_identity_verified                        44462 non-null  object \n",
      " 27  neighbourhood                                 26223 non-null  object \n",
      " 28  neighbourhood_cleansed                        44464 non-null  object \n",
      " 29  neighbourhood_group_cleansed                  44464 non-null  object \n",
      " 30  latitude                                      44464 non-null  float64\n",
      " 31  longitude                                     44464 non-null  float64\n",
      " 32  property_type                                 44464 non-null  object \n",
      " 33  room_type                                     44464 non-null  object \n",
      " 34  accommodates                                  44464 non-null  int64  \n",
      " 35  bathrooms                                     0 non-null      float64\n",
      " 36  bathrooms_text                                44435 non-null  object \n",
      " 37  bedrooms                                      29712 non-null  float64\n",
      " 38  beds                                          43912 non-null  float64\n",
      " 39  amenities                                     44464 non-null  object \n",
      " 40  price                                         44464 non-null  int64  \n",
      " 41  minimum_nights                                44464 non-null  int64  \n",
      " 42  maximum_nights                                44464 non-null  int64  \n",
      " 43  minimum_minimum_nights                        44460 non-null  float64\n",
      " 44  maximum_minimum_nights                        44460 non-null  float64\n",
      " 45  minimum_maximum_nights                        44460 non-null  float64\n",
      " 46  maximum_maximum_nights                        44460 non-null  float64\n",
      " 47  minimum_nights_avg_ntm                        44460 non-null  float64\n",
      " 48  maximum_nights_avg_ntm                        44460 non-null  float64\n",
      " 49  calendar_updated                              0 non-null      float64\n",
      " 50  has_availability                              44464 non-null  object \n",
      " 51  availability_30                               44464 non-null  int64  \n",
      " 52  availability_60                               44464 non-null  int64  \n",
      " 53  availability_90                               44464 non-null  int64  \n",
      " 54  availability_365                              44464 non-null  int64  \n",
      " 55  calendar_last_scraped                         44464 non-null  int64  \n",
      " 56  number_of_reviews                             44464 non-null  int64  \n",
      " 57  number_of_reviews_ltm                         44464 non-null  int64  \n",
      " 58  number_of_reviews_l30d                        44464 non-null  int64  \n",
      " 59  first_review                                  31775 non-null  float64\n",
      " 60  last_review                                   31775 non-null  float64\n",
      " 61  review_scores_rating                          31775 non-null  float64\n",
      " 62  review_scores_accuracy                        31531 non-null  float64\n",
      " 63  review_scores_cleanliness                     31530 non-null  float64\n",
      " 64  review_scores_checkin                         31526 non-null  float64\n",
      " 65  review_scores_communication                   31532 non-null  float64\n",
      " 66  review_scores_location                        31524 non-null  float64\n",
      " 67  review_scores_value                           31522 non-null  float64\n",
      " 68  license                                       9587 non-null   object \n",
      " 69  instant_bookable                              44464 non-null  object \n",
      " 70  calculated_host_listings_count                44464 non-null  int64  \n",
      " 71  calculated_host_listings_count_entire_homes   44464 non-null  int64  \n",
      " 72  calculated_host_listings_count_private_rooms  44464 non-null  int64  \n",
      " 73  calculated_host_listings_count_shared_rooms   44464 non-null  int64  \n",
      " 74  reviews_per_month                             31775 non-null  float64\n",
      "dtypes: float64(27), int64(20), object(28)\n",
      "memory usage: 25.4+ MB\n"
     ]
    }
   ],
   "source": [
    "# observe the data to see the # of missing value and if datatype is correct\n",
    "df.info() "
   ]
  },
  {
   "cell_type": "code",
   "execution_count": 404,
   "id": "bfb278f61b23e96",
   "metadata": {
    "ExecuteTime": {
     "end_time": "2023-11-27T01:55:50.084585800Z",
     "start_time": "2023-11-27T01:55:50.082820200Z"
    }
   },
   "outputs": [],
   "source": [
    "# get the percentage of missing value in each column and decide to remove which variable\n",
    "def get_missing_value_percentage(df):\n",
    "    missing_col = [col for col in df.columns if df[col].isnull().sum() > 0]\n",
    "    miss_per = {}\n",
    "    total = df.shape[0]\n",
    "    for i in missing_col:\n",
    "        count = df[i].isnull().sum()\n",
    "        per = count / total * 100\n",
    "        miss_per[i] = per\n",
    "        print('{}: {} ({})'.format(i, count, round(per, 3)))\n",
    "    return miss_per\n",
    "        "
   ]
  },
  {
   "cell_type": "code",
   "execution_count": 405,
   "id": "47ccd0721680d298",
   "metadata": {
    "ExecuteTime": {
     "end_time": "2023-11-27T01:55:50.240600700Z",
     "start_time": "2023-11-27T01:55:50.084585800Z"
    }
   },
   "outputs": [
    {
     "name": "stdout",
     "output_type": "stream",
     "text": [
      "description: 699 (1.572)\n",
      "neighborhood_overview: 18242 (41.026)\n",
      "host_name: 2 (0.004)\n",
      "host_since: 2 (0.004)\n",
      "host_location: 9173 (20.63)\n",
      "host_about: 18311 (41.182)\n",
      "host_response_time: 9975 (22.434)\n",
      "host_response_rate: 9975 (22.434)\n",
      "host_acceptance_rate: 9423 (21.192)\n",
      "host_is_superhost: 11881 (26.72)\n",
      "host_thumbnail_url: 2 (0.004)\n",
      "host_picture_url: 2 (0.004)\n",
      "host_neighbourhood: 9157 (20.594)\n",
      "host_listings_count: 2 (0.004)\n",
      "host_total_listings_count: 2 (0.004)\n",
      "host_has_profile_pic: 2 (0.004)\n",
      "host_identity_verified: 2 (0.004)\n",
      "neighbourhood: 18241 (41.024)\n",
      "bathrooms: 44464 (100.0)\n",
      "bathrooms_text: 29 (0.065)\n",
      "bedrooms: 14752 (33.177)\n",
      "beds: 552 (1.241)\n",
      "minimum_minimum_nights: 4 (0.009)\n",
      "maximum_minimum_nights: 4 (0.009)\n",
      "minimum_maximum_nights: 4 (0.009)\n",
      "maximum_maximum_nights: 4 (0.009)\n",
      "minimum_nights_avg_ntm: 4 (0.009)\n",
      "maximum_nights_avg_ntm: 4 (0.009)\n",
      "calendar_updated: 44464 (100.0)\n",
      "first_review: 12689 (28.538)\n",
      "last_review: 12689 (28.538)\n",
      "review_scores_rating: 12689 (28.538)\n",
      "review_scores_accuracy: 12933 (29.086)\n",
      "review_scores_cleanliness: 12934 (29.089)\n",
      "review_scores_checkin: 12938 (29.098)\n",
      "review_scores_communication: 12932 (29.084)\n",
      "review_scores_location: 12940 (29.102)\n",
      "review_scores_value: 12942 (29.107)\n",
      "license: 34877 (78.439)\n",
      "reviews_per_month: 12689 (28.538)\n"
     ]
    }
   ],
   "source": [
    "miss_per = get_missing_value_percentage(df)"
   ]
  },
  {
   "cell_type": "code",
   "execution_count": 406,
   "id": "26ab15b8ff8b4c07",
   "metadata": {
    "ExecuteTime": {
     "end_time": "2023-11-27T01:55:50.240600700Z",
     "start_time": "2023-11-27T01:55:50.186020600Z"
    }
   },
   "outputs": [
    {
     "data": {
      "text/html": [
       "<div>\n",
       "<style scoped>\n",
       "    .dataframe tbody tr th:only-of-type {\n",
       "        vertical-align: middle;\n",
       "    }\n",
       "\n",
       "    .dataframe tbody tr th {\n",
       "        vertical-align: top;\n",
       "    }\n",
       "\n",
       "    .dataframe thead th {\n",
       "        text-align: right;\n",
       "    }\n",
       "</style>\n",
       "<table border=\"1\" class=\"dataframe\">\n",
       "  <thead>\n",
       "    <tr style=\"text-align: right;\">\n",
       "      <th></th>\n",
       "      <th>0</th>\n",
       "    </tr>\n",
       "  </thead>\n",
       "  <tbody>\n",
       "    <tr>\n",
       "      <th>calendar_updated</th>\n",
       "      <td>100.000000</td>\n",
       "    </tr>\n",
       "    <tr>\n",
       "      <th>bathrooms</th>\n",
       "      <td>100.000000</td>\n",
       "    </tr>\n",
       "    <tr>\n",
       "      <th>license</th>\n",
       "      <td>78.438737</td>\n",
       "    </tr>\n",
       "    <tr>\n",
       "      <th>host_about</th>\n",
       "      <td>41.181630</td>\n",
       "    </tr>\n",
       "    <tr>\n",
       "      <th>neighborhood_overview</th>\n",
       "      <td>41.026448</td>\n",
       "    </tr>\n",
       "    <tr>\n",
       "      <th>neighbourhood</th>\n",
       "      <td>41.024199</td>\n",
       "    </tr>\n",
       "    <tr>\n",
       "      <th>bedrooms</th>\n",
       "      <td>33.177402</td>\n",
       "    </tr>\n",
       "    <tr>\n",
       "      <th>review_scores_value</th>\n",
       "      <td>29.106693</td>\n",
       "    </tr>\n",
       "    <tr>\n",
       "      <th>review_scores_location</th>\n",
       "      <td>29.102195</td>\n",
       "    </tr>\n",
       "    <tr>\n",
       "      <th>review_scores_checkin</th>\n",
       "      <td>29.097697</td>\n",
       "    </tr>\n",
       "    <tr>\n",
       "      <th>review_scores_cleanliness</th>\n",
       "      <td>29.088701</td>\n",
       "    </tr>\n",
       "    <tr>\n",
       "      <th>review_scores_accuracy</th>\n",
       "      <td>29.086452</td>\n",
       "    </tr>\n",
       "    <tr>\n",
       "      <th>review_scores_communication</th>\n",
       "      <td>29.084203</td>\n",
       "    </tr>\n",
       "    <tr>\n",
       "      <th>review_scores_rating</th>\n",
       "      <td>28.537693</td>\n",
       "    </tr>\n",
       "    <tr>\n",
       "      <th>last_review</th>\n",
       "      <td>28.537693</td>\n",
       "    </tr>\n",
       "    <tr>\n",
       "      <th>first_review</th>\n",
       "      <td>28.537693</td>\n",
       "    </tr>\n",
       "    <tr>\n",
       "      <th>reviews_per_month</th>\n",
       "      <td>28.537693</td>\n",
       "    </tr>\n",
       "    <tr>\n",
       "      <th>host_is_superhost</th>\n",
       "      <td>26.720493</td>\n",
       "    </tr>\n",
       "    <tr>\n",
       "      <th>host_response_rate</th>\n",
       "      <td>22.433879</td>\n",
       "    </tr>\n",
       "    <tr>\n",
       "      <th>host_response_time</th>\n",
       "      <td>22.433879</td>\n",
       "    </tr>\n",
       "    <tr>\n",
       "      <th>host_acceptance_rate</th>\n",
       "      <td>21.192425</td>\n",
       "    </tr>\n",
       "    <tr>\n",
       "      <th>host_location</th>\n",
       "      <td>20.630173</td>\n",
       "    </tr>\n",
       "    <tr>\n",
       "      <th>host_neighbourhood</th>\n",
       "      <td>20.594189</td>\n",
       "    </tr>\n",
       "    <tr>\n",
       "      <th>description</th>\n",
       "      <td>1.572058</td>\n",
       "    </tr>\n",
       "    <tr>\n",
       "      <th>beds</th>\n",
       "      <td>1.241454</td>\n",
       "    </tr>\n",
       "    <tr>\n",
       "      <th>bathrooms_text</th>\n",
       "      <td>0.065221</td>\n",
       "    </tr>\n",
       "    <tr>\n",
       "      <th>minimum_maximum_nights</th>\n",
       "      <td>0.008996</td>\n",
       "    </tr>\n",
       "    <tr>\n",
       "      <th>maximum_minimum_nights</th>\n",
       "      <td>0.008996</td>\n",
       "    </tr>\n",
       "    <tr>\n",
       "      <th>minimum_nights_avg_ntm</th>\n",
       "      <td>0.008996</td>\n",
       "    </tr>\n",
       "    <tr>\n",
       "      <th>maximum_nights_avg_ntm</th>\n",
       "      <td>0.008996</td>\n",
       "    </tr>\n",
       "    <tr>\n",
       "      <th>minimum_minimum_nights</th>\n",
       "      <td>0.008996</td>\n",
       "    </tr>\n",
       "    <tr>\n",
       "      <th>maximum_maximum_nights</th>\n",
       "      <td>0.008996</td>\n",
       "    </tr>\n",
       "    <tr>\n",
       "      <th>host_since</th>\n",
       "      <td>0.004498</td>\n",
       "    </tr>\n",
       "    <tr>\n",
       "      <th>host_name</th>\n",
       "      <td>0.004498</td>\n",
       "    </tr>\n",
       "    <tr>\n",
       "      <th>host_identity_verified</th>\n",
       "      <td>0.004498</td>\n",
       "    </tr>\n",
       "    <tr>\n",
       "      <th>host_thumbnail_url</th>\n",
       "      <td>0.004498</td>\n",
       "    </tr>\n",
       "    <tr>\n",
       "      <th>host_picture_url</th>\n",
       "      <td>0.004498</td>\n",
       "    </tr>\n",
       "    <tr>\n",
       "      <th>host_has_profile_pic</th>\n",
       "      <td>0.004498</td>\n",
       "    </tr>\n",
       "    <tr>\n",
       "      <th>host_total_listings_count</th>\n",
       "      <td>0.004498</td>\n",
       "    </tr>\n",
       "    <tr>\n",
       "      <th>host_listings_count</th>\n",
       "      <td>0.004498</td>\n",
       "    </tr>\n",
       "  </tbody>\n",
       "</table>\n",
       "</div>"
      ],
      "text/plain": [
       "                                      0\n",
       "calendar_updated             100.000000\n",
       "bathrooms                    100.000000\n",
       "license                       78.438737\n",
       "host_about                    41.181630\n",
       "neighborhood_overview         41.026448\n",
       "neighbourhood                 41.024199\n",
       "bedrooms                      33.177402\n",
       "review_scores_value           29.106693\n",
       "review_scores_location        29.102195\n",
       "review_scores_checkin         29.097697\n",
       "review_scores_cleanliness     29.088701\n",
       "review_scores_accuracy        29.086452\n",
       "review_scores_communication   29.084203\n",
       "review_scores_rating          28.537693\n",
       "last_review                   28.537693\n",
       "first_review                  28.537693\n",
       "reviews_per_month             28.537693\n",
       "host_is_superhost             26.720493\n",
       "host_response_rate            22.433879\n",
       "host_response_time            22.433879\n",
       "host_acceptance_rate          21.192425\n",
       "host_location                 20.630173\n",
       "host_neighbourhood            20.594189\n",
       "description                    1.572058\n",
       "beds                           1.241454\n",
       "bathrooms_text                 0.065221\n",
       "minimum_maximum_nights         0.008996\n",
       "maximum_minimum_nights         0.008996\n",
       "minimum_nights_avg_ntm         0.008996\n",
       "maximum_nights_avg_ntm         0.008996\n",
       "minimum_minimum_nights         0.008996\n",
       "maximum_maximum_nights         0.008996\n",
       "host_since                     0.004498\n",
       "host_name                      0.004498\n",
       "host_identity_verified         0.004498\n",
       "host_thumbnail_url             0.004498\n",
       "host_picture_url               0.004498\n",
       "host_has_profile_pic           0.004498\n",
       "host_total_listings_count      0.004498\n",
       "host_listings_count            0.004498"
      ]
     },
     "execution_count": 406,
     "metadata": {},
     "output_type": "execute_result"
    }
   ],
   "source": [
    "miss_df = pd.DataFrame.from_dict(miss_per, orient = 'index')\n",
    "miss_df.sort_values(ascending = False, by=[0])"
   ]
  },
  {
   "cell_type": "markdown",
   "id": "b58766b7a07a8da3",
   "metadata": {},
   "source": [
    "## correcting the datatype"
   ]
  },
  {
   "cell_type": "code",
   "execution_count": 407,
   "id": "dde46675a15029c",
   "metadata": {
    "ExecuteTime": {
     "end_time": "2023-11-27T01:55:50.240600700Z",
     "start_time": "2023-11-27T01:55:50.196675700Z"
    }
   },
   "outputs": [],
   "source": [
    "#to-do list\n",
    "#host_since, last_review should be date; \n",
    "#calculate time elapsed till today\n",
    "# host_is_superhost, host_has_profile_pic, host_identity_verified, has_availability, instant_bookable should be boolean\n",
    "#consider whether it has license or not is meaningful, so convert to boolean\n",
    "\n",
    "#property_type has typo and need further examination\n",
    "#check the # of beds if the bedroom is null\n"
   ]
  },
  {
   "cell_type": "code",
   "execution_count": 408,
   "id": "83c714df039baff",
   "metadata": {
    "ExecuteTime": {
     "end_time": "2023-11-27T01:55:50.240600700Z",
     "start_time": "2023-11-27T01:55:50.201211600Z"
    }
   },
   "outputs": [],
   "source": [
    "#pip install xlrd"
   ]
  },
  {
   "cell_type": "code",
   "execution_count": 409,
   "id": "cad1dcb643e8fc46",
   "metadata": {
    "ExecuteTime": {
     "end_time": "2023-11-27T01:55:50.591917500Z",
     "start_time": "2023-11-27T01:55:50.208923200Z"
    }
   },
   "outputs": [
    {
     "name": "stderr",
     "output_type": "stream",
     "text": [
      "C:\\Users\\Zhaoyq\\AppData\\Local\\Temp\\ipykernel_12440\\279311208.py:7: SettingWithCopyWarning: \n",
      "A value is trying to be set on a copy of a slice from a DataFrame.\n",
      "Try using .loc[row_indexer,col_indexer] = value instead\n",
      "\n",
      "See the caveats in the documentation: https://pandas.pydata.org/pandas-docs/stable/user_guide/indexing.html#returning-a-view-versus-a-copy\n",
      "  df['host_since'] = df['host_since'].apply(lambda x: np.int32(x) if not pd.isnull(x) else 0)\n",
      "C:\\Users\\Zhaoyq\\AppData\\Local\\Temp\\ipykernel_12440\\279311208.py:8: SettingWithCopyWarning: \n",
      "A value is trying to be set on a copy of a slice from a DataFrame.\n",
      "Try using .loc[row_indexer,col_indexer] = value instead\n",
      "\n",
      "See the caveats in the documentation: https://pandas.pydata.org/pandas-docs/stable/user_guide/indexing.html#returning-a-view-versus-a-copy\n",
      "  df['host_since'] = df['host_since'].apply(lambda x: xlrd.xldate_as_datetime(x, 0) if x!=0 else pd.NaT)\n"
     ]
    },
    {
     "data": {
      "text/plain": [
       "0       2011-05-31\n",
       "1       2010-07-20\n",
       "2       2008-06-27\n",
       "3       2011-06-23\n",
       "4       2017-10-24\n",
       "           ...    \n",
       "44459   2020-01-07\n",
       "44460   2019-05-30\n",
       "44461   2019-05-30\n",
       "44462   2021-02-27\n",
       "44463   2021-02-27\n",
       "Name: host_since, Length: 44462, dtype: datetime64[ns]"
      ]
     },
     "execution_count": 409,
     "metadata": {},
     "output_type": "execute_result"
    }
   ],
   "source": [
    "#host_since, last_review should be date; \n",
    "from datetime import datetime\n",
    "import xlrd\n",
    "df = df[df['host_since'].isnull() == False]\n",
    "df['host_since'].isnull().sum()\n",
    "# df['host_since'] = df['host_since'].astype('int64')\n",
    "df['host_since'] = df['host_since'].apply(lambda x: np.int32(x) if not pd.isnull(x) else 0)\n",
    "df['host_since'] = df['host_since'].apply(lambda x: xlrd.xldate_as_datetime(x, 0) if x!=0 else pd.NaT)\n",
    "df['host_since']"
   ]
  },
  {
   "cell_type": "code",
   "execution_count": 410,
   "id": "ccddb1562a18e66d",
   "metadata": {
    "ExecuteTime": {
     "end_time": "2023-11-27T01:55:50.895470100Z",
     "start_time": "2023-11-27T01:55:50.591917500Z"
    }
   },
   "outputs": [
    {
     "name": "stderr",
     "output_type": "stream",
     "text": [
      "C:\\Users\\Zhaoyq\\AppData\\Local\\Temp\\ipykernel_12440\\4158542427.py:1: SettingWithCopyWarning: \n",
      "A value is trying to be set on a copy of a slice from a DataFrame.\n",
      "Try using .loc[row_indexer,col_indexer] = value instead\n",
      "\n",
      "See the caveats in the documentation: https://pandas.pydata.org/pandas-docs/stable/user_guide/indexing.html#returning-a-view-versus-a-copy\n",
      "  df['last_review'] = df['last_review'].apply(lambda x: np.int32(x) if not pd.isnull(x) else 0 )\n",
      "C:\\Users\\Zhaoyq\\AppData\\Local\\Temp\\ipykernel_12440\\4158542427.py:2: SettingWithCopyWarning: \n",
      "A value is trying to be set on a copy of a slice from a DataFrame.\n",
      "Try using .loc[row_indexer,col_indexer] = value instead\n",
      "\n",
      "See the caveats in the documentation: https://pandas.pydata.org/pandas-docs/stable/user_guide/indexing.html#returning-a-view-versus-a-copy\n",
      "  df['last_review'] = df['last_review'].apply(lambda x: xlrd.xldate_as_datetime(x, 0) if x!=0 else pd.NaT)\n"
     ]
    },
    {
     "data": {
      "text/plain": [
       "0       2020-11-29\n",
       "1       2018-08-24\n",
       "2       2016-05-15\n",
       "3       2013-05-24\n",
       "4       2023-05-18\n",
       "           ...    \n",
       "44459          NaT\n",
       "44460          NaT\n",
       "44461          NaT\n",
       "44462          NaT\n",
       "44463          NaT\n",
       "Name: last_review, Length: 44462, dtype: datetime64[ns]"
      ]
     },
     "execution_count": 410,
     "metadata": {},
     "output_type": "execute_result"
    }
   ],
   "source": [
    "df['last_review'] = df['last_review'].apply(lambda x: np.int32(x) if not pd.isnull(x) else 0 )\n",
    "df['last_review'] = df['last_review'].apply(lambda x: xlrd.xldate_as_datetime(x, 0) if x!=0 else pd.NaT)\n",
    "df['last_review'] "
   ]
  },
  {
   "cell_type": "code",
   "execution_count": 411,
   "id": "ed0ffd5297bfba36",
   "metadata": {
    "ExecuteTime": {
     "end_time": "2023-11-27T01:55:50.895984600Z",
     "start_time": "2023-11-27T01:55:50.876563100Z"
    }
   },
   "outputs": [
    {
     "name": "stderr",
     "output_type": "stream",
     "text": [
      "C:\\Users\\Zhaoyq\\AppData\\Local\\Temp\\ipykernel_12440\\2808660901.py:4: SettingWithCopyWarning: \n",
      "A value is trying to be set on a copy of a slice from a DataFrame.\n",
      "Try using .loc[row_indexer,col_indexer] = value instead\n",
      "\n",
      "See the caveats in the documentation: https://pandas.pydata.org/pandas-docs/stable/user_guide/indexing.html#returning-a-view-versus-a-copy\n",
      "  df['host_since_elapsed'] = round((today - df['host_since']) / np.timedelta64(1, 'M'), 0)\n",
      "C:\\Users\\Zhaoyq\\AppData\\Local\\Temp\\ipykernel_12440\\2808660901.py:5: SettingWithCopyWarning: \n",
      "A value is trying to be set on a copy of a slice from a DataFrame.\n",
      "Try using .loc[row_indexer,col_indexer] = value instead\n",
      "\n",
      "See the caveats in the documentation: https://pandas.pydata.org/pandas-docs/stable/user_guide/indexing.html#returning-a-view-versus-a-copy\n",
      "  df['last_review_elapsed'] = round((today - df['last_review']) / np.timedelta64(1, 'M'), 0)\n"
     ]
    },
    {
     "data": {
      "text/html": [
       "<div>\n",
       "<style scoped>\n",
       "    .dataframe tbody tr th:only-of-type {\n",
       "        vertical-align: middle;\n",
       "    }\n",
       "\n",
       "    .dataframe tbody tr th {\n",
       "        vertical-align: top;\n",
       "    }\n",
       "\n",
       "    .dataframe thead th {\n",
       "        text-align: right;\n",
       "    }\n",
       "</style>\n",
       "<table border=\"1\" class=\"dataframe\">\n",
       "  <thead>\n",
       "    <tr style=\"text-align: right;\">\n",
       "      <th></th>\n",
       "      <th>id</th>\n",
       "      <th>listing_url</th>\n",
       "      <th>scrape_id</th>\n",
       "      <th>last_scraped</th>\n",
       "      <th>source</th>\n",
       "      <th>name</th>\n",
       "      <th>description</th>\n",
       "      <th>neighborhood_overview</th>\n",
       "      <th>picture_url</th>\n",
       "      <th>host_id</th>\n",
       "      <th>...</th>\n",
       "      <th>review_scores_value</th>\n",
       "      <th>license</th>\n",
       "      <th>instant_bookable</th>\n",
       "      <th>calculated_host_listings_count</th>\n",
       "      <th>calculated_host_listings_count_entire_homes</th>\n",
       "      <th>calculated_host_listings_count_private_rooms</th>\n",
       "      <th>calculated_host_listings_count_shared_rooms</th>\n",
       "      <th>reviews_per_month</th>\n",
       "      <th>host_since_elapsed</th>\n",
       "      <th>last_review_elapsed</th>\n",
       "    </tr>\n",
       "  </thead>\n",
       "  <tbody>\n",
       "    <tr>\n",
       "      <th>0</th>\n",
       "      <td>150097</td>\n",
       "      <td>https://www.airbnb.com/rooms/150097</td>\n",
       "      <td>20230606052736</td>\n",
       "      <td>45084</td>\n",
       "      <td>city scrape</td>\n",
       "      <td>Bed and breakfast in North Hollywood · ★4.96 ·...</td>\n",
       "      <td>Welcome to our guest studio house! private ent...</td>\n",
       "      <td>The house is located in a quiet residential ne...</td>\n",
       "      <td>https://a0.muscache.com/pictures/6793974d-9fb2...</td>\n",
       "      <td>647546</td>\n",
       "      <td>...</td>\n",
       "      <td>4.95</td>\n",
       "      <td>NaN</td>\n",
       "      <td>f</td>\n",
       "      <td>4</td>\n",
       "      <td>1</td>\n",
       "      <td>3</td>\n",
       "      <td>0</td>\n",
       "      <td>1.67</td>\n",
       "      <td>150.0</td>\n",
       "      <td>36.0</td>\n",
       "    </tr>\n",
       "    <tr>\n",
       "      <th>1</th>\n",
       "      <td>40667</td>\n",
       "      <td>https://www.airbnb.com/rooms/40667</td>\n",
       "      <td>20230606052736</td>\n",
       "      <td>45084</td>\n",
       "      <td>city scrape</td>\n",
       "      <td>Rental unit in Los Angeles · ★4.30 · 1 bedroom...</td>\n",
       "      <td>&lt;b&gt;The space&lt;/b&gt;&lt;br /&gt;Nice, quiet  master bedr...</td>\n",
       "      <td>NaN</td>\n",
       "      <td>https://a0.muscache.com/pictures/70033015/cb7f...</td>\n",
       "      <td>175264</td>\n",
       "      <td>...</td>\n",
       "      <td>4.45</td>\n",
       "      <td>NaN</td>\n",
       "      <td>f</td>\n",
       "      <td>1</td>\n",
       "      <td>0</td>\n",
       "      <td>1</td>\n",
       "      <td>0</td>\n",
       "      <td>0.08</td>\n",
       "      <td>160.0</td>\n",
       "      <td>63.0</td>\n",
       "    </tr>\n",
       "    <tr>\n",
       "      <th>2</th>\n",
       "      <td>109</td>\n",
       "      <td>https://www.airbnb.com/rooms/109</td>\n",
       "      <td>20230606052736</td>\n",
       "      <td>45084</td>\n",
       "      <td>city scrape</td>\n",
       "      <td>Condo in Culver City · 2 bedrooms · 2 beds · 2...</td>\n",
       "      <td>*** Unit upgraded with new bamboo flooring, ne...</td>\n",
       "      <td>NaN</td>\n",
       "      <td>https://a0.muscache.com/pictures/miso/Hosting-...</td>\n",
       "      <td>521</td>\n",
       "      <td>...</td>\n",
       "      <td>4.00</td>\n",
       "      <td>NaN</td>\n",
       "      <td>f</td>\n",
       "      <td>1</td>\n",
       "      <td>1</td>\n",
       "      <td>0</td>\n",
       "      <td>0</td>\n",
       "      <td>0.01</td>\n",
       "      <td>185.0</td>\n",
       "      <td>90.0</td>\n",
       "    </tr>\n",
       "    <tr>\n",
       "      <th>3</th>\n",
       "      <td>152514</td>\n",
       "      <td>https://www.airbnb.com/rooms/152514</td>\n",
       "      <td>20230606052736</td>\n",
       "      <td>45084</td>\n",
       "      <td>city scrape</td>\n",
       "      <td>Guesthouse in Manhattan Beach · 1 bedroom · 1 ...</td>\n",
       "      <td>Wake up to the sound of waves crashing on the ...</td>\n",
       "      <td>NaN</td>\n",
       "      <td>https://a0.muscache.com/pictures/prohost-api/H...</td>\n",
       "      <td>733870</td>\n",
       "      <td>...</td>\n",
       "      <td>4.00</td>\n",
       "      <td>NaN</td>\n",
       "      <td>f</td>\n",
       "      <td>2</td>\n",
       "      <td>2</td>\n",
       "      <td>0</td>\n",
       "      <td>0</td>\n",
       "      <td>0.01</td>\n",
       "      <td>149.0</td>\n",
       "      <td>126.0</td>\n",
       "    </tr>\n",
       "    <tr>\n",
       "      <th>4</th>\n",
       "      <td>43318</td>\n",
       "      <td>https://www.airbnb.com/rooms/43318</td>\n",
       "      <td>20230606052736</td>\n",
       "      <td>45084</td>\n",
       "      <td>city scrape</td>\n",
       "      <td>Hostel in Los Angeles · ★4.37 · 1 bedroom · 1 ...</td>\n",
       "      <td>Best value in most exciting part of DTLA!  Wal...</td>\n",
       "      <td>Little Tokyo is the most vibrant area of downt...</td>\n",
       "      <td>https://a0.muscache.com/pictures/938a66db-d66b...</td>\n",
       "      <td>156094545</td>\n",
       "      <td>...</td>\n",
       "      <td>4.53</td>\n",
       "      <td>Exempt - This listing is a hotel or motel</td>\n",
       "      <td>f</td>\n",
       "      <td>14</td>\n",
       "      <td>0</td>\n",
       "      <td>14</td>\n",
       "      <td>0</td>\n",
       "      <td>0.72</td>\n",
       "      <td>73.0</td>\n",
       "      <td>6.0</td>\n",
       "    </tr>\n",
       "  </tbody>\n",
       "</table>\n",
       "<p>5 rows × 77 columns</p>\n",
       "</div>"
      ],
      "text/plain": [
       "       id                          listing_url       scrape_id  last_scraped  \\\n",
       "0  150097  https://www.airbnb.com/rooms/150097  20230606052736         45084   \n",
       "1   40667   https://www.airbnb.com/rooms/40667  20230606052736         45084   \n",
       "2     109     https://www.airbnb.com/rooms/109  20230606052736         45084   \n",
       "3  152514  https://www.airbnb.com/rooms/152514  20230606052736         45084   \n",
       "4   43318   https://www.airbnb.com/rooms/43318  20230606052736         45084   \n",
       "\n",
       "        source                                               name  \\\n",
       "0  city scrape  Bed and breakfast in North Hollywood · ★4.96 ·...   \n",
       "1  city scrape  Rental unit in Los Angeles · ★4.30 · 1 bedroom...   \n",
       "2  city scrape  Condo in Culver City · 2 bedrooms · 2 beds · 2...   \n",
       "3  city scrape  Guesthouse in Manhattan Beach · 1 bedroom · 1 ...   \n",
       "4  city scrape  Hostel in Los Angeles · ★4.37 · 1 bedroom · 1 ...   \n",
       "\n",
       "                                         description  \\\n",
       "0  Welcome to our guest studio house! private ent...   \n",
       "1  <b>The space</b><br />Nice, quiet  master bedr...   \n",
       "2  *** Unit upgraded with new bamboo flooring, ne...   \n",
       "3  Wake up to the sound of waves crashing on the ...   \n",
       "4  Best value in most exciting part of DTLA!  Wal...   \n",
       "\n",
       "                               neighborhood_overview  \\\n",
       "0  The house is located in a quiet residential ne...   \n",
       "1                                                NaN   \n",
       "2                                                NaN   \n",
       "3                                                NaN   \n",
       "4  Little Tokyo is the most vibrant area of downt...   \n",
       "\n",
       "                                         picture_url    host_id  ...  \\\n",
       "0  https://a0.muscache.com/pictures/6793974d-9fb2...     647546  ...   \n",
       "1  https://a0.muscache.com/pictures/70033015/cb7f...     175264  ...   \n",
       "2  https://a0.muscache.com/pictures/miso/Hosting-...        521  ...   \n",
       "3  https://a0.muscache.com/pictures/prohost-api/H...     733870  ...   \n",
       "4  https://a0.muscache.com/pictures/938a66db-d66b...  156094545  ...   \n",
       "\n",
       "  review_scores_value                                    license  \\\n",
       "0                4.95                                        NaN   \n",
       "1                4.45                                        NaN   \n",
       "2                4.00                                        NaN   \n",
       "3                4.00                                        NaN   \n",
       "4                4.53  Exempt - This listing is a hotel or motel   \n",
       "\n",
       "  instant_bookable calculated_host_listings_count  \\\n",
       "0                f                              4   \n",
       "1                f                              1   \n",
       "2                f                              1   \n",
       "3                f                              2   \n",
       "4                f                             14   \n",
       "\n",
       "  calculated_host_listings_count_entire_homes  \\\n",
       "0                                           1   \n",
       "1                                           0   \n",
       "2                                           1   \n",
       "3                                           2   \n",
       "4                                           0   \n",
       "\n",
       "  calculated_host_listings_count_private_rooms  \\\n",
       "0                                            3   \n",
       "1                                            1   \n",
       "2                                            0   \n",
       "3                                            0   \n",
       "4                                           14   \n",
       "\n",
       "   calculated_host_listings_count_shared_rooms  reviews_per_month  \\\n",
       "0                                            0               1.67   \n",
       "1                                            0               0.08   \n",
       "2                                            0               0.01   \n",
       "3                                            0               0.01   \n",
       "4                                            0               0.72   \n",
       "\n",
       "  host_since_elapsed last_review_elapsed  \n",
       "0              150.0                36.0  \n",
       "1              160.0                63.0  \n",
       "2              185.0                90.0  \n",
       "3              149.0               126.0  \n",
       "4               73.0                 6.0  \n",
       "\n",
       "[5 rows x 77 columns]"
      ]
     },
     "execution_count": 411,
     "metadata": {},
     "output_type": "execute_result"
    }
   ],
   "source": [
    "# Time elapsed till today\n",
    "#assumption to be tested: earlier the host registered, higher the price(host reputation); earlier the last review posted, higher the price(property popularity)\n",
    "today = datetime.today()\n",
    "df['host_since_elapsed'] = round((today - df['host_since']) / np.timedelta64(1, 'M'), 0)\n",
    "df['last_review_elapsed'] = round((today - df['last_review']) / np.timedelta64(1, 'M'), 0)\n",
    "df.head()"
   ]
  },
  {
   "cell_type": "code",
   "execution_count": 412,
   "id": "4138c36ccf12154c",
   "metadata": {
    "ExecuteTime": {
     "end_time": "2023-11-27T01:55:51.888250800Z",
     "start_time": "2023-11-27T01:55:51.667732900Z"
    }
   },
   "outputs": [
    {
     "name": "stderr",
     "output_type": "stream",
     "text": [
      "C:\\Users\\Zhaoyq\\AppData\\Local\\Temp\\ipykernel_12440\\667386229.py:4: SettingWithCopyWarning: \n",
      "A value is trying to be set on a copy of a slice from a DataFrame.\n",
      "Try using .loc[row_indexer,col_indexer] = value instead\n",
      "\n",
      "See the caveats in the documentation: https://pandas.pydata.org/pandas-docs/stable/user_guide/indexing.html#returning-a-view-versus-a-copy\n",
      "  df[i] = df[i].apply(lambda x: x == 't' if not pd.isnull(x) else np.nan )\n"
     ]
    },
    {
     "data": {
      "text/html": [
       "<div>\n",
       "<style scoped>\n",
       "    .dataframe tbody tr th:only-of-type {\n",
       "        vertical-align: middle;\n",
       "    }\n",
       "\n",
       "    .dataframe tbody tr th {\n",
       "        vertical-align: top;\n",
       "    }\n",
       "\n",
       "    .dataframe thead th {\n",
       "        text-align: right;\n",
       "    }\n",
       "</style>\n",
       "<table border=\"1\" class=\"dataframe\">\n",
       "  <thead>\n",
       "    <tr style=\"text-align: right;\">\n",
       "      <th></th>\n",
       "      <th>id</th>\n",
       "      <th>listing_url</th>\n",
       "      <th>scrape_id</th>\n",
       "      <th>last_scraped</th>\n",
       "      <th>source</th>\n",
       "      <th>name</th>\n",
       "      <th>description</th>\n",
       "      <th>neighborhood_overview</th>\n",
       "      <th>picture_url</th>\n",
       "      <th>host_id</th>\n",
       "      <th>...</th>\n",
       "      <th>review_scores_value</th>\n",
       "      <th>license</th>\n",
       "      <th>instant_bookable</th>\n",
       "      <th>calculated_host_listings_count</th>\n",
       "      <th>calculated_host_listings_count_entire_homes</th>\n",
       "      <th>calculated_host_listings_count_private_rooms</th>\n",
       "      <th>calculated_host_listings_count_shared_rooms</th>\n",
       "      <th>reviews_per_month</th>\n",
       "      <th>host_since_elapsed</th>\n",
       "      <th>last_review_elapsed</th>\n",
       "    </tr>\n",
       "  </thead>\n",
       "  <tbody>\n",
       "    <tr>\n",
       "      <th>0</th>\n",
       "      <td>150097</td>\n",
       "      <td>https://www.airbnb.com/rooms/150097</td>\n",
       "      <td>20230606052736</td>\n",
       "      <td>45084</td>\n",
       "      <td>city scrape</td>\n",
       "      <td>Bed and breakfast in North Hollywood · ★4.96 ·...</td>\n",
       "      <td>Welcome to our guest studio house! private ent...</td>\n",
       "      <td>The house is located in a quiet residential ne...</td>\n",
       "      <td>https://a0.muscache.com/pictures/6793974d-9fb2...</td>\n",
       "      <td>647546</td>\n",
       "      <td>...</td>\n",
       "      <td>4.95</td>\n",
       "      <td>NaN</td>\n",
       "      <td>False</td>\n",
       "      <td>4</td>\n",
       "      <td>1</td>\n",
       "      <td>3</td>\n",
       "      <td>0</td>\n",
       "      <td>1.67</td>\n",
       "      <td>150.0</td>\n",
       "      <td>36.0</td>\n",
       "    </tr>\n",
       "    <tr>\n",
       "      <th>1</th>\n",
       "      <td>40667</td>\n",
       "      <td>https://www.airbnb.com/rooms/40667</td>\n",
       "      <td>20230606052736</td>\n",
       "      <td>45084</td>\n",
       "      <td>city scrape</td>\n",
       "      <td>Rental unit in Los Angeles · ★4.30 · 1 bedroom...</td>\n",
       "      <td>&lt;b&gt;The space&lt;/b&gt;&lt;br /&gt;Nice, quiet  master bedr...</td>\n",
       "      <td>NaN</td>\n",
       "      <td>https://a0.muscache.com/pictures/70033015/cb7f...</td>\n",
       "      <td>175264</td>\n",
       "      <td>...</td>\n",
       "      <td>4.45</td>\n",
       "      <td>NaN</td>\n",
       "      <td>False</td>\n",
       "      <td>1</td>\n",
       "      <td>0</td>\n",
       "      <td>1</td>\n",
       "      <td>0</td>\n",
       "      <td>0.08</td>\n",
       "      <td>160.0</td>\n",
       "      <td>63.0</td>\n",
       "    </tr>\n",
       "    <tr>\n",
       "      <th>2</th>\n",
       "      <td>109</td>\n",
       "      <td>https://www.airbnb.com/rooms/109</td>\n",
       "      <td>20230606052736</td>\n",
       "      <td>45084</td>\n",
       "      <td>city scrape</td>\n",
       "      <td>Condo in Culver City · 2 bedrooms · 2 beds · 2...</td>\n",
       "      <td>*** Unit upgraded with new bamboo flooring, ne...</td>\n",
       "      <td>NaN</td>\n",
       "      <td>https://a0.muscache.com/pictures/miso/Hosting-...</td>\n",
       "      <td>521</td>\n",
       "      <td>...</td>\n",
       "      <td>4.00</td>\n",
       "      <td>NaN</td>\n",
       "      <td>False</td>\n",
       "      <td>1</td>\n",
       "      <td>1</td>\n",
       "      <td>0</td>\n",
       "      <td>0</td>\n",
       "      <td>0.01</td>\n",
       "      <td>185.0</td>\n",
       "      <td>90.0</td>\n",
       "    </tr>\n",
       "    <tr>\n",
       "      <th>3</th>\n",
       "      <td>152514</td>\n",
       "      <td>https://www.airbnb.com/rooms/152514</td>\n",
       "      <td>20230606052736</td>\n",
       "      <td>45084</td>\n",
       "      <td>city scrape</td>\n",
       "      <td>Guesthouse in Manhattan Beach · 1 bedroom · 1 ...</td>\n",
       "      <td>Wake up to the sound of waves crashing on the ...</td>\n",
       "      <td>NaN</td>\n",
       "      <td>https://a0.muscache.com/pictures/prohost-api/H...</td>\n",
       "      <td>733870</td>\n",
       "      <td>...</td>\n",
       "      <td>4.00</td>\n",
       "      <td>NaN</td>\n",
       "      <td>False</td>\n",
       "      <td>2</td>\n",
       "      <td>2</td>\n",
       "      <td>0</td>\n",
       "      <td>0</td>\n",
       "      <td>0.01</td>\n",
       "      <td>149.0</td>\n",
       "      <td>126.0</td>\n",
       "    </tr>\n",
       "    <tr>\n",
       "      <th>4</th>\n",
       "      <td>43318</td>\n",
       "      <td>https://www.airbnb.com/rooms/43318</td>\n",
       "      <td>20230606052736</td>\n",
       "      <td>45084</td>\n",
       "      <td>city scrape</td>\n",
       "      <td>Hostel in Los Angeles · ★4.37 · 1 bedroom · 1 ...</td>\n",
       "      <td>Best value in most exciting part of DTLA!  Wal...</td>\n",
       "      <td>Little Tokyo is the most vibrant area of downt...</td>\n",
       "      <td>https://a0.muscache.com/pictures/938a66db-d66b...</td>\n",
       "      <td>156094545</td>\n",
       "      <td>...</td>\n",
       "      <td>4.53</td>\n",
       "      <td>Exempt - This listing is a hotel or motel</td>\n",
       "      <td>False</td>\n",
       "      <td>14</td>\n",
       "      <td>0</td>\n",
       "      <td>14</td>\n",
       "      <td>0</td>\n",
       "      <td>0.72</td>\n",
       "      <td>73.0</td>\n",
       "      <td>6.0</td>\n",
       "    </tr>\n",
       "  </tbody>\n",
       "</table>\n",
       "<p>5 rows × 77 columns</p>\n",
       "</div>"
      ],
      "text/plain": [
       "       id                          listing_url       scrape_id  last_scraped  \\\n",
       "0  150097  https://www.airbnb.com/rooms/150097  20230606052736         45084   \n",
       "1   40667   https://www.airbnb.com/rooms/40667  20230606052736         45084   \n",
       "2     109     https://www.airbnb.com/rooms/109  20230606052736         45084   \n",
       "3  152514  https://www.airbnb.com/rooms/152514  20230606052736         45084   \n",
       "4   43318   https://www.airbnb.com/rooms/43318  20230606052736         45084   \n",
       "\n",
       "        source                                               name  \\\n",
       "0  city scrape  Bed and breakfast in North Hollywood · ★4.96 ·...   \n",
       "1  city scrape  Rental unit in Los Angeles · ★4.30 · 1 bedroom...   \n",
       "2  city scrape  Condo in Culver City · 2 bedrooms · 2 beds · 2...   \n",
       "3  city scrape  Guesthouse in Manhattan Beach · 1 bedroom · 1 ...   \n",
       "4  city scrape  Hostel in Los Angeles · ★4.37 · 1 bedroom · 1 ...   \n",
       "\n",
       "                                         description  \\\n",
       "0  Welcome to our guest studio house! private ent...   \n",
       "1  <b>The space</b><br />Nice, quiet  master bedr...   \n",
       "2  *** Unit upgraded with new bamboo flooring, ne...   \n",
       "3  Wake up to the sound of waves crashing on the ...   \n",
       "4  Best value in most exciting part of DTLA!  Wal...   \n",
       "\n",
       "                               neighborhood_overview  \\\n",
       "0  The house is located in a quiet residential ne...   \n",
       "1                                                NaN   \n",
       "2                                                NaN   \n",
       "3                                                NaN   \n",
       "4  Little Tokyo is the most vibrant area of downt...   \n",
       "\n",
       "                                         picture_url    host_id  ...  \\\n",
       "0  https://a0.muscache.com/pictures/6793974d-9fb2...     647546  ...   \n",
       "1  https://a0.muscache.com/pictures/70033015/cb7f...     175264  ...   \n",
       "2  https://a0.muscache.com/pictures/miso/Hosting-...        521  ...   \n",
       "3  https://a0.muscache.com/pictures/prohost-api/H...     733870  ...   \n",
       "4  https://a0.muscache.com/pictures/938a66db-d66b...  156094545  ...   \n",
       "\n",
       "  review_scores_value                                    license  \\\n",
       "0                4.95                                        NaN   \n",
       "1                4.45                                        NaN   \n",
       "2                4.00                                        NaN   \n",
       "3                4.00                                        NaN   \n",
       "4                4.53  Exempt - This listing is a hotel or motel   \n",
       "\n",
       "  instant_bookable calculated_host_listings_count  \\\n",
       "0            False                              4   \n",
       "1            False                              1   \n",
       "2            False                              1   \n",
       "3            False                              2   \n",
       "4            False                             14   \n",
       "\n",
       "  calculated_host_listings_count_entire_homes  \\\n",
       "0                                           1   \n",
       "1                                           0   \n",
       "2                                           1   \n",
       "3                                           2   \n",
       "4                                           0   \n",
       "\n",
       "  calculated_host_listings_count_private_rooms  \\\n",
       "0                                            3   \n",
       "1                                            1   \n",
       "2                                            0   \n",
       "3                                            0   \n",
       "4                                           14   \n",
       "\n",
       "   calculated_host_listings_count_shared_rooms  reviews_per_month  \\\n",
       "0                                            0               1.67   \n",
       "1                                            0               0.08   \n",
       "2                                            0               0.01   \n",
       "3                                            0               0.01   \n",
       "4                                            0               0.72   \n",
       "\n",
       "  host_since_elapsed last_review_elapsed  \n",
       "0              150.0                36.0  \n",
       "1              160.0                63.0  \n",
       "2              185.0                90.0  \n",
       "3              149.0               126.0  \n",
       "4               73.0                 6.0  \n",
       "\n",
       "[5 rows x 77 columns]"
      ]
     },
     "execution_count": 412,
     "metadata": {},
     "output_type": "execute_result"
    }
   ],
   "source": [
    "# host_is_superhost, host_has_profile_pic, host_identity_verified, has_availability, instant_bookable should be boolean\n",
    "list1 = ['host_is_superhost', 'host_has_profile_pic', 'host_identity_verified', 'has_availability', 'instant_bookable']\n",
    "for i in list1:\n",
    "    df[i] = df[i].apply(lambda x: x == 't' if not pd.isnull(x) else np.nan )\n",
    "df.head()"
   ]
  },
  {
   "cell_type": "code",
   "execution_count": 413,
   "id": "779b3eb877b34756",
   "metadata": {
    "ExecuteTime": {
     "end_time": "2023-11-27T01:55:51.982874200Z",
     "start_time": "2023-11-27T01:55:51.888250800Z"
    }
   },
   "outputs": [
    {
     "name": "stderr",
     "output_type": "stream",
     "text": [
      "C:\\Users\\Zhaoyq\\AppData\\Local\\Temp\\ipykernel_12440\\4242438962.py:3: SettingWithCopyWarning: \n",
      "A value is trying to be set on a copy of a slice from a DataFrame.\n",
      "Try using .loc[row_indexer,col_indexer] = value instead\n",
      "\n",
      "See the caveats in the documentation: https://pandas.pydata.org/pandas-docs/stable/user_guide/indexing.html#returning-a-view-versus-a-copy\n",
      "  df['license'] = df['license'].apply(lambda x: True if not pd.isna(x) else False)\n"
     ]
    },
    {
     "data": {
      "text/plain": [
       "0        False\n",
       "1        False\n",
       "2        False\n",
       "3        False\n",
       "4         True\n",
       "         ...  \n",
       "44459    False\n",
       "44460    False\n",
       "44461    False\n",
       "44462    False\n",
       "44463    False\n",
       "Name: license, Length: 44462, dtype: bool"
      ]
     },
     "execution_count": 413,
     "metadata": {},
     "output_type": "execute_result"
    }
   ],
   "source": [
    "#consider whether it has license or not is meaningful, so convert to boolean\n",
    "#assumption to be tested: property without license is hotel or motel, may have a higher or lower price\n",
    "df['license'] = df['license'].apply(lambda x: True if not pd.isna(x) else False)\n",
    "df['license'] "
   ]
  },
  {
   "cell_type": "code",
   "execution_count": 414,
   "id": "973911b25362ba27",
   "metadata": {
    "ExecuteTime": {
     "end_time": "2023-11-27T01:55:52.320142900Z",
     "start_time": "2023-11-27T01:55:52.068723300Z"
    }
   },
   "outputs": [
    {
     "name": "stderr",
     "output_type": "stream",
     "text": [
      "C:\\Users\\Zhaoyq\\AppData\\Local\\Temp\\ipykernel_12440\\2730555201.py:2: SettingWithCopyWarning: \n",
      "A value is trying to be set on a copy of a slice from a DataFrame.\n",
      "Try using .loc[row_indexer,col_indexer] = value instead\n",
      "\n",
      "See the caveats in the documentation: https://pandas.pydata.org/pandas-docs/stable/user_guide/indexing.html#returning-a-view-versus-a-copy\n",
      "  df['price'] = df['price'].astype('float64')\n"
     ]
    },
    {
     "data": {
      "text/plain": [
       "dtype('float64')"
      ]
     },
     "execution_count": 414,
     "metadata": {},
     "output_type": "execute_result"
    }
   ],
   "source": [
    "#convert variable price to float point number\n",
    "df['price'] = df['price'].astype('float64')\n",
    "df['price'].dtype"
   ]
  },
  {
   "cell_type": "markdown",
   "id": "a13825831613f45",
   "metadata": {},
   "source": [
    "## remove obviously irrelevant column"
   ]
  },
  {
   "cell_type": "code",
   "execution_count": 415,
   "id": "f3f835d8d54b2a5",
   "metadata": {
    "ExecuteTime": {
     "end_time": "2023-11-27T01:55:52.886875900Z",
     "start_time": "2023-11-27T01:55:52.813513100Z"
    }
   },
   "outputs": [],
   "source": [
    "#drop bathrooms,calendar_last_scraped,first_review,calendar_updated\n",
    "df = df.drop(['bathrooms','calendar_last_scraped','first_review','calendar_updated'],axis=1)\n",
    "df = df.drop(['id', 'listing_url', 'scrape_id', 'last_scraped', 'source'],axis=1)"
   ]
  },
  {
   "cell_type": "code",
   "execution_count": 416,
   "id": "7dc1e8c222c49041",
   "metadata": {
    "ExecuteTime": {
     "end_time": "2023-11-27T01:55:54.831429700Z",
     "start_time": "2023-11-27T01:55:54.765720700Z"
    }
   },
   "outputs": [],
   "source": [
    "df.drop(list(df.filter(regex='url')), axis=1, inplace=True)"
   ]
  },
  {
   "cell_type": "code",
   "execution_count": 417,
   "id": "7f7099c19285236c",
   "metadata": {
    "ExecuteTime": {
     "end_time": "2023-11-27T01:55:54.890262700Z",
     "start_time": "2023-11-27T01:55:54.831429700Z"
    }
   },
   "outputs": [
    {
     "data": {
      "text/html": [
       "<div>\n",
       "<style scoped>\n",
       "    .dataframe tbody tr th:only-of-type {\n",
       "        vertical-align: middle;\n",
       "    }\n",
       "\n",
       "    .dataframe tbody tr th {\n",
       "        vertical-align: top;\n",
       "    }\n",
       "\n",
       "    .dataframe thead th {\n",
       "        text-align: right;\n",
       "    }\n",
       "</style>\n",
       "<table border=\"1\" class=\"dataframe\">\n",
       "  <thead>\n",
       "    <tr style=\"text-align: right;\">\n",
       "      <th></th>\n",
       "      <th>name</th>\n",
       "      <th>description</th>\n",
       "      <th>neighborhood_overview</th>\n",
       "      <th>host_id</th>\n",
       "      <th>host_name</th>\n",
       "      <th>host_since</th>\n",
       "      <th>host_location</th>\n",
       "      <th>host_about</th>\n",
       "      <th>host_response_time</th>\n",
       "      <th>host_response_rate</th>\n",
       "      <th>...</th>\n",
       "      <th>review_scores_value</th>\n",
       "      <th>license</th>\n",
       "      <th>instant_bookable</th>\n",
       "      <th>calculated_host_listings_count</th>\n",
       "      <th>calculated_host_listings_count_entire_homes</th>\n",
       "      <th>calculated_host_listings_count_private_rooms</th>\n",
       "      <th>calculated_host_listings_count_shared_rooms</th>\n",
       "      <th>reviews_per_month</th>\n",
       "      <th>host_since_elapsed</th>\n",
       "      <th>last_review_elapsed</th>\n",
       "    </tr>\n",
       "  </thead>\n",
       "  <tbody>\n",
       "    <tr>\n",
       "      <th>0</th>\n",
       "      <td>Bed and breakfast in North Hollywood · ★4.96 ·...</td>\n",
       "      <td>Welcome to our guest studio house! private ent...</td>\n",
       "      <td>The house is located in a quiet residential ne...</td>\n",
       "      <td>647546</td>\n",
       "      <td>Marco</td>\n",
       "      <td>2011-05-31</td>\n",
       "      <td>North Hollywood, CA</td>\n",
       "      <td>Hey, I'm Marco!\\r\\n\\r\\nWelcome, your comfort a...</td>\n",
       "      <td>within an hour</td>\n",
       "      <td>1.0</td>\n",
       "      <td>...</td>\n",
       "      <td>4.95</td>\n",
       "      <td>False</td>\n",
       "      <td>False</td>\n",
       "      <td>4</td>\n",
       "      <td>1</td>\n",
       "      <td>3</td>\n",
       "      <td>0</td>\n",
       "      <td>1.67</td>\n",
       "      <td>150.0</td>\n",
       "      <td>36.0</td>\n",
       "    </tr>\n",
       "    <tr>\n",
       "      <th>1</th>\n",
       "      <td>Rental unit in Los Angeles · ★4.30 · 1 bedroom...</td>\n",
       "      <td>&lt;b&gt;The space&lt;/b&gt;&lt;br /&gt;Nice, quiet  master bedr...</td>\n",
       "      <td>NaN</td>\n",
       "      <td>175264</td>\n",
       "      <td>Michael</td>\n",
       "      <td>2010-07-20</td>\n",
       "      <td>Los Angeles, CA</td>\n",
       "      <td>I am a British DJ and photographer working in ...</td>\n",
       "      <td>within a day</td>\n",
       "      <td>1.0</td>\n",
       "      <td>...</td>\n",
       "      <td>4.45</td>\n",
       "      <td>False</td>\n",
       "      <td>False</td>\n",
       "      <td>1</td>\n",
       "      <td>0</td>\n",
       "      <td>1</td>\n",
       "      <td>0</td>\n",
       "      <td>0.08</td>\n",
       "      <td>160.0</td>\n",
       "      <td>63.0</td>\n",
       "    </tr>\n",
       "    <tr>\n",
       "      <th>2</th>\n",
       "      <td>Condo in Culver City · 2 bedrooms · 2 beds · 2...</td>\n",
       "      <td>*** Unit upgraded with new bamboo flooring, ne...</td>\n",
       "      <td>NaN</td>\n",
       "      <td>521</td>\n",
       "      <td>Paolo</td>\n",
       "      <td>2008-06-27</td>\n",
       "      <td>San Francisco, CA</td>\n",
       "      <td>Paolo Privitera, CEO Evensi\\n\\nPaolo, MIT MBA ...</td>\n",
       "      <td>within a few hours</td>\n",
       "      <td>1.0</td>\n",
       "      <td>...</td>\n",
       "      <td>4.00</td>\n",
       "      <td>False</td>\n",
       "      <td>False</td>\n",
       "      <td>1</td>\n",
       "      <td>1</td>\n",
       "      <td>0</td>\n",
       "      <td>0</td>\n",
       "      <td>0.01</td>\n",
       "      <td>185.0</td>\n",
       "      <td>90.0</td>\n",
       "    </tr>\n",
       "    <tr>\n",
       "      <th>3</th>\n",
       "      <td>Guesthouse in Manhattan Beach · 1 bedroom · 1 ...</td>\n",
       "      <td>Wake up to the sound of waves crashing on the ...</td>\n",
       "      <td>NaN</td>\n",
       "      <td>733870</td>\n",
       "      <td>Jeanette</td>\n",
       "      <td>2011-06-23</td>\n",
       "      <td>Fort Lauderdale, FL</td>\n",
       "      <td>Summers in Manhattan Beach, CA, winters in For...</td>\n",
       "      <td>within an hour</td>\n",
       "      <td>1.0</td>\n",
       "      <td>...</td>\n",
       "      <td>4.00</td>\n",
       "      <td>False</td>\n",
       "      <td>False</td>\n",
       "      <td>2</td>\n",
       "      <td>2</td>\n",
       "      <td>0</td>\n",
       "      <td>0</td>\n",
       "      <td>0.01</td>\n",
       "      <td>149.0</td>\n",
       "      <td>126.0</td>\n",
       "    </tr>\n",
       "    <tr>\n",
       "      <th>4</th>\n",
       "      <td>Hostel in Los Angeles · ★4.37 · 1 bedroom · 1 ...</td>\n",
       "      <td>Best value in most exciting part of DTLA!  Wal...</td>\n",
       "      <td>Little Tokyo is the most vibrant area of downt...</td>\n",
       "      <td>156094545</td>\n",
       "      <td>Sogo</td>\n",
       "      <td>2017-10-24</td>\n",
       "      <td>NaN</td>\n",
       "      <td>NaN</td>\n",
       "      <td>NaN</td>\n",
       "      <td>NaN</td>\n",
       "      <td>...</td>\n",
       "      <td>4.53</td>\n",
       "      <td>True</td>\n",
       "      <td>False</td>\n",
       "      <td>14</td>\n",
       "      <td>0</td>\n",
       "      <td>14</td>\n",
       "      <td>0</td>\n",
       "      <td>0.72</td>\n",
       "      <td>73.0</td>\n",
       "      <td>6.0</td>\n",
       "    </tr>\n",
       "  </tbody>\n",
       "</table>\n",
       "<p>5 rows × 64 columns</p>\n",
       "</div>"
      ],
      "text/plain": [
       "                                                name  \\\n",
       "0  Bed and breakfast in North Hollywood · ★4.96 ·...   \n",
       "1  Rental unit in Los Angeles · ★4.30 · 1 bedroom...   \n",
       "2  Condo in Culver City · 2 bedrooms · 2 beds · 2...   \n",
       "3  Guesthouse in Manhattan Beach · 1 bedroom · 1 ...   \n",
       "4  Hostel in Los Angeles · ★4.37 · 1 bedroom · 1 ...   \n",
       "\n",
       "                                         description  \\\n",
       "0  Welcome to our guest studio house! private ent...   \n",
       "1  <b>The space</b><br />Nice, quiet  master bedr...   \n",
       "2  *** Unit upgraded with new bamboo flooring, ne...   \n",
       "3  Wake up to the sound of waves crashing on the ...   \n",
       "4  Best value in most exciting part of DTLA!  Wal...   \n",
       "\n",
       "                               neighborhood_overview    host_id host_name  \\\n",
       "0  The house is located in a quiet residential ne...     647546     Marco   \n",
       "1                                                NaN     175264   Michael   \n",
       "2                                                NaN        521     Paolo   \n",
       "3                                                NaN     733870  Jeanette   \n",
       "4  Little Tokyo is the most vibrant area of downt...  156094545      Sogo   \n",
       "\n",
       "  host_since        host_location  \\\n",
       "0 2011-05-31  North Hollywood, CA   \n",
       "1 2010-07-20      Los Angeles, CA   \n",
       "2 2008-06-27    San Francisco, CA   \n",
       "3 2011-06-23  Fort Lauderdale, FL   \n",
       "4 2017-10-24                  NaN   \n",
       "\n",
       "                                          host_about  host_response_time  \\\n",
       "0  Hey, I'm Marco!\\r\\n\\r\\nWelcome, your comfort a...      within an hour   \n",
       "1  I am a British DJ and photographer working in ...        within a day   \n",
       "2  Paolo Privitera, CEO Evensi\\n\\nPaolo, MIT MBA ...  within a few hours   \n",
       "3  Summers in Manhattan Beach, CA, winters in For...      within an hour   \n",
       "4                                                NaN                 NaN   \n",
       "\n",
       "   host_response_rate  ...  review_scores_value license instant_bookable  \\\n",
       "0                 1.0  ...                 4.95   False            False   \n",
       "1                 1.0  ...                 4.45   False            False   \n",
       "2                 1.0  ...                 4.00   False            False   \n",
       "3                 1.0  ...                 4.00   False            False   \n",
       "4                 NaN  ...                 4.53    True            False   \n",
       "\n",
       "   calculated_host_listings_count  \\\n",
       "0                               4   \n",
       "1                               1   \n",
       "2                               1   \n",
       "3                               2   \n",
       "4                              14   \n",
       "\n",
       "   calculated_host_listings_count_entire_homes  \\\n",
       "0                                            1   \n",
       "1                                            0   \n",
       "2                                            1   \n",
       "3                                            2   \n",
       "4                                            0   \n",
       "\n",
       "  calculated_host_listings_count_private_rooms  \\\n",
       "0                                            3   \n",
       "1                                            1   \n",
       "2                                            0   \n",
       "3                                            0   \n",
       "4                                           14   \n",
       "\n",
       "   calculated_host_listings_count_shared_rooms  reviews_per_month  \\\n",
       "0                                            0               1.67   \n",
       "1                                            0               0.08   \n",
       "2                                            0               0.01   \n",
       "3                                            0               0.01   \n",
       "4                                            0               0.72   \n",
       "\n",
       "  host_since_elapsed last_review_elapsed  \n",
       "0              150.0                36.0  \n",
       "1              160.0                63.0  \n",
       "2              185.0                90.0  \n",
       "3              149.0               126.0  \n",
       "4               73.0                 6.0  \n",
       "\n",
       "[5 rows x 64 columns]"
      ]
     },
     "execution_count": 417,
     "metadata": {},
     "output_type": "execute_result"
    }
   ],
   "source": [
    "df.head()"
   ]
  },
  {
   "cell_type": "markdown",
   "id": "13e207d552fe04a5",
   "metadata": {},
   "source": [
    "\n",
    "## resolve the missing values"
   ]
  },
  {
   "cell_type": "code",
   "execution_count": 419,
   "id": "cd2273d1cd0e4da2",
   "metadata": {
    "ExecuteTime": {
     "end_time": "2023-11-27T01:55:55.287710100Z",
     "start_time": "2023-11-27T01:55:55.200897700Z"
    }
   },
   "outputs": [
    {
     "name": "stdout",
     "output_type": "stream",
     "text": [
      "description: 699 (1.572)\n",
      "neighborhood_overview: 18241 (41.026)\n",
      "host_location: 9171 (20.627)\n",
      "host_about: 18309 (41.179)\n",
      "host_response_time: 9973 (22.43)\n",
      "host_response_rate: 9973 (22.43)\n",
      "host_acceptance_rate: 9421 (21.189)\n",
      "host_is_superhost: 11880 (26.719)\n",
      "host_neighbourhood: 9155 (20.591)\n",
      "neighbourhood: 18240 (41.024)\n",
      "bathrooms_text: 29 (0.065)\n",
      "bedrooms: 14751 (33.177)\n",
      "beds: 552 (1.242)\n",
      "minimum_minimum_nights: 4 (0.009)\n",
      "maximum_minimum_nights: 4 (0.009)\n",
      "minimum_maximum_nights: 4 (0.009)\n",
      "maximum_maximum_nights: 4 (0.009)\n",
      "minimum_nights_avg_ntm: 4 (0.009)\n",
      "maximum_nights_avg_ntm: 4 (0.009)\n",
      "last_review: 12688 (28.537)\n",
      "review_scores_rating: 12688 (28.537)\n",
      "review_scores_accuracy: 12931 (29.083)\n",
      "review_scores_cleanliness: 12932 (29.086)\n",
      "review_scores_checkin: 12936 (29.095)\n",
      "review_scores_communication: 12930 (29.081)\n",
      "review_scores_location: 12938 (29.099)\n",
      "review_scores_value: 12940 (29.104)\n",
      "reviews_per_month: 12688 (28.537)\n",
      "last_review_elapsed: 12688 (28.537)\n"
     ]
    },
    {
     "data": {
      "text/html": [
       "<div>\n",
       "<style scoped>\n",
       "    .dataframe tbody tr th:only-of-type {\n",
       "        vertical-align: middle;\n",
       "    }\n",
       "\n",
       "    .dataframe tbody tr th {\n",
       "        vertical-align: top;\n",
       "    }\n",
       "\n",
       "    .dataframe thead th {\n",
       "        text-align: right;\n",
       "    }\n",
       "</style>\n",
       "<table border=\"1\" class=\"dataframe\">\n",
       "  <thead>\n",
       "    <tr style=\"text-align: right;\">\n",
       "      <th></th>\n",
       "      <th>0</th>\n",
       "    </tr>\n",
       "  </thead>\n",
       "  <tbody>\n",
       "    <tr>\n",
       "      <th>host_about</th>\n",
       "      <td>41.178984</td>\n",
       "    </tr>\n",
       "    <tr>\n",
       "      <th>neighborhood_overview</th>\n",
       "      <td>41.026045</td>\n",
       "    </tr>\n",
       "    <tr>\n",
       "      <th>neighbourhood</th>\n",
       "      <td>41.023796</td>\n",
       "    </tr>\n",
       "    <tr>\n",
       "      <th>bedrooms</th>\n",
       "      <td>33.176645</td>\n",
       "    </tr>\n",
       "    <tr>\n",
       "      <th>review_scores_value</th>\n",
       "      <td>29.103504</td>\n",
       "    </tr>\n",
       "    <tr>\n",
       "      <th>review_scores_location</th>\n",
       "      <td>29.099006</td>\n",
       "    </tr>\n",
       "    <tr>\n",
       "      <th>review_scores_checkin</th>\n",
       "      <td>29.094508</td>\n",
       "    </tr>\n",
       "    <tr>\n",
       "      <th>review_scores_cleanliness</th>\n",
       "      <td>29.085511</td>\n",
       "    </tr>\n",
       "    <tr>\n",
       "      <th>review_scores_accuracy</th>\n",
       "      <td>29.083262</td>\n",
       "    </tr>\n",
       "    <tr>\n",
       "      <th>review_scores_communication</th>\n",
       "      <td>29.081013</td>\n",
       "    </tr>\n",
       "    <tr>\n",
       "      <th>last_review_elapsed</th>\n",
       "      <td>28.536728</td>\n",
       "    </tr>\n",
       "    <tr>\n",
       "      <th>reviews_per_month</th>\n",
       "      <td>28.536728</td>\n",
       "    </tr>\n",
       "    <tr>\n",
       "      <th>review_scores_rating</th>\n",
       "      <td>28.536728</td>\n",
       "    </tr>\n",
       "    <tr>\n",
       "      <th>last_review</th>\n",
       "      <td>28.536728</td>\n",
       "    </tr>\n",
       "    <tr>\n",
       "      <th>host_is_superhost</th>\n",
       "      <td>26.719446</td>\n",
       "    </tr>\n",
       "    <tr>\n",
       "      <th>host_response_rate</th>\n",
       "      <td>22.430390</td>\n",
       "    </tr>\n",
       "    <tr>\n",
       "      <th>host_response_time</th>\n",
       "      <td>22.430390</td>\n",
       "    </tr>\n",
       "    <tr>\n",
       "      <th>host_acceptance_rate</th>\n",
       "      <td>21.188880</td>\n",
       "    </tr>\n",
       "    <tr>\n",
       "      <th>host_location</th>\n",
       "      <td>20.626602</td>\n",
       "    </tr>\n",
       "    <tr>\n",
       "      <th>host_neighbourhood</th>\n",
       "      <td>20.590617</td>\n",
       "    </tr>\n",
       "    <tr>\n",
       "      <th>description</th>\n",
       "      <td>1.572129</td>\n",
       "    </tr>\n",
       "    <tr>\n",
       "      <th>beds</th>\n",
       "      <td>1.241510</td>\n",
       "    </tr>\n",
       "    <tr>\n",
       "      <th>bathrooms_text</th>\n",
       "      <td>0.065224</td>\n",
       "    </tr>\n",
       "    <tr>\n",
       "      <th>maximum_nights_avg_ntm</th>\n",
       "      <td>0.008996</td>\n",
       "    </tr>\n",
       "    <tr>\n",
       "      <th>minimum_nights_avg_ntm</th>\n",
       "      <td>0.008996</td>\n",
       "    </tr>\n",
       "    <tr>\n",
       "      <th>maximum_maximum_nights</th>\n",
       "      <td>0.008996</td>\n",
       "    </tr>\n",
       "    <tr>\n",
       "      <th>minimum_maximum_nights</th>\n",
       "      <td>0.008996</td>\n",
       "    </tr>\n",
       "    <tr>\n",
       "      <th>minimum_minimum_nights</th>\n",
       "      <td>0.008996</td>\n",
       "    </tr>\n",
       "    <tr>\n",
       "      <th>maximum_minimum_nights</th>\n",
       "      <td>0.008996</td>\n",
       "    </tr>\n",
       "  </tbody>\n",
       "</table>\n",
       "</div>"
      ],
      "text/plain": [
       "                                     0\n",
       "host_about                   41.178984\n",
       "neighborhood_overview        41.026045\n",
       "neighbourhood                41.023796\n",
       "bedrooms                     33.176645\n",
       "review_scores_value          29.103504\n",
       "review_scores_location       29.099006\n",
       "review_scores_checkin        29.094508\n",
       "review_scores_cleanliness    29.085511\n",
       "review_scores_accuracy       29.083262\n",
       "review_scores_communication  29.081013\n",
       "last_review_elapsed          28.536728\n",
       "reviews_per_month            28.536728\n",
       "review_scores_rating         28.536728\n",
       "last_review                  28.536728\n",
       "host_is_superhost            26.719446\n",
       "host_response_rate           22.430390\n",
       "host_response_time           22.430390\n",
       "host_acceptance_rate         21.188880\n",
       "host_location                20.626602\n",
       "host_neighbourhood           20.590617\n",
       "description                   1.572129\n",
       "beds                          1.241510\n",
       "bathrooms_text                0.065224\n",
       "maximum_nights_avg_ntm        0.008996\n",
       "minimum_nights_avg_ntm        0.008996\n",
       "maximum_maximum_nights        0.008996\n",
       "minimum_maximum_nights        0.008996\n",
       "minimum_minimum_nights        0.008996\n",
       "maximum_minimum_nights        0.008996"
      ]
     },
     "execution_count": 419,
     "metadata": {},
     "output_type": "execute_result"
    }
   ],
   "source": [
    "miss_per_2 = get_missing_value_percentage(df)\n",
    "miss_df_2 = pd.DataFrame.from_dict(miss_per_2, orient='index')\n",
    "miss_df_2.sort_values(ascending=False, by=[0])"
   ]
  },
  {
   "cell_type": "code",
   "execution_count": 420,
   "id": "70326f7db04f2948",
   "metadata": {
    "ExecuteTime": {
     "end_time": "2023-11-27T01:55:55.560303200Z",
     "start_time": "2023-11-27T01:55:55.460362700Z"
    }
   },
   "outputs": [
    {
     "data": {
      "text/plain": [
       "True     26153\n",
       "False    18309\n",
       "Name: host_about, dtype: int64"
      ]
     },
     "execution_count": 420,
     "metadata": {},
     "output_type": "execute_result"
    }
   ],
   "source": [
    "## there are lots of columns describing the information about host, since if host_about is not null, people will have more info about this host and thus tend to rent this property more likely(assumption), so we will convert 'host_about' into boolean, true for not null and false for null; \n",
    "# the same for neighborhood_overview\n",
    "df['host_about'] = df['host_about'].notnull()\n",
    "df['host_about'].value_counts()"
   ]
  },
  {
   "cell_type": "code",
   "execution_count": 421,
   "id": "3e07d1e93203c68f",
   "metadata": {
    "ExecuteTime": {
     "end_time": "2023-11-27T01:55:55.900761Z",
     "start_time": "2023-11-27T01:55:55.805883500Z"
    }
   },
   "outputs": [
    {
     "data": {
      "text/plain": [
       "True     26221\n",
       "False    18241\n",
       "Name: neighborhood_overview, dtype: int64"
      ]
     },
     "execution_count": 421,
     "metadata": {},
     "output_type": "execute_result"
    }
   ],
   "source": [
    "df['neighborhood_overview'] = df['neighborhood_overview'].notnull()\n",
    "df['neighborhood_overview'].value_counts()"
   ]
  },
  {
   "cell_type": "code",
   "execution_count": 422,
   "id": "2a3727a1529324ba",
   "metadata": {
    "ExecuteTime": {
     "end_time": "2023-11-27T01:55:56.208976400Z",
     "start_time": "2023-11-27T01:55:56.139679900Z"
    }
   },
   "outputs": [],
   "source": [
    "\n",
    "## necessary info of 'neighbourhood' was included in the 'neighbourhood_group_cleansed', so we remove this column\n",
    "df.drop(['neighbourhood'], axis=1, inplace=True)"
   ]
  },
  {
   "cell_type": "code",
   "execution_count": 423,
   "id": "4220d1a99d034f52",
   "metadata": {
    "ExecuteTime": {
     "end_time": "2023-11-27T01:55:57.909310200Z",
     "start_time": "2023-11-27T01:55:57.877369900Z"
    }
   },
   "outputs": [
    {
     "data": {
      "text/html": [
       "<div>\n",
       "<style scoped>\n",
       "    .dataframe tbody tr th:only-of-type {\n",
       "        vertical-align: middle;\n",
       "    }\n",
       "\n",
       "    .dataframe tbody tr th {\n",
       "        vertical-align: top;\n",
       "    }\n",
       "\n",
       "    .dataframe thead th {\n",
       "        text-align: right;\n",
       "    }\n",
       "</style>\n",
       "<table border=\"1\" class=\"dataframe\">\n",
       "  <thead>\n",
       "    <tr style=\"text-align: right;\">\n",
       "      <th></th>\n",
       "      <th>name</th>\n",
       "      <th>description</th>\n",
       "      <th>neighborhood_overview</th>\n",
       "      <th>host_id</th>\n",
       "      <th>host_name</th>\n",
       "      <th>host_since</th>\n",
       "      <th>host_location</th>\n",
       "      <th>host_about</th>\n",
       "      <th>host_response_time</th>\n",
       "      <th>host_response_rate</th>\n",
       "      <th>...</th>\n",
       "      <th>review_scores_value</th>\n",
       "      <th>license</th>\n",
       "      <th>instant_bookable</th>\n",
       "      <th>calculated_host_listings_count</th>\n",
       "      <th>calculated_host_listings_count_entire_homes</th>\n",
       "      <th>calculated_host_listings_count_private_rooms</th>\n",
       "      <th>calculated_host_listings_count_shared_rooms</th>\n",
       "      <th>reviews_per_month</th>\n",
       "      <th>host_since_elapsed</th>\n",
       "      <th>last_review_elapsed</th>\n",
       "    </tr>\n",
       "  </thead>\n",
       "  <tbody>\n",
       "    <tr>\n",
       "      <th>0</th>\n",
       "      <td>Bed and breakfast in North Hollywood · ★4.96 ·...</td>\n",
       "      <td>Welcome to our guest studio house! private ent...</td>\n",
       "      <td>True</td>\n",
       "      <td>647546</td>\n",
       "      <td>Marco</td>\n",
       "      <td>2011-05-31</td>\n",
       "      <td>North Hollywood, CA</td>\n",
       "      <td>True</td>\n",
       "      <td>within an hour</td>\n",
       "      <td>1.0</td>\n",
       "      <td>...</td>\n",
       "      <td>4.95</td>\n",
       "      <td>False</td>\n",
       "      <td>False</td>\n",
       "      <td>4</td>\n",
       "      <td>1</td>\n",
       "      <td>3</td>\n",
       "      <td>0</td>\n",
       "      <td>1.67</td>\n",
       "      <td>150.0</td>\n",
       "      <td>36.0</td>\n",
       "    </tr>\n",
       "    <tr>\n",
       "      <th>1</th>\n",
       "      <td>Rental unit in Los Angeles · ★4.30 · 1 bedroom...</td>\n",
       "      <td>&lt;b&gt;The space&lt;/b&gt;&lt;br /&gt;Nice, quiet  master bedr...</td>\n",
       "      <td>False</td>\n",
       "      <td>175264</td>\n",
       "      <td>Michael</td>\n",
       "      <td>2010-07-20</td>\n",
       "      <td>Los Angeles, CA</td>\n",
       "      <td>True</td>\n",
       "      <td>within a day</td>\n",
       "      <td>1.0</td>\n",
       "      <td>...</td>\n",
       "      <td>4.45</td>\n",
       "      <td>False</td>\n",
       "      <td>False</td>\n",
       "      <td>1</td>\n",
       "      <td>0</td>\n",
       "      <td>1</td>\n",
       "      <td>0</td>\n",
       "      <td>0.08</td>\n",
       "      <td>160.0</td>\n",
       "      <td>63.0</td>\n",
       "    </tr>\n",
       "    <tr>\n",
       "      <th>2</th>\n",
       "      <td>Condo in Culver City · 2 bedrooms · 2 beds · 2...</td>\n",
       "      <td>*** Unit upgraded with new bamboo flooring, ne...</td>\n",
       "      <td>False</td>\n",
       "      <td>521</td>\n",
       "      <td>Paolo</td>\n",
       "      <td>2008-06-27</td>\n",
       "      <td>San Francisco, CA</td>\n",
       "      <td>True</td>\n",
       "      <td>within a few hours</td>\n",
       "      <td>1.0</td>\n",
       "      <td>...</td>\n",
       "      <td>4.00</td>\n",
       "      <td>False</td>\n",
       "      <td>False</td>\n",
       "      <td>1</td>\n",
       "      <td>1</td>\n",
       "      <td>0</td>\n",
       "      <td>0</td>\n",
       "      <td>0.01</td>\n",
       "      <td>185.0</td>\n",
       "      <td>90.0</td>\n",
       "    </tr>\n",
       "    <tr>\n",
       "      <th>3</th>\n",
       "      <td>Guesthouse in Manhattan Beach · 1 bedroom · 1 ...</td>\n",
       "      <td>Wake up to the sound of waves crashing on the ...</td>\n",
       "      <td>False</td>\n",
       "      <td>733870</td>\n",
       "      <td>Jeanette</td>\n",
       "      <td>2011-06-23</td>\n",
       "      <td>Fort Lauderdale, FL</td>\n",
       "      <td>True</td>\n",
       "      <td>within an hour</td>\n",
       "      <td>1.0</td>\n",
       "      <td>...</td>\n",
       "      <td>4.00</td>\n",
       "      <td>False</td>\n",
       "      <td>False</td>\n",
       "      <td>2</td>\n",
       "      <td>2</td>\n",
       "      <td>0</td>\n",
       "      <td>0</td>\n",
       "      <td>0.01</td>\n",
       "      <td>149.0</td>\n",
       "      <td>126.0</td>\n",
       "    </tr>\n",
       "    <tr>\n",
       "      <th>4</th>\n",
       "      <td>Hostel in Los Angeles · ★4.37 · 1 bedroom · 1 ...</td>\n",
       "      <td>Best value in most exciting part of DTLA!  Wal...</td>\n",
       "      <td>True</td>\n",
       "      <td>156094545</td>\n",
       "      <td>Sogo</td>\n",
       "      <td>2017-10-24</td>\n",
       "      <td>NaN</td>\n",
       "      <td>False</td>\n",
       "      <td>NaN</td>\n",
       "      <td>NaN</td>\n",
       "      <td>...</td>\n",
       "      <td>4.53</td>\n",
       "      <td>True</td>\n",
       "      <td>False</td>\n",
       "      <td>14</td>\n",
       "      <td>0</td>\n",
       "      <td>14</td>\n",
       "      <td>0</td>\n",
       "      <td>0.72</td>\n",
       "      <td>73.0</td>\n",
       "      <td>6.0</td>\n",
       "    </tr>\n",
       "  </tbody>\n",
       "</table>\n",
       "<p>5 rows × 63 columns</p>\n",
       "</div>"
      ],
      "text/plain": [
       "                                                name  \\\n",
       "0  Bed and breakfast in North Hollywood · ★4.96 ·...   \n",
       "1  Rental unit in Los Angeles · ★4.30 · 1 bedroom...   \n",
       "2  Condo in Culver City · 2 bedrooms · 2 beds · 2...   \n",
       "3  Guesthouse in Manhattan Beach · 1 bedroom · 1 ...   \n",
       "4  Hostel in Los Angeles · ★4.37 · 1 bedroom · 1 ...   \n",
       "\n",
       "                                         description  neighborhood_overview  \\\n",
       "0  Welcome to our guest studio house! private ent...                   True   \n",
       "1  <b>The space</b><br />Nice, quiet  master bedr...                  False   \n",
       "2  *** Unit upgraded with new bamboo flooring, ne...                  False   \n",
       "3  Wake up to the sound of waves crashing on the ...                  False   \n",
       "4  Best value in most exciting part of DTLA!  Wal...                   True   \n",
       "\n",
       "     host_id host_name host_since        host_location  host_about  \\\n",
       "0     647546     Marco 2011-05-31  North Hollywood, CA        True   \n",
       "1     175264   Michael 2010-07-20      Los Angeles, CA        True   \n",
       "2        521     Paolo 2008-06-27    San Francisco, CA        True   \n",
       "3     733870  Jeanette 2011-06-23  Fort Lauderdale, FL        True   \n",
       "4  156094545      Sogo 2017-10-24                  NaN       False   \n",
       "\n",
       "   host_response_time  host_response_rate  ...  review_scores_value license  \\\n",
       "0      within an hour                 1.0  ...                 4.95   False   \n",
       "1        within a day                 1.0  ...                 4.45   False   \n",
       "2  within a few hours                 1.0  ...                 4.00   False   \n",
       "3      within an hour                 1.0  ...                 4.00   False   \n",
       "4                 NaN                 NaN  ...                 4.53    True   \n",
       "\n",
       "  instant_bookable  calculated_host_listings_count  \\\n",
       "0            False                               4   \n",
       "1            False                               1   \n",
       "2            False                               1   \n",
       "3            False                               2   \n",
       "4            False                              14   \n",
       "\n",
       "   calculated_host_listings_count_entire_homes  \\\n",
       "0                                            1   \n",
       "1                                            0   \n",
       "2                                            1   \n",
       "3                                            2   \n",
       "4                                            0   \n",
       "\n",
       "  calculated_host_listings_count_private_rooms  \\\n",
       "0                                            3   \n",
       "1                                            1   \n",
       "2                                            0   \n",
       "3                                            0   \n",
       "4                                           14   \n",
       "\n",
       "   calculated_host_listings_count_shared_rooms  reviews_per_month  \\\n",
       "0                                            0               1.67   \n",
       "1                                            0               0.08   \n",
       "2                                            0               0.01   \n",
       "3                                            0               0.01   \n",
       "4                                            0               0.72   \n",
       "\n",
       "  host_since_elapsed last_review_elapsed  \n",
       "0              150.0                36.0  \n",
       "1              160.0                63.0  \n",
       "2              185.0                90.0  \n",
       "3              149.0               126.0  \n",
       "4               73.0                 6.0  \n",
       "\n",
       "[5 rows x 63 columns]"
      ]
     },
     "execution_count": 423,
     "metadata": {},
     "output_type": "execute_result"
    }
   ],
   "source": [
    "\n",
    "df.head()"
   ]
  },
  {
   "cell_type": "code",
   "execution_count": 424,
   "id": "2486622146d2dc2d",
   "metadata": {
    "ExecuteTime": {
     "end_time": "2023-11-27T01:55:57.909310200Z",
     "start_time": "2023-11-27T01:55:57.893417500Z"
    }
   },
   "outputs": [
    {
     "data": {
      "text/plain": [
       "['review_scores_rating',\n",
       " 'review_scores_accuracy',\n",
       " 'review_scores_cleanliness',\n",
       " 'review_scores_checkin',\n",
       " 'review_scores_communication',\n",
       " 'review_scores_location',\n",
       " 'review_scores_value']"
      ]
     },
     "execution_count": 424,
     "metadata": {},
     "output_type": "execute_result"
    }
   ],
   "source": [
    "# for properties that don't have review scores, assuming customer will hold a neutral view towards this property, review scores tend not to affect their decision; so we use mean value to fill up th missing value\n",
    "cols = list(df.columns)\n",
    "review_list = [i for i in df.columns if 'review_scores' in i]\n",
    "review_list"
   ]
  },
  {
   "cell_type": "code",
   "execution_count": 425,
   "id": "b9d95564329e0dcb",
   "metadata": {
    "ExecuteTime": {
     "end_time": "2023-11-27T01:55:58.035272800Z",
     "start_time": "2023-11-27T01:55:57.899304600Z"
    }
   },
   "outputs": [],
   "source": [
    "from sklearn.impute import SimpleImputer\n",
    "imputer = SimpleImputer(missing_values=np.nan, strategy='mean')\n",
    "for i in range(len(review_list)):\n",
    "    df[review_list[i]] = imputer.fit_transform(df[[review_list[i]]])"
   ]
  },
  {
   "cell_type": "code",
   "execution_count": 426,
   "id": "1e0c1072fb397bf6",
   "metadata": {
    "ExecuteTime": {
     "end_time": "2023-11-27T01:55:58.098579300Z",
     "start_time": "2023-11-27T01:55:57.980879200Z"
    }
   },
   "outputs": [
    {
     "name": "stdout",
     "output_type": "stream",
     "text": [
      "description: 699 (1.572)\n",
      "host_location: 9171 (20.627)\n",
      "host_response_time: 9973 (22.43)\n",
      "host_response_rate: 9973 (22.43)\n",
      "host_acceptance_rate: 9421 (21.189)\n",
      "host_is_superhost: 11880 (26.719)\n",
      "host_neighbourhood: 9155 (20.591)\n",
      "bathrooms_text: 29 (0.065)\n",
      "bedrooms: 14751 (33.177)\n",
      "beds: 552 (1.242)\n",
      "minimum_minimum_nights: 4 (0.009)\n",
      "maximum_minimum_nights: 4 (0.009)\n",
      "minimum_maximum_nights: 4 (0.009)\n",
      "maximum_maximum_nights: 4 (0.009)\n",
      "minimum_nights_avg_ntm: 4 (0.009)\n",
      "maximum_nights_avg_ntm: 4 (0.009)\n",
      "last_review: 12688 (28.537)\n",
      "reviews_per_month: 12688 (28.537)\n",
      "last_review_elapsed: 12688 (28.537)\n"
     ]
    },
    {
     "data": {
      "text/html": [
       "<div>\n",
       "<style scoped>\n",
       "    .dataframe tbody tr th:only-of-type {\n",
       "        vertical-align: middle;\n",
       "    }\n",
       "\n",
       "    .dataframe tbody tr th {\n",
       "        vertical-align: top;\n",
       "    }\n",
       "\n",
       "    .dataframe thead th {\n",
       "        text-align: right;\n",
       "    }\n",
       "</style>\n",
       "<table border=\"1\" class=\"dataframe\">\n",
       "  <thead>\n",
       "    <tr style=\"text-align: right;\">\n",
       "      <th></th>\n",
       "      <th>0</th>\n",
       "    </tr>\n",
       "  </thead>\n",
       "  <tbody>\n",
       "    <tr>\n",
       "      <th>bedrooms</th>\n",
       "      <td>33.176645</td>\n",
       "    </tr>\n",
       "    <tr>\n",
       "      <th>last_review_elapsed</th>\n",
       "      <td>28.536728</td>\n",
       "    </tr>\n",
       "    <tr>\n",
       "      <th>last_review</th>\n",
       "      <td>28.536728</td>\n",
       "    </tr>\n",
       "    <tr>\n",
       "      <th>reviews_per_month</th>\n",
       "      <td>28.536728</td>\n",
       "    </tr>\n",
       "    <tr>\n",
       "      <th>host_is_superhost</th>\n",
       "      <td>26.719446</td>\n",
       "    </tr>\n",
       "    <tr>\n",
       "      <th>host_response_time</th>\n",
       "      <td>22.430390</td>\n",
       "    </tr>\n",
       "    <tr>\n",
       "      <th>host_response_rate</th>\n",
       "      <td>22.430390</td>\n",
       "    </tr>\n",
       "    <tr>\n",
       "      <th>host_acceptance_rate</th>\n",
       "      <td>21.188880</td>\n",
       "    </tr>\n",
       "    <tr>\n",
       "      <th>host_location</th>\n",
       "      <td>20.626602</td>\n",
       "    </tr>\n",
       "    <tr>\n",
       "      <th>host_neighbourhood</th>\n",
       "      <td>20.590617</td>\n",
       "    </tr>\n",
       "    <tr>\n",
       "      <th>description</th>\n",
       "      <td>1.572129</td>\n",
       "    </tr>\n",
       "    <tr>\n",
       "      <th>beds</th>\n",
       "      <td>1.241510</td>\n",
       "    </tr>\n",
       "    <tr>\n",
       "      <th>bathrooms_text</th>\n",
       "      <td>0.065224</td>\n",
       "    </tr>\n",
       "    <tr>\n",
       "      <th>maximum_minimum_nights</th>\n",
       "      <td>0.008996</td>\n",
       "    </tr>\n",
       "    <tr>\n",
       "      <th>minimum_maximum_nights</th>\n",
       "      <td>0.008996</td>\n",
       "    </tr>\n",
       "    <tr>\n",
       "      <th>maximum_maximum_nights</th>\n",
       "      <td>0.008996</td>\n",
       "    </tr>\n",
       "    <tr>\n",
       "      <th>minimum_nights_avg_ntm</th>\n",
       "      <td>0.008996</td>\n",
       "    </tr>\n",
       "    <tr>\n",
       "      <th>maximum_nights_avg_ntm</th>\n",
       "      <td>0.008996</td>\n",
       "    </tr>\n",
       "    <tr>\n",
       "      <th>minimum_minimum_nights</th>\n",
       "      <td>0.008996</td>\n",
       "    </tr>\n",
       "  </tbody>\n",
       "</table>\n",
       "</div>"
      ],
      "text/plain": [
       "                                0\n",
       "bedrooms                33.176645\n",
       "last_review_elapsed     28.536728\n",
       "last_review             28.536728\n",
       "reviews_per_month       28.536728\n",
       "host_is_superhost       26.719446\n",
       "host_response_time      22.430390\n",
       "host_response_rate      22.430390\n",
       "host_acceptance_rate    21.188880\n",
       "host_location           20.626602\n",
       "host_neighbourhood      20.590617\n",
       "description              1.572129\n",
       "beds                     1.241510\n",
       "bathrooms_text           0.065224\n",
       "maximum_minimum_nights   0.008996\n",
       "minimum_maximum_nights   0.008996\n",
       "maximum_maximum_nights   0.008996\n",
       "minimum_nights_avg_ntm   0.008996\n",
       "maximum_nights_avg_ntm   0.008996\n",
       "minimum_minimum_nights   0.008996"
      ]
     },
     "execution_count": 426,
     "metadata": {},
     "output_type": "execute_result"
    }
   ],
   "source": [
    "miss_per_3 = get_missing_value_percentage(df)\n",
    "miss_df_3 = pd.DataFrame.from_dict(miss_per_3, orient='index')\n",
    "miss_df_3.sort_values(ascending=False, by=[0])"
   ]
  },
  {
   "cell_type": "code",
   "execution_count": 427,
   "id": "5f8a6be7ea187fa1",
   "metadata": {
    "ExecuteTime": {
     "end_time": "2023-11-27T01:55:58.208302400Z",
     "start_time": "2023-11-27T01:55:58.043212700Z"
    }
   },
   "outputs": [
    {
     "data": {
      "text/html": [
       "<div>\n",
       "<style scoped>\n",
       "    .dataframe tbody tr th:only-of-type {\n",
       "        vertical-align: middle;\n",
       "    }\n",
       "\n",
       "    .dataframe tbody tr th {\n",
       "        vertical-align: top;\n",
       "    }\n",
       "\n",
       "    .dataframe thead tr th {\n",
       "        text-align: left;\n",
       "    }\n",
       "\n",
       "    .dataframe thead tr:last-of-type th {\n",
       "        text-align: right;\n",
       "    }\n",
       "</style>\n",
       "<table border=\"1\" class=\"dataframe\">\n",
       "  <thead>\n",
       "    <tr>\n",
       "      <th></th>\n",
       "      <th colspan=\"8\" halign=\"left\">accommodates</th>\n",
       "    </tr>\n",
       "    <tr>\n",
       "      <th></th>\n",
       "      <th>count</th>\n",
       "      <th>mean</th>\n",
       "      <th>std</th>\n",
       "      <th>min</th>\n",
       "      <th>25%</th>\n",
       "      <th>50%</th>\n",
       "      <th>75%</th>\n",
       "      <th>max</th>\n",
       "    </tr>\n",
       "    <tr>\n",
       "      <th>room_type</th>\n",
       "      <th></th>\n",
       "      <th></th>\n",
       "      <th></th>\n",
       "      <th></th>\n",
       "      <th></th>\n",
       "      <th></th>\n",
       "      <th></th>\n",
       "      <th></th>\n",
       "    </tr>\n",
       "  </thead>\n",
       "  <tbody>\n",
       "    <tr>\n",
       "      <th>Entire home/apt</th>\n",
       "      <td>3222.0</td>\n",
       "      <td>2.439168</td>\n",
       "      <td>1.432706</td>\n",
       "      <td>1.0</td>\n",
       "      <td>2.0</td>\n",
       "      <td>2.0</td>\n",
       "      <td>3.0</td>\n",
       "      <td>16.0</td>\n",
       "    </tr>\n",
       "    <tr>\n",
       "      <th>Hotel room</th>\n",
       "      <td>21.0</td>\n",
       "      <td>1.428571</td>\n",
       "      <td>1.121224</td>\n",
       "      <td>0.0</td>\n",
       "      <td>0.0</td>\n",
       "      <td>2.0</td>\n",
       "      <td>2.0</td>\n",
       "      <td>4.0</td>\n",
       "    </tr>\n",
       "    <tr>\n",
       "      <th>Private room</th>\n",
       "      <td>10768.0</td>\n",
       "      <td>2.261887</td>\n",
       "      <td>1.313336</td>\n",
       "      <td>1.0</td>\n",
       "      <td>1.0</td>\n",
       "      <td>2.0</td>\n",
       "      <td>3.0</td>\n",
       "      <td>16.0</td>\n",
       "    </tr>\n",
       "    <tr>\n",
       "      <th>Shared room</th>\n",
       "      <td>740.0</td>\n",
       "      <td>2.067568</td>\n",
       "      <td>2.122953</td>\n",
       "      <td>1.0</td>\n",
       "      <td>1.0</td>\n",
       "      <td>1.0</td>\n",
       "      <td>2.0</td>\n",
       "      <td>16.0</td>\n",
       "    </tr>\n",
       "  </tbody>\n",
       "</table>\n",
       "</div>"
      ],
      "text/plain": [
       "                accommodates                                              \n",
       "                       count      mean       std  min  25%  50%  75%   max\n",
       "room_type                                                                 \n",
       "Entire home/apt       3222.0  2.439168  1.432706  1.0  2.0  2.0  3.0  16.0\n",
       "Hotel room              21.0  1.428571  1.121224  0.0  0.0  2.0  2.0   4.0\n",
       "Private room         10768.0  2.261887  1.313336  1.0  1.0  2.0  3.0  16.0\n",
       "Shared room            740.0  2.067568  2.122953  1.0  1.0  1.0  2.0  16.0"
      ]
     },
     "execution_count": 427,
     "metadata": {},
     "output_type": "execute_result"
    }
   ],
   "source": [
    "# check out the room type when bedrooms is nan \n",
    "# assumption: most nan values means there is only 1 bedroom\n",
    "df_brnull = df[df['bedrooms'].isnull()]\n",
    "df_brnull[['room_type', 'accommodates']].groupby(['room_type'], as_index=True).describe()"
   ]
  },
  {
   "cell_type": "code",
   "execution_count": 428,
   "id": "2000179ce23746aa",
   "metadata": {
    "ExecuteTime": {
     "end_time": "2023-11-27T01:55:58.381581300Z",
     "start_time": "2023-11-27T01:55:58.161090700Z"
    }
   },
   "outputs": [
    {
     "data": {
      "text/html": [
       "<div>\n",
       "<style scoped>\n",
       "    .dataframe tbody tr th:only-of-type {\n",
       "        vertical-align: middle;\n",
       "    }\n",
       "\n",
       "    .dataframe tbody tr th {\n",
       "        vertical-align: top;\n",
       "    }\n",
       "\n",
       "    .dataframe thead th {\n",
       "        text-align: right;\n",
       "    }\n",
       "</style>\n",
       "<table border=\"1\" class=\"dataframe\">\n",
       "  <thead>\n",
       "    <tr style=\"text-align: right;\">\n",
       "      <th></th>\n",
       "      <th>room_type</th>\n",
       "      <th>accommodates</th>\n",
       "      <th>bathrooms_text</th>\n",
       "    </tr>\n",
       "  </thead>\n",
       "  <tbody>\n",
       "    <tr>\n",
       "      <th>25</th>\n",
       "      <td>Private room</td>\n",
       "      <td>4</td>\n",
       "      <td>1 shared bath</td>\n",
       "    </tr>\n",
       "    <tr>\n",
       "      <th>77</th>\n",
       "      <td>Private room</td>\n",
       "      <td>4</td>\n",
       "      <td>1 private bath</td>\n",
       "    </tr>\n",
       "    <tr>\n",
       "      <th>88</th>\n",
       "      <td>Entire home/apt</td>\n",
       "      <td>4</td>\n",
       "      <td>1 bath</td>\n",
       "    </tr>\n",
       "    <tr>\n",
       "      <th>105</th>\n",
       "      <td>Shared room</td>\n",
       "      <td>6</td>\n",
       "      <td>1 shared bath</td>\n",
       "    </tr>\n",
       "    <tr>\n",
       "      <th>115</th>\n",
       "      <td>Shared room</td>\n",
       "      <td>4</td>\n",
       "      <td>8 shared baths</td>\n",
       "    </tr>\n",
       "    <tr>\n",
       "      <th>...</th>\n",
       "      <td>...</td>\n",
       "      <td>...</td>\n",
       "      <td>...</td>\n",
       "    </tr>\n",
       "    <tr>\n",
       "      <th>43834</th>\n",
       "      <td>Entire home/apt</td>\n",
       "      <td>4</td>\n",
       "      <td>1 bath</td>\n",
       "    </tr>\n",
       "    <tr>\n",
       "      <th>43899</th>\n",
       "      <td>Private room</td>\n",
       "      <td>4</td>\n",
       "      <td>1.5 baths</td>\n",
       "    </tr>\n",
       "    <tr>\n",
       "      <th>44045</th>\n",
       "      <td>Entire home/apt</td>\n",
       "      <td>4</td>\n",
       "      <td>1 bath</td>\n",
       "    </tr>\n",
       "    <tr>\n",
       "      <th>44220</th>\n",
       "      <td>Entire home/apt</td>\n",
       "      <td>4</td>\n",
       "      <td>Half-bath</td>\n",
       "    </tr>\n",
       "    <tr>\n",
       "      <th>44298</th>\n",
       "      <td>Entire home/apt</td>\n",
       "      <td>10</td>\n",
       "      <td>0 baths</td>\n",
       "    </tr>\n",
       "  </tbody>\n",
       "</table>\n",
       "<p>2249 rows × 3 columns</p>\n",
       "</div>"
      ],
      "text/plain": [
       "             room_type  accommodates  bathrooms_text\n",
       "25        Private room             4   1 shared bath\n",
       "77        Private room             4  1 private bath\n",
       "88     Entire home/apt             4          1 bath\n",
       "105        Shared room             6   1 shared bath\n",
       "115        Shared room             4  8 shared baths\n",
       "...                ...           ...             ...\n",
       "43834  Entire home/apt             4          1 bath\n",
       "43899     Private room             4       1.5 baths\n",
       "44045  Entire home/apt             4          1 bath\n",
       "44220  Entire home/apt             4       Half-bath\n",
       "44298  Entire home/apt            10         0 baths\n",
       "\n",
       "[2249 rows x 3 columns]"
      ]
     },
     "execution_count": 428,
     "metadata": {},
     "output_type": "execute_result"
    }
   ],
   "source": [
    "# check further on those large accommodates values\n",
    "outlier = df_brnull[df_brnull['accommodates']>3]\n",
    "outlier[['room_type','accommodates','bathrooms_text']]"
   ]
  },
  {
   "cell_type": "code",
   "execution_count": 429,
   "id": "6bcb25335b0bd0c5",
   "metadata": {
    "ExecuteTime": {
     "end_time": "2023-11-27T01:55:58.868444Z",
     "start_time": "2023-11-27T01:55:58.593531200Z"
    }
   },
   "outputs": [],
   "source": [
    "#we find that bedrooms column with missing values means that clients just pay for one bed. so we use 1 to fill out the missing value\n",
    "df['bedrooms'].fillna(1, inplace=True)"
   ]
  },
  {
   "cell_type": "code",
   "execution_count": 430,
   "id": "d5d4cfbe6108b552",
   "metadata": {
    "ExecuteTime": {
     "end_time": "2023-11-27T01:55:58.930961700Z",
     "start_time": "2023-11-27T01:55:58.824260300Z"
    }
   },
   "outputs": [],
   "source": [
    "#for last_review_elapsed, we assume that longer the elapsed time is, less popular the property is. So we fill out the missing value with the maximum of this column\n",
    "df['last_review_elapsed'].fillna(df['last_review_elapsed'].max(), inplace=True)\n",
    "df.drop(['last_review'],axis = 1, inplace=True)"
   ]
  },
  {
   "cell_type": "code",
   "execution_count": 431,
   "id": "9a0bba8bfad83e3e",
   "metadata": {
    "ExecuteTime": {
     "end_time": "2023-11-27T01:55:59.325055800Z",
     "start_time": "2023-11-27T01:55:59.158761Z"
    }
   },
   "outputs": [],
   "source": [
    "#nan means no review, so fill out with 0\n",
    "df['reviews_per_month'].fillna(0, inplace= True)"
   ]
  },
  {
   "cell_type": "code",
   "execution_count": 432,
   "id": "e74d2069f6f91494",
   "metadata": {
    "ExecuteTime": {
     "end_time": "2023-11-27T01:56:01.086492100Z",
     "start_time": "2023-11-27T01:56:01.070841600Z"
    }
   },
   "outputs": [],
   "source": [
    "df['host_response_rate'].fillna(df['host_response_rate'].mean(), inplace=True)"
   ]
  },
  {
   "cell_type": "code",
   "execution_count": 433,
   "id": "ab8bdf6c12bc321b",
   "metadata": {
    "ExecuteTime": {
     "end_time": "2023-11-27T01:56:01.088138800Z",
     "start_time": "2023-11-27T01:56:01.073420500Z"
    }
   },
   "outputs": [],
   "source": [
    "df['host_acceptance_rate'].fillna(df['host_acceptance_rate'].mean(), inplace=True)"
   ]
  },
  {
   "cell_type": "code",
   "execution_count": 434,
   "id": "1cad412a14736afa",
   "metadata": {
    "ExecuteTime": {
     "end_time": "2023-11-27T01:56:01.093308200Z",
     "start_time": "2023-11-27T01:56:01.078987900Z"
    }
   },
   "outputs": [
    {
     "data": {
      "text/plain": [
       "within an hour        25894\n",
       "within a few hours     5697\n",
       "within a day           2233\n",
       "a few days or more      665\n",
       "Name: host_response_time, dtype: int64"
      ]
     },
     "execution_count": 434,
     "metadata": {},
     "output_type": "execute_result"
    }
   ],
   "source": [
    "df['host_response_time'].value_counts()"
   ]
  },
  {
   "cell_type": "code",
   "execution_count": 435,
   "id": "8031f02911487180",
   "metadata": {
    "ExecuteTime": {
     "end_time": "2023-11-27T01:56:01.118216400Z",
     "start_time": "2023-11-27T01:56:01.088138800Z"
    }
   },
   "outputs": [],
   "source": [
    "import random"
   ]
  },
  {
   "cell_type": "code",
   "execution_count": 436,
   "id": "709f11622d0e976e",
   "metadata": {
    "ExecuteTime": {
     "end_time": "2023-11-27T01:56:01.118216400Z",
     "start_time": "2023-11-27T01:56:01.093308200Z"
    }
   },
   "outputs": [
    {
     "data": {
      "text/plain": [
       "0         1.00\n",
       "1        13.00\n",
       "2         5.00\n",
       "3         1.00\n",
       "4         3.11\n",
       "         ...  \n",
       "44459     1.00\n",
       "44460     1.00\n",
       "44461     1.00\n",
       "44462     5.00\n",
       "44463     5.00\n",
       "Name: host_response_time, Length: 44462, dtype: float64"
      ]
     },
     "execution_count": 436,
     "metadata": {},
     "output_type": "execute_result"
    }
   ],
   "source": [
    "mapping = {'within an hour': random.randint(0,1), 'within a few hours' : random.randint(1,8), 'within a day': random.randint(8,24), 'a few days or more': random.randint(24,168)}\n",
    "df['host_response_time'] = df['host_response_time'].map(mapping)\n",
    "df['host_response_time'].fillna(round(df['host_response_time'].mean(),2), inplace = True)\n",
    "df['host_response_time']"
   ]
  },
  {
   "cell_type": "code",
   "execution_count": 437,
   "id": "3ed95cb70a79ff1",
   "metadata": {
    "ExecuteTime": {
     "end_time": "2023-11-27T01:56:01.526786400Z",
     "start_time": "2023-11-27T01:56:01.371958Z"
    }
   },
   "outputs": [
    {
     "name": "stdout",
     "output_type": "stream",
     "text": [
      "description: 699 (1.572)\n",
      "host_location: 9171 (20.627)\n",
      "host_is_superhost: 11880 (26.719)\n",
      "host_neighbourhood: 9155 (20.591)\n",
      "bathrooms_text: 29 (0.065)\n",
      "beds: 552 (1.242)\n",
      "minimum_minimum_nights: 4 (0.009)\n",
      "maximum_minimum_nights: 4 (0.009)\n",
      "minimum_maximum_nights: 4 (0.009)\n",
      "maximum_maximum_nights: 4 (0.009)\n",
      "minimum_nights_avg_ntm: 4 (0.009)\n",
      "maximum_nights_avg_ntm: 4 (0.009)\n"
     ]
    },
    {
     "data": {
      "text/html": [
       "<div>\n",
       "<style scoped>\n",
       "    .dataframe tbody tr th:only-of-type {\n",
       "        vertical-align: middle;\n",
       "    }\n",
       "\n",
       "    .dataframe tbody tr th {\n",
       "        vertical-align: top;\n",
       "    }\n",
       "\n",
       "    .dataframe thead th {\n",
       "        text-align: right;\n",
       "    }\n",
       "</style>\n",
       "<table border=\"1\" class=\"dataframe\">\n",
       "  <thead>\n",
       "    <tr style=\"text-align: right;\">\n",
       "      <th></th>\n",
       "      <th>0</th>\n",
       "    </tr>\n",
       "  </thead>\n",
       "  <tbody>\n",
       "    <tr>\n",
       "      <th>host_is_superhost</th>\n",
       "      <td>26.719446</td>\n",
       "    </tr>\n",
       "    <tr>\n",
       "      <th>host_location</th>\n",
       "      <td>20.626602</td>\n",
       "    </tr>\n",
       "    <tr>\n",
       "      <th>host_neighbourhood</th>\n",
       "      <td>20.590617</td>\n",
       "    </tr>\n",
       "    <tr>\n",
       "      <th>description</th>\n",
       "      <td>1.572129</td>\n",
       "    </tr>\n",
       "    <tr>\n",
       "      <th>beds</th>\n",
       "      <td>1.241510</td>\n",
       "    </tr>\n",
       "    <tr>\n",
       "      <th>bathrooms_text</th>\n",
       "      <td>0.065224</td>\n",
       "    </tr>\n",
       "    <tr>\n",
       "      <th>minimum_minimum_nights</th>\n",
       "      <td>0.008996</td>\n",
       "    </tr>\n",
       "    <tr>\n",
       "      <th>maximum_minimum_nights</th>\n",
       "      <td>0.008996</td>\n",
       "    </tr>\n",
       "    <tr>\n",
       "      <th>minimum_maximum_nights</th>\n",
       "      <td>0.008996</td>\n",
       "    </tr>\n",
       "    <tr>\n",
       "      <th>maximum_maximum_nights</th>\n",
       "      <td>0.008996</td>\n",
       "    </tr>\n",
       "    <tr>\n",
       "      <th>minimum_nights_avg_ntm</th>\n",
       "      <td>0.008996</td>\n",
       "    </tr>\n",
       "    <tr>\n",
       "      <th>maximum_nights_avg_ntm</th>\n",
       "      <td>0.008996</td>\n",
       "    </tr>\n",
       "  </tbody>\n",
       "</table>\n",
       "</div>"
      ],
      "text/plain": [
       "                                0\n",
       "host_is_superhost       26.719446\n",
       "host_location           20.626602\n",
       "host_neighbourhood      20.590617\n",
       "description              1.572129\n",
       "beds                     1.241510\n",
       "bathrooms_text           0.065224\n",
       "minimum_minimum_nights   0.008996\n",
       "maximum_minimum_nights   0.008996\n",
       "minimum_maximum_nights   0.008996\n",
       "maximum_maximum_nights   0.008996\n",
       "minimum_nights_avg_ntm   0.008996\n",
       "maximum_nights_avg_ntm   0.008996"
      ]
     },
     "execution_count": 437,
     "metadata": {},
     "output_type": "execute_result"
    }
   ],
   "source": [
    "miss_per_4 = get_missing_value_percentage(df)\n",
    "miss_df_4 = pd.DataFrame.from_dict(miss_per_4, orient='index')\n",
    "miss_df_4.sort_values(ascending=False, by=[0])"
   ]
  },
  {
   "cell_type": "code",
   "execution_count": 438,
   "id": "d2244724d67132f2",
   "metadata": {
    "ExecuteTime": {
     "end_time": "2023-11-27T01:56:03.773258900Z",
     "start_time": "2023-11-27T01:56:03.748623200Z"
    }
   },
   "outputs": [
    {
     "data": {
      "text/html": [
       "<div>\n",
       "<style scoped>\n",
       "    .dataframe tbody tr th:only-of-type {\n",
       "        vertical-align: middle;\n",
       "    }\n",
       "\n",
       "    .dataframe tbody tr th {\n",
       "        vertical-align: top;\n",
       "    }\n",
       "\n",
       "    .dataframe thead th {\n",
       "        text-align: right;\n",
       "    }\n",
       "</style>\n",
       "<table border=\"1\" class=\"dataframe\">\n",
       "  <thead>\n",
       "    <tr style=\"text-align: right;\">\n",
       "      <th></th>\n",
       "      <th>name</th>\n",
       "      <th>description</th>\n",
       "      <th>neighborhood_overview</th>\n",
       "      <th>host_id</th>\n",
       "      <th>host_name</th>\n",
       "      <th>host_since</th>\n",
       "      <th>host_location</th>\n",
       "      <th>host_about</th>\n",
       "      <th>host_response_time</th>\n",
       "      <th>host_response_rate</th>\n",
       "      <th>...</th>\n",
       "      <th>review_scores_value</th>\n",
       "      <th>license</th>\n",
       "      <th>instant_bookable</th>\n",
       "      <th>calculated_host_listings_count</th>\n",
       "      <th>calculated_host_listings_count_entire_homes</th>\n",
       "      <th>calculated_host_listings_count_private_rooms</th>\n",
       "      <th>calculated_host_listings_count_shared_rooms</th>\n",
       "      <th>reviews_per_month</th>\n",
       "      <th>host_since_elapsed</th>\n",
       "      <th>last_review_elapsed</th>\n",
       "    </tr>\n",
       "  </thead>\n",
       "  <tbody>\n",
       "    <tr>\n",
       "      <th>0</th>\n",
       "      <td>Bed and breakfast in North Hollywood · ★4.96 ·...</td>\n",
       "      <td>Welcome to our guest studio house! private ent...</td>\n",
       "      <td>True</td>\n",
       "      <td>647546</td>\n",
       "      <td>Marco</td>\n",
       "      <td>2011-05-31</td>\n",
       "      <td>North Hollywood, CA</td>\n",
       "      <td>True</td>\n",
       "      <td>1.00</td>\n",
       "      <td>1.000000</td>\n",
       "      <td>...</td>\n",
       "      <td>4.95</td>\n",
       "      <td>False</td>\n",
       "      <td>False</td>\n",
       "      <td>4</td>\n",
       "      <td>1</td>\n",
       "      <td>3</td>\n",
       "      <td>0</td>\n",
       "      <td>1.67</td>\n",
       "      <td>150.0</td>\n",
       "      <td>36.0</td>\n",
       "    </tr>\n",
       "    <tr>\n",
       "      <th>1</th>\n",
       "      <td>Rental unit in Los Angeles · ★4.30 · 1 bedroom...</td>\n",
       "      <td>&lt;b&gt;The space&lt;/b&gt;&lt;br /&gt;Nice, quiet  master bedr...</td>\n",
       "      <td>False</td>\n",
       "      <td>175264</td>\n",
       "      <td>Michael</td>\n",
       "      <td>2010-07-20</td>\n",
       "      <td>Los Angeles, CA</td>\n",
       "      <td>True</td>\n",
       "      <td>13.00</td>\n",
       "      <td>1.000000</td>\n",
       "      <td>...</td>\n",
       "      <td>4.45</td>\n",
       "      <td>False</td>\n",
       "      <td>False</td>\n",
       "      <td>1</td>\n",
       "      <td>0</td>\n",
       "      <td>1</td>\n",
       "      <td>0</td>\n",
       "      <td>0.08</td>\n",
       "      <td>160.0</td>\n",
       "      <td>63.0</td>\n",
       "    </tr>\n",
       "    <tr>\n",
       "      <th>2</th>\n",
       "      <td>Condo in Culver City · 2 bedrooms · 2 beds · 2...</td>\n",
       "      <td>*** Unit upgraded with new bamboo flooring, ne...</td>\n",
       "      <td>False</td>\n",
       "      <td>521</td>\n",
       "      <td>Paolo</td>\n",
       "      <td>2008-06-27</td>\n",
       "      <td>San Francisco, CA</td>\n",
       "      <td>True</td>\n",
       "      <td>5.00</td>\n",
       "      <td>1.000000</td>\n",
       "      <td>...</td>\n",
       "      <td>4.00</td>\n",
       "      <td>False</td>\n",
       "      <td>False</td>\n",
       "      <td>1</td>\n",
       "      <td>1</td>\n",
       "      <td>0</td>\n",
       "      <td>0</td>\n",
       "      <td>0.01</td>\n",
       "      <td>185.0</td>\n",
       "      <td>90.0</td>\n",
       "    </tr>\n",
       "    <tr>\n",
       "      <th>3</th>\n",
       "      <td>Guesthouse in Manhattan Beach · 1 bedroom · 1 ...</td>\n",
       "      <td>Wake up to the sound of waves crashing on the ...</td>\n",
       "      <td>False</td>\n",
       "      <td>733870</td>\n",
       "      <td>Jeanette</td>\n",
       "      <td>2011-06-23</td>\n",
       "      <td>Fort Lauderdale, FL</td>\n",
       "      <td>True</td>\n",
       "      <td>1.00</td>\n",
       "      <td>1.000000</td>\n",
       "      <td>...</td>\n",
       "      <td>4.00</td>\n",
       "      <td>False</td>\n",
       "      <td>False</td>\n",
       "      <td>2</td>\n",
       "      <td>2</td>\n",
       "      <td>0</td>\n",
       "      <td>0</td>\n",
       "      <td>0.01</td>\n",
       "      <td>149.0</td>\n",
       "      <td>126.0</td>\n",
       "    </tr>\n",
       "    <tr>\n",
       "      <th>4</th>\n",
       "      <td>Hostel in Los Angeles · ★4.37 · 1 bedroom · 1 ...</td>\n",
       "      <td>Best value in most exciting part of DTLA!  Wal...</td>\n",
       "      <td>True</td>\n",
       "      <td>156094545</td>\n",
       "      <td>Sogo</td>\n",
       "      <td>2017-10-24</td>\n",
       "      <td>NaN</td>\n",
       "      <td>False</td>\n",
       "      <td>3.11</td>\n",
       "      <td>0.959705</td>\n",
       "      <td>...</td>\n",
       "      <td>4.53</td>\n",
       "      <td>True</td>\n",
       "      <td>False</td>\n",
       "      <td>14</td>\n",
       "      <td>0</td>\n",
       "      <td>14</td>\n",
       "      <td>0</td>\n",
       "      <td>0.72</td>\n",
       "      <td>73.0</td>\n",
       "      <td>6.0</td>\n",
       "    </tr>\n",
       "  </tbody>\n",
       "</table>\n",
       "<p>5 rows × 62 columns</p>\n",
       "</div>"
      ],
      "text/plain": [
       "                                                name  \\\n",
       "0  Bed and breakfast in North Hollywood · ★4.96 ·...   \n",
       "1  Rental unit in Los Angeles · ★4.30 · 1 bedroom...   \n",
       "2  Condo in Culver City · 2 bedrooms · 2 beds · 2...   \n",
       "3  Guesthouse in Manhattan Beach · 1 bedroom · 1 ...   \n",
       "4  Hostel in Los Angeles · ★4.37 · 1 bedroom · 1 ...   \n",
       "\n",
       "                                         description  neighborhood_overview  \\\n",
       "0  Welcome to our guest studio house! private ent...                   True   \n",
       "1  <b>The space</b><br />Nice, quiet  master bedr...                  False   \n",
       "2  *** Unit upgraded with new bamboo flooring, ne...                  False   \n",
       "3  Wake up to the sound of waves crashing on the ...                  False   \n",
       "4  Best value in most exciting part of DTLA!  Wal...                   True   \n",
       "\n",
       "     host_id host_name host_since        host_location  host_about  \\\n",
       "0     647546     Marco 2011-05-31  North Hollywood, CA        True   \n",
       "1     175264   Michael 2010-07-20      Los Angeles, CA        True   \n",
       "2        521     Paolo 2008-06-27    San Francisco, CA        True   \n",
       "3     733870  Jeanette 2011-06-23  Fort Lauderdale, FL        True   \n",
       "4  156094545      Sogo 2017-10-24                  NaN       False   \n",
       "\n",
       "   host_response_time  host_response_rate  ...  review_scores_value license  \\\n",
       "0                1.00            1.000000  ...                 4.95   False   \n",
       "1               13.00            1.000000  ...                 4.45   False   \n",
       "2                5.00            1.000000  ...                 4.00   False   \n",
       "3                1.00            1.000000  ...                 4.00   False   \n",
       "4                3.11            0.959705  ...                 4.53    True   \n",
       "\n",
       "  instant_bookable  calculated_host_listings_count  \\\n",
       "0            False                               4   \n",
       "1            False                               1   \n",
       "2            False                               1   \n",
       "3            False                               2   \n",
       "4            False                              14   \n",
       "\n",
       "   calculated_host_listings_count_entire_homes  \\\n",
       "0                                            1   \n",
       "1                                            0   \n",
       "2                                            1   \n",
       "3                                            2   \n",
       "4                                            0   \n",
       "\n",
       "  calculated_host_listings_count_private_rooms  \\\n",
       "0                                            3   \n",
       "1                                            1   \n",
       "2                                            0   \n",
       "3                                            0   \n",
       "4                                           14   \n",
       "\n",
       "   calculated_host_listings_count_shared_rooms  reviews_per_month  \\\n",
       "0                                            0               1.67   \n",
       "1                                            0               0.08   \n",
       "2                                            0               0.01   \n",
       "3                                            0               0.01   \n",
       "4                                            0               0.72   \n",
       "\n",
       "  host_since_elapsed last_review_elapsed  \n",
       "0              150.0                36.0  \n",
       "1              160.0                63.0  \n",
       "2              185.0                90.0  \n",
       "3              149.0               126.0  \n",
       "4               73.0                 6.0  \n",
       "\n",
       "[5 rows x 62 columns]"
      ]
     },
     "execution_count": 438,
     "metadata": {},
     "output_type": "execute_result"
    }
   ],
   "source": [
    "df.head()"
   ]
  },
  {
   "cell_type": "code",
   "execution_count": 439,
   "id": "5ccba6043ae9c87f",
   "metadata": {
    "ExecuteTime": {
     "end_time": "2023-11-27T01:56:03.883530400Z",
     "start_time": "2023-11-27T01:56:03.769746300Z"
    }
   },
   "outputs": [
    {
     "name": "stdout",
     "output_type": "stream",
     "text": [
      "Los Angeles, CA              20032\n",
      "California, United States     1049\n",
      "New York, NY                   967\n",
      "Long Beach, CA                 933\n",
      "Santa Monica, CA               890\n",
      "                             ...  \n",
      "Orland Park, IL                  1\n",
      "Kansas City, MO                  1\n",
      "Huntsville, AL                   1\n",
      "Perris, CA                       1\n",
      "Mason, OH                        1\n",
      "Name: host_location, Length: 803, dtype: int64\n"
     ]
    }
   ],
   "source": [
    "#use the state located to replace the value in host_location\n",
    "print(df['host_location'].value_counts())\n",
    "df['host_location'] = df['host_location'].str.extract('(..$)')"
   ]
  },
  {
   "cell_type": "code",
   "execution_count": 440,
   "id": "f3c5a2eb083ef9b8",
   "metadata": {
    "ExecuteTime": {
     "end_time": "2023-11-27T01:56:03.914798400Z",
     "start_time": "2023-11-27T01:56:03.830512500Z"
    }
   },
   "outputs": [
    {
     "data": {
      "text/plain": [
       "array([False])"
      ]
     },
     "execution_count": 440,
     "metadata": {},
     "output_type": "execute_result"
    }
   ],
   "source": [
    "df['host_location'].value_counts()\n",
    "df['host_location'] = df['host_location'].fillna('CA')\n",
    "df['host_location'].isnull().unique()"
   ]
  },
  {
   "cell_type": "code",
   "execution_count": 441,
   "id": "b5376e582cc91396",
   "metadata": {
    "ExecuteTime": {
     "end_time": "2023-11-27T01:56:03.914798400Z",
     "start_time": "2023-11-27T01:56:03.845675200Z"
    }
   },
   "outputs": [],
   "source": [
    "df['host_neighbourhood'].value_counts()\n",
    "#contains too many categories and the necessary information contains in the host_location column, so drop it\n",
    "df.drop('host_neighbourhood', axis = 1, inplace=True)"
   ]
  },
  {
   "cell_type": "code",
   "execution_count": 442,
   "id": "d43ba0117c37b77",
   "metadata": {
    "ExecuteTime": {
     "end_time": "2023-11-27T01:56:06.327997900Z",
     "start_time": "2023-11-27T01:56:06.307545Z"
    }
   },
   "outputs": [],
   "source": [
    "# same as above, drop 'name',  'host_id', 'host_name', 'host_since', 'latitude', 'longitude'\n",
    "df.drop(['name',  'host_id', 'host_name', 'host_since', 'latitude', 'longitude'],axis = 1, inplace=True)"
   ]
  },
  {
   "cell_type": "code",
   "execution_count": 443,
   "id": "4f3b3df90dcb86a5",
   "metadata": {
    "ExecuteTime": {
     "end_time": "2023-11-27T01:56:06.343668700Z",
     "start_time": "2023-11-27T01:56:06.327997900Z"
    }
   },
   "outputs": [],
   "source": [
    "#if the value in 'host_is_superhost' is nan, it is highly likely that the host is not a superhost, so we replace the nan value with False\n",
    "df['host_is_superhost'] = df['host_is_superhost'].fillna(False)"
   ]
  },
  {
   "cell_type": "code",
   "execution_count": 444,
   "id": "314b6b887e3da18c",
   "metadata": {
    "ExecuteTime": {
     "end_time": "2023-11-27T01:56:06.390840300Z",
     "start_time": "2023-11-27T01:56:06.343668700Z"
    }
   },
   "outputs": [
    {
     "name": "stdout",
     "output_type": "stream",
     "text": [
      "description: 699 (1.572)\n",
      "bathrooms_text: 29 (0.065)\n",
      "beds: 552 (1.242)\n",
      "minimum_minimum_nights: 4 (0.009)\n",
      "maximum_minimum_nights: 4 (0.009)\n",
      "minimum_maximum_nights: 4 (0.009)\n",
      "maximum_maximum_nights: 4 (0.009)\n",
      "minimum_nights_avg_ntm: 4 (0.009)\n",
      "maximum_nights_avg_ntm: 4 (0.009)\n"
     ]
    },
    {
     "data": {
      "text/plain": [
       "{'description': 1.5721290090414286,\n",
       " 'bathrooms_text': 0.06522423642661149,\n",
       " 'beds': 1.241509603706536,\n",
       " 'minimum_minimum_nights': 0.00899644640367055,\n",
       " 'maximum_minimum_nights': 0.00899644640367055,\n",
       " 'minimum_maximum_nights': 0.00899644640367055,\n",
       " 'maximum_maximum_nights': 0.00899644640367055,\n",
       " 'minimum_nights_avg_ntm': 0.00899644640367055,\n",
       " 'maximum_nights_avg_ntm': 0.00899644640367055}"
      ]
     },
     "execution_count": 444,
     "metadata": {},
     "output_type": "execute_result"
    }
   ],
   "source": [
    "get_missing_value_percentage(df)"
   ]
  },
  {
   "cell_type": "code",
   "execution_count": 445,
   "id": "5c4486d635c94690",
   "metadata": {
    "ExecuteTime": {
     "end_time": "2023-11-27T01:56:08.862961900Z",
     "start_time": "2023-11-27T01:56:08.508679100Z"
    }
   },
   "outputs": [],
   "source": [
    "df['bathrooms_text'] = df['bathrooms_text'].str.extract('(\\d+)')\n",
    "df['bathrooms_text'] = df['bathrooms_text'].apply(lambda x: float(x) if not pd.isnull(x) else x)"
   ]
  },
  {
   "cell_type": "code",
   "execution_count": 446,
   "id": "e9694a43b3b1a57e",
   "metadata": {
    "ExecuteTime": {
     "end_time": "2023-11-27T01:56:08.867972800Z",
     "start_time": "2023-11-27T01:56:08.862961900Z"
    }
   },
   "outputs": [],
   "source": [
    "df['bathrooms_text'].fillna(np.mean(df['bathrooms_text']), inplace=True)"
   ]
  },
  {
   "cell_type": "code",
   "execution_count": 447,
   "id": "ea51c66392872cb9",
   "metadata": {
    "ExecuteTime": {
     "end_time": "2023-11-27T01:56:08.880427600Z",
     "start_time": "2023-11-27T01:56:08.867972800Z"
    }
   },
   "outputs": [],
   "source": [
    "df['beds'].fillna(np.mean(df['beds']), inplace=True)"
   ]
  },
  {
   "cell_type": "code",
   "execution_count": 448,
   "id": "3ae5830765d99112",
   "metadata": {
    "ExecuteTime": {
     "end_time": "2023-11-27T01:56:08.992577200Z",
     "start_time": "2023-11-27T01:56:08.874909500Z"
    }
   },
   "outputs": [
    {
     "data": {
      "text/plain": [
       "{}"
      ]
     },
     "execution_count": 448,
     "metadata": {},
     "output_type": "execute_result"
    }
   ],
   "source": [
    "df.dropna(inplace=True)\n",
    "get_missing_value_percentage(df)"
   ]
  },
  {
   "cell_type": "code",
   "execution_count": 449,
   "id": "a5201749be676793",
   "metadata": {
    "ExecuteTime": {
     "end_time": "2023-11-27T01:56:10.887894900Z",
     "start_time": "2023-11-27T01:56:10.841150300Z"
    }
   },
   "outputs": [
    {
     "data": {
      "text/html": [
       "<div>\n",
       "<style scoped>\n",
       "    .dataframe tbody tr th:only-of-type {\n",
       "        vertical-align: middle;\n",
       "    }\n",
       "\n",
       "    .dataframe tbody tr th {\n",
       "        vertical-align: top;\n",
       "    }\n",
       "\n",
       "    .dataframe thead th {\n",
       "        text-align: right;\n",
       "    }\n",
       "</style>\n",
       "<table border=\"1\" class=\"dataframe\">\n",
       "  <thead>\n",
       "    <tr style=\"text-align: right;\">\n",
       "      <th></th>\n",
       "      <th>description</th>\n",
       "      <th>neighborhood_overview</th>\n",
       "      <th>host_location</th>\n",
       "      <th>host_about</th>\n",
       "      <th>host_response_time</th>\n",
       "      <th>host_response_rate</th>\n",
       "      <th>host_acceptance_rate</th>\n",
       "      <th>host_is_superhost</th>\n",
       "      <th>host_listings_count</th>\n",
       "      <th>host_total_listings_count</th>\n",
       "      <th>...</th>\n",
       "      <th>review_scores_value</th>\n",
       "      <th>license</th>\n",
       "      <th>instant_bookable</th>\n",
       "      <th>calculated_host_listings_count</th>\n",
       "      <th>calculated_host_listings_count_entire_homes</th>\n",
       "      <th>calculated_host_listings_count_private_rooms</th>\n",
       "      <th>calculated_host_listings_count_shared_rooms</th>\n",
       "      <th>reviews_per_month</th>\n",
       "      <th>host_since_elapsed</th>\n",
       "      <th>last_review_elapsed</th>\n",
       "    </tr>\n",
       "  </thead>\n",
       "  <tbody>\n",
       "    <tr>\n",
       "      <th>0</th>\n",
       "      <td>Welcome to our guest studio house! private ent...</td>\n",
       "      <td>True</td>\n",
       "      <td>CA</td>\n",
       "      <td>True</td>\n",
       "      <td>1.00</td>\n",
       "      <td>1.000000</td>\n",
       "      <td>1.000000</td>\n",
       "      <td>False</td>\n",
       "      <td>4.0</td>\n",
       "      <td>9.0</td>\n",
       "      <td>...</td>\n",
       "      <td>4.95</td>\n",
       "      <td>False</td>\n",
       "      <td>False</td>\n",
       "      <td>4</td>\n",
       "      <td>1</td>\n",
       "      <td>3</td>\n",
       "      <td>0</td>\n",
       "      <td>1.67</td>\n",
       "      <td>150.0</td>\n",
       "      <td>36.0</td>\n",
       "    </tr>\n",
       "    <tr>\n",
       "      <th>1</th>\n",
       "      <td>&lt;b&gt;The space&lt;/b&gt;&lt;br /&gt;Nice, quiet  master bedr...</td>\n",
       "      <td>False</td>\n",
       "      <td>CA</td>\n",
       "      <td>True</td>\n",
       "      <td>13.00</td>\n",
       "      <td>1.000000</td>\n",
       "      <td>0.170000</td>\n",
       "      <td>False</td>\n",
       "      <td>1.0</td>\n",
       "      <td>3.0</td>\n",
       "      <td>...</td>\n",
       "      <td>4.45</td>\n",
       "      <td>False</td>\n",
       "      <td>False</td>\n",
       "      <td>1</td>\n",
       "      <td>0</td>\n",
       "      <td>1</td>\n",
       "      <td>0</td>\n",
       "      <td>0.08</td>\n",
       "      <td>160.0</td>\n",
       "      <td>63.0</td>\n",
       "    </tr>\n",
       "    <tr>\n",
       "      <th>2</th>\n",
       "      <td>*** Unit upgraded with new bamboo flooring, ne...</td>\n",
       "      <td>False</td>\n",
       "      <td>CA</td>\n",
       "      <td>True</td>\n",
       "      <td>5.00</td>\n",
       "      <td>1.000000</td>\n",
       "      <td>0.000000</td>\n",
       "      <td>False</td>\n",
       "      <td>1.0</td>\n",
       "      <td>3.0</td>\n",
       "      <td>...</td>\n",
       "      <td>4.00</td>\n",
       "      <td>False</td>\n",
       "      <td>False</td>\n",
       "      <td>1</td>\n",
       "      <td>1</td>\n",
       "      <td>0</td>\n",
       "      <td>0</td>\n",
       "      <td>0.01</td>\n",
       "      <td>185.0</td>\n",
       "      <td>90.0</td>\n",
       "    </tr>\n",
       "    <tr>\n",
       "      <th>3</th>\n",
       "      <td>Wake up to the sound of waves crashing on the ...</td>\n",
       "      <td>False</td>\n",
       "      <td>FL</td>\n",
       "      <td>True</td>\n",
       "      <td>1.00</td>\n",
       "      <td>1.000000</td>\n",
       "      <td>0.990000</td>\n",
       "      <td>True</td>\n",
       "      <td>12.0</td>\n",
       "      <td>12.0</td>\n",
       "      <td>...</td>\n",
       "      <td>4.00</td>\n",
       "      <td>False</td>\n",
       "      <td>False</td>\n",
       "      <td>2</td>\n",
       "      <td>2</td>\n",
       "      <td>0</td>\n",
       "      <td>0</td>\n",
       "      <td>0.01</td>\n",
       "      <td>149.0</td>\n",
       "      <td>126.0</td>\n",
       "    </tr>\n",
       "    <tr>\n",
       "      <th>4</th>\n",
       "      <td>Best value in most exciting part of DTLA!  Wal...</td>\n",
       "      <td>True</td>\n",
       "      <td>CA</td>\n",
       "      <td>False</td>\n",
       "      <td>3.11</td>\n",
       "      <td>0.959705</td>\n",
       "      <td>0.897212</td>\n",
       "      <td>False</td>\n",
       "      <td>20.0</td>\n",
       "      <td>24.0</td>\n",
       "      <td>...</td>\n",
       "      <td>4.53</td>\n",
       "      <td>True</td>\n",
       "      <td>False</td>\n",
       "      <td>14</td>\n",
       "      <td>0</td>\n",
       "      <td>14</td>\n",
       "      <td>0</td>\n",
       "      <td>0.72</td>\n",
       "      <td>73.0</td>\n",
       "      <td>6.0</td>\n",
       "    </tr>\n",
       "  </tbody>\n",
       "</table>\n",
       "<p>5 rows × 55 columns</p>\n",
       "</div>"
      ],
      "text/plain": [
       "                                         description  neighborhood_overview  \\\n",
       "0  Welcome to our guest studio house! private ent...                   True   \n",
       "1  <b>The space</b><br />Nice, quiet  master bedr...                  False   \n",
       "2  *** Unit upgraded with new bamboo flooring, ne...                  False   \n",
       "3  Wake up to the sound of waves crashing on the ...                  False   \n",
       "4  Best value in most exciting part of DTLA!  Wal...                   True   \n",
       "\n",
       "  host_location  host_about  host_response_time  host_response_rate  \\\n",
       "0            CA        True                1.00            1.000000   \n",
       "1            CA        True               13.00            1.000000   \n",
       "2            CA        True                5.00            1.000000   \n",
       "3            FL        True                1.00            1.000000   \n",
       "4            CA       False                3.11            0.959705   \n",
       "\n",
       "   host_acceptance_rate  host_is_superhost  host_listings_count  \\\n",
       "0              1.000000              False                  4.0   \n",
       "1              0.170000              False                  1.0   \n",
       "2              0.000000              False                  1.0   \n",
       "3              0.990000               True                 12.0   \n",
       "4              0.897212              False                 20.0   \n",
       "\n",
       "   host_total_listings_count  ... review_scores_value  license  \\\n",
       "0                        9.0  ...                4.95    False   \n",
       "1                        3.0  ...                4.45    False   \n",
       "2                        3.0  ...                4.00    False   \n",
       "3                       12.0  ...                4.00    False   \n",
       "4                       24.0  ...                4.53     True   \n",
       "\n",
       "   instant_bookable calculated_host_listings_count  \\\n",
       "0             False                              4   \n",
       "1             False                              1   \n",
       "2             False                              1   \n",
       "3             False                              2   \n",
       "4             False                             14   \n",
       "\n",
       "  calculated_host_listings_count_entire_homes  \\\n",
       "0                                           1   \n",
       "1                                           0   \n",
       "2                                           1   \n",
       "3                                           2   \n",
       "4                                           0   \n",
       "\n",
       "  calculated_host_listings_count_private_rooms  \\\n",
       "0                                            3   \n",
       "1                                            1   \n",
       "2                                            0   \n",
       "3                                            0   \n",
       "4                                           14   \n",
       "\n",
       "  calculated_host_listings_count_shared_rooms  reviews_per_month  \\\n",
       "0                                           0               1.67   \n",
       "1                                           0               0.08   \n",
       "2                                           0               0.01   \n",
       "3                                           0               0.01   \n",
       "4                                           0               0.72   \n",
       "\n",
       "   host_since_elapsed  last_review_elapsed  \n",
       "0               150.0                 36.0  \n",
       "1               160.0                 63.0  \n",
       "2               185.0                 90.0  \n",
       "3               149.0                126.0  \n",
       "4                73.0                  6.0  \n",
       "\n",
       "[5 rows x 55 columns]"
      ]
     },
     "execution_count": 449,
     "metadata": {},
     "output_type": "execute_result"
    }
   ],
   "source": [
    "df.head()"
   ]
  },
  {
   "cell_type": "markdown",
   "id": "b4da332169f76bce",
   "metadata": {},
   "source": [
    "## handle the categorical features"
   ]
  },
  {
   "cell_type": "code",
   "execution_count": 450,
   "id": "65e9835d7f8f0351",
   "metadata": {
    "ExecuteTime": {
     "end_time": "2023-11-27T01:56:13.276750800Z",
     "start_time": "2023-11-27T01:56:13.270004600Z"
    }
   },
   "outputs": [
    {
     "data": {
      "text/plain": [
       "['description',\n",
       " 'host_location',\n",
       " 'host_verifications',\n",
       " 'neighbourhood_cleansed',\n",
       " 'neighbourhood_group_cleansed',\n",
       " 'property_type',\n",
       " 'room_type',\n",
       " 'amenities']"
      ]
     },
     "execution_count": 450,
     "metadata": {},
     "output_type": "execute_result"
    }
   ],
   "source": [
    "cat_cols = [col for col in df.columns if df[col].dtype == 'object' ]\n",
    "cat_cols"
   ]
  },
  {
   "cell_type": "code",
   "execution_count": 451,
   "id": "e6a1c490875350d0",
   "metadata": {
    "ExecuteTime": {
     "end_time": "2023-11-27T01:56:14.907717900Z",
     "start_time": "2023-11-27T01:56:14.881738300Z"
    }
   },
   "outputs": [],
   "source": [
    "\n",
    "df['host_location'] = df['host_location'].apply(lambda x: x.upper())\n",
    "df['host_location'].unique() # too many categories, drop it\n",
    "df.drop('host_location', axis = 1, inplace = True)"
   ]
  },
  {
   "cell_type": "code",
   "execution_count": 452,
   "id": "6a8808dcbfc9cea8",
   "metadata": {
    "ExecuteTime": {
     "end_time": "2023-11-27T01:56:17.035784200Z",
     "start_time": "2023-11-27T01:56:17.023120800Z"
    }
   },
   "outputs": [
    {
     "data": {
      "text/plain": [
       "array([\"['email', 'phone']\", \"['email', 'phone', 'work_email']\",\n",
       "       \"['phone']\", \"['email']\", \"['phone', 'work_email']\", '[]',\n",
       "       \"['work_email']\"], dtype=object)"
      ]
     },
     "execution_count": 452,
     "metadata": {},
     "output_type": "execute_result"
    }
   ],
   "source": [
    "df['host_verifications'].unique()"
   ]
  },
  {
   "cell_type": "code",
   "execution_count": 453,
   "id": "a79201aef741c0f6",
   "metadata": {
    "ExecuteTime": {
     "end_time": "2023-11-27T01:56:19.143262600Z",
     "start_time": "2023-11-27T01:56:19.125827900Z"
    }
   },
   "outputs": [],
   "source": [
    "from sklearn.preprocessing import MultiLabelBinarizer"
   ]
  },
  {
   "cell_type": "code",
   "execution_count": 454,
   "id": "7ae311d8c7031641",
   "metadata": {
    "ExecuteTime": {
     "end_time": "2023-11-27T01:56:19.601485700Z",
     "start_time": "2023-11-27T01:56:19.125827900Z"
    }
   },
   "outputs": [],
   "source": [
    "mlb = MultiLabelBinarizer()\n",
    "df['host_verifications'] = df['host_verifications'].apply(eval) # convert string to list"
   ]
  },
  {
   "cell_type": "code",
   "execution_count": 455,
   "id": "a2ec8ae0e6dc88cc",
   "metadata": {
    "ExecuteTime": {
     "end_time": "2023-11-27T01:56:19.664260900Z",
     "start_time": "2023-11-27T01:56:19.601485700Z"
    }
   },
   "outputs": [
    {
     "data": {
      "text/plain": [
       "array([[1, 1, 0],\n",
       "       [1, 1, 0],\n",
       "       [1, 1, 0],\n",
       "       ...,\n",
       "       [1, 1, 0],\n",
       "       [1, 1, 0],\n",
       "       [1, 1, 0]])"
      ]
     },
     "execution_count": 455,
     "metadata": {},
     "output_type": "execute_result"
    }
   ],
   "source": [
    "\n",
    "encoded_veri = mlb.fit_transform(df['host_verifications'])\n",
    "encoded_veri"
   ]
  },
  {
   "cell_type": "code",
   "execution_count": 456,
   "id": "e79271f3d57c2112",
   "metadata": {
    "ExecuteTime": {
     "end_time": "2023-11-27T01:56:21.712942400Z",
     "start_time": "2023-11-27T01:56:21.701137400Z"
    }
   },
   "outputs": [
    {
     "data": {
      "text/html": [
       "<div>\n",
       "<style scoped>\n",
       "    .dataframe tbody tr th:only-of-type {\n",
       "        vertical-align: middle;\n",
       "    }\n",
       "\n",
       "    .dataframe tbody tr th {\n",
       "        vertical-align: top;\n",
       "    }\n",
       "\n",
       "    .dataframe thead th {\n",
       "        text-align: right;\n",
       "    }\n",
       "</style>\n",
       "<table border=\"1\" class=\"dataframe\">\n",
       "  <thead>\n",
       "    <tr style=\"text-align: right;\">\n",
       "      <th></th>\n",
       "      <th>email</th>\n",
       "      <th>phone</th>\n",
       "      <th>work_email</th>\n",
       "    </tr>\n",
       "  </thead>\n",
       "  <tbody>\n",
       "    <tr>\n",
       "      <th>0</th>\n",
       "      <td>1</td>\n",
       "      <td>1</td>\n",
       "      <td>0</td>\n",
       "    </tr>\n",
       "    <tr>\n",
       "      <th>1</th>\n",
       "      <td>1</td>\n",
       "      <td>1</td>\n",
       "      <td>0</td>\n",
       "    </tr>\n",
       "    <tr>\n",
       "      <th>2</th>\n",
       "      <td>1</td>\n",
       "      <td>1</td>\n",
       "      <td>0</td>\n",
       "    </tr>\n",
       "    <tr>\n",
       "      <th>3</th>\n",
       "      <td>1</td>\n",
       "      <td>1</td>\n",
       "      <td>0</td>\n",
       "    </tr>\n",
       "    <tr>\n",
       "      <th>4</th>\n",
       "      <td>1</td>\n",
       "      <td>1</td>\n",
       "      <td>0</td>\n",
       "    </tr>\n",
       "    <tr>\n",
       "      <th>...</th>\n",
       "      <td>...</td>\n",
       "      <td>...</td>\n",
       "      <td>...</td>\n",
       "    </tr>\n",
       "    <tr>\n",
       "      <th>44459</th>\n",
       "      <td>1</td>\n",
       "      <td>1</td>\n",
       "      <td>1</td>\n",
       "    </tr>\n",
       "    <tr>\n",
       "      <th>44460</th>\n",
       "      <td>1</td>\n",
       "      <td>1</td>\n",
       "      <td>0</td>\n",
       "    </tr>\n",
       "    <tr>\n",
       "      <th>44461</th>\n",
       "      <td>1</td>\n",
       "      <td>1</td>\n",
       "      <td>0</td>\n",
       "    </tr>\n",
       "    <tr>\n",
       "      <th>44462</th>\n",
       "      <td>1</td>\n",
       "      <td>1</td>\n",
       "      <td>0</td>\n",
       "    </tr>\n",
       "    <tr>\n",
       "      <th>44463</th>\n",
       "      <td>1</td>\n",
       "      <td>1</td>\n",
       "      <td>0</td>\n",
       "    </tr>\n",
       "  </tbody>\n",
       "</table>\n",
       "<p>43763 rows × 3 columns</p>\n",
       "</div>"
      ],
      "text/plain": [
       "       email  phone  work_email\n",
       "0          1      1           0\n",
       "1          1      1           0\n",
       "2          1      1           0\n",
       "3          1      1           0\n",
       "4          1      1           0\n",
       "...      ...    ...         ...\n",
       "44459      1      1           1\n",
       "44460      1      1           0\n",
       "44461      1      1           0\n",
       "44462      1      1           0\n",
       "44463      1      1           0\n",
       "\n",
       "[43763 rows x 3 columns]"
      ]
     },
     "execution_count": 456,
     "metadata": {},
     "output_type": "execute_result"
    }
   ],
   "source": [
    "df_veri = pd.DataFrame(encoded_veri, columns = mlb.classes_, index=df.index)\n",
    "df_veri"
   ]
  },
  {
   "cell_type": "code",
   "execution_count": 457,
   "id": "fee2b21cb0846692",
   "metadata": {
    "ExecuteTime": {
     "end_time": "2023-11-27T01:56:28.430033900Z",
     "start_time": "2023-11-27T01:56:28.398484800Z"
    }
   },
   "outputs": [
    {
     "data": {
      "text/plain": [
       "(43763, 54)"
      ]
     },
     "execution_count": 457,
     "metadata": {},
     "output_type": "execute_result"
    }
   ],
   "source": [
    "df.shape"
   ]
  },
  {
   "cell_type": "code",
   "execution_count": 458,
   "id": "d6e92f1341cdabc8",
   "metadata": {
    "ExecuteTime": {
     "end_time": "2023-11-27T01:57:01.539137900Z",
     "start_time": "2023-11-27T01:57:01.455467800Z"
    }
   },
   "outputs": [
    {
     "data": {
      "text/plain": [
       "(43763, 56)"
      ]
     },
     "execution_count": 458,
     "metadata": {},
     "output_type": "execute_result"
    }
   ],
   "source": [
    "df_new = pd.concat([df, df_veri], axis = 1)\n",
    "df_new.drop(['host_verifications'], axis = 1, inplace = True)\n",
    "df_new.dropna(inplace = True)\n",
    "df_new.shape"
   ]
  },
  {
   "cell_type": "code",
   "execution_count": 459,
   "id": "33ee6158f7a88bd5",
   "metadata": {
    "ExecuteTime": {
     "end_time": "2023-11-27T01:57:04.351608600Z",
     "start_time": "2023-11-27T01:57:04.288717900Z"
    }
   },
   "outputs": [
    {
     "data": {
      "text/html": [
       "<div>\n",
       "<style scoped>\n",
       "    .dataframe tbody tr th:only-of-type {\n",
       "        vertical-align: middle;\n",
       "    }\n",
       "\n",
       "    .dataframe tbody tr th {\n",
       "        vertical-align: top;\n",
       "    }\n",
       "\n",
       "    .dataframe thead th {\n",
       "        text-align: right;\n",
       "    }\n",
       "</style>\n",
       "<table border=\"1\" class=\"dataframe\">\n",
       "  <thead>\n",
       "    <tr style=\"text-align: right;\">\n",
       "      <th></th>\n",
       "      <th>description</th>\n",
       "      <th>neighborhood_overview</th>\n",
       "      <th>host_about</th>\n",
       "      <th>host_response_time</th>\n",
       "      <th>host_response_rate</th>\n",
       "      <th>host_acceptance_rate</th>\n",
       "      <th>host_is_superhost</th>\n",
       "      <th>host_listings_count</th>\n",
       "      <th>host_total_listings_count</th>\n",
       "      <th>host_has_profile_pic</th>\n",
       "      <th>...</th>\n",
       "      <th>calculated_host_listings_count</th>\n",
       "      <th>calculated_host_listings_count_entire_homes</th>\n",
       "      <th>calculated_host_listings_count_private_rooms</th>\n",
       "      <th>calculated_host_listings_count_shared_rooms</th>\n",
       "      <th>reviews_per_month</th>\n",
       "      <th>host_since_elapsed</th>\n",
       "      <th>last_review_elapsed</th>\n",
       "      <th>email</th>\n",
       "      <th>phone</th>\n",
       "      <th>work_email</th>\n",
       "    </tr>\n",
       "  </thead>\n",
       "  <tbody>\n",
       "    <tr>\n",
       "      <th>0</th>\n",
       "      <td>Welcome to our guest studio house! private ent...</td>\n",
       "      <td>True</td>\n",
       "      <td>True</td>\n",
       "      <td>1.00</td>\n",
       "      <td>1.000000</td>\n",
       "      <td>1.000000</td>\n",
       "      <td>False</td>\n",
       "      <td>4.0</td>\n",
       "      <td>9.0</td>\n",
       "      <td>True</td>\n",
       "      <td>...</td>\n",
       "      <td>4</td>\n",
       "      <td>1</td>\n",
       "      <td>3</td>\n",
       "      <td>0</td>\n",
       "      <td>1.67</td>\n",
       "      <td>150.0</td>\n",
       "      <td>36.0</td>\n",
       "      <td>1</td>\n",
       "      <td>1</td>\n",
       "      <td>0</td>\n",
       "    </tr>\n",
       "    <tr>\n",
       "      <th>1</th>\n",
       "      <td>&lt;b&gt;The space&lt;/b&gt;&lt;br /&gt;Nice, quiet  master bedr...</td>\n",
       "      <td>False</td>\n",
       "      <td>True</td>\n",
       "      <td>13.00</td>\n",
       "      <td>1.000000</td>\n",
       "      <td>0.170000</td>\n",
       "      <td>False</td>\n",
       "      <td>1.0</td>\n",
       "      <td>3.0</td>\n",
       "      <td>True</td>\n",
       "      <td>...</td>\n",
       "      <td>1</td>\n",
       "      <td>0</td>\n",
       "      <td>1</td>\n",
       "      <td>0</td>\n",
       "      <td>0.08</td>\n",
       "      <td>160.0</td>\n",
       "      <td>63.0</td>\n",
       "      <td>1</td>\n",
       "      <td>1</td>\n",
       "      <td>0</td>\n",
       "    </tr>\n",
       "    <tr>\n",
       "      <th>2</th>\n",
       "      <td>*** Unit upgraded with new bamboo flooring, ne...</td>\n",
       "      <td>False</td>\n",
       "      <td>True</td>\n",
       "      <td>5.00</td>\n",
       "      <td>1.000000</td>\n",
       "      <td>0.000000</td>\n",
       "      <td>False</td>\n",
       "      <td>1.0</td>\n",
       "      <td>3.0</td>\n",
       "      <td>True</td>\n",
       "      <td>...</td>\n",
       "      <td>1</td>\n",
       "      <td>1</td>\n",
       "      <td>0</td>\n",
       "      <td>0</td>\n",
       "      <td>0.01</td>\n",
       "      <td>185.0</td>\n",
       "      <td>90.0</td>\n",
       "      <td>1</td>\n",
       "      <td>1</td>\n",
       "      <td>0</td>\n",
       "    </tr>\n",
       "    <tr>\n",
       "      <th>3</th>\n",
       "      <td>Wake up to the sound of waves crashing on the ...</td>\n",
       "      <td>False</td>\n",
       "      <td>True</td>\n",
       "      <td>1.00</td>\n",
       "      <td>1.000000</td>\n",
       "      <td>0.990000</td>\n",
       "      <td>True</td>\n",
       "      <td>12.0</td>\n",
       "      <td>12.0</td>\n",
       "      <td>True</td>\n",
       "      <td>...</td>\n",
       "      <td>2</td>\n",
       "      <td>2</td>\n",
       "      <td>0</td>\n",
       "      <td>0</td>\n",
       "      <td>0.01</td>\n",
       "      <td>149.0</td>\n",
       "      <td>126.0</td>\n",
       "      <td>1</td>\n",
       "      <td>1</td>\n",
       "      <td>0</td>\n",
       "    </tr>\n",
       "    <tr>\n",
       "      <th>4</th>\n",
       "      <td>Best value in most exciting part of DTLA!  Wal...</td>\n",
       "      <td>True</td>\n",
       "      <td>False</td>\n",
       "      <td>3.11</td>\n",
       "      <td>0.959705</td>\n",
       "      <td>0.897212</td>\n",
       "      <td>False</td>\n",
       "      <td>20.0</td>\n",
       "      <td>24.0</td>\n",
       "      <td>False</td>\n",
       "      <td>...</td>\n",
       "      <td>14</td>\n",
       "      <td>0</td>\n",
       "      <td>14</td>\n",
       "      <td>0</td>\n",
       "      <td>0.72</td>\n",
       "      <td>73.0</td>\n",
       "      <td>6.0</td>\n",
       "      <td>1</td>\n",
       "      <td>1</td>\n",
       "      <td>0</td>\n",
       "    </tr>\n",
       "    <tr>\n",
       "      <th>...</th>\n",
       "      <td>...</td>\n",
       "      <td>...</td>\n",
       "      <td>...</td>\n",
       "      <td>...</td>\n",
       "      <td>...</td>\n",
       "      <td>...</td>\n",
       "      <td>...</td>\n",
       "      <td>...</td>\n",
       "      <td>...</td>\n",
       "      <td>...</td>\n",
       "      <td>...</td>\n",
       "      <td>...</td>\n",
       "      <td>...</td>\n",
       "      <td>...</td>\n",
       "      <td>...</td>\n",
       "      <td>...</td>\n",
       "      <td>...</td>\n",
       "      <td>...</td>\n",
       "      <td>...</td>\n",
       "      <td>...</td>\n",
       "      <td>...</td>\n",
       "    </tr>\n",
       "    <tr>\n",
       "      <th>44459</th>\n",
       "      <td>Guesthouse is a collection of creatively desig...</td>\n",
       "      <td>False</td>\n",
       "      <td>True</td>\n",
       "      <td>1.00</td>\n",
       "      <td>1.000000</td>\n",
       "      <td>0.740000</td>\n",
       "      <td>True</td>\n",
       "      <td>13.0</td>\n",
       "      <td>36.0</td>\n",
       "      <td>True</td>\n",
       "      <td>...</td>\n",
       "      <td>9</td>\n",
       "      <td>9</td>\n",
       "      <td>0</td>\n",
       "      <td>0</td>\n",
       "      <td>0.00</td>\n",
       "      <td>47.0</td>\n",
       "      <td>150.0</td>\n",
       "      <td>1</td>\n",
       "      <td>1</td>\n",
       "      <td>1</td>\n",
       "    </tr>\n",
       "    <tr>\n",
       "      <th>44460</th>\n",
       "      <td>&gt; Private room with shared bathroom &lt;br /&gt;&gt; 3 ...</td>\n",
       "      <td>True</td>\n",
       "      <td>True</td>\n",
       "      <td>1.00</td>\n",
       "      <td>0.930000</td>\n",
       "      <td>0.840000</td>\n",
       "      <td>False</td>\n",
       "      <td>137.0</td>\n",
       "      <td>195.0</td>\n",
       "      <td>True</td>\n",
       "      <td>...</td>\n",
       "      <td>106</td>\n",
       "      <td>23</td>\n",
       "      <td>83</td>\n",
       "      <td>0</td>\n",
       "      <td>0.00</td>\n",
       "      <td>54.0</td>\n",
       "      <td>150.0</td>\n",
       "      <td>1</td>\n",
       "      <td>1</td>\n",
       "      <td>0</td>\n",
       "    </tr>\n",
       "    <tr>\n",
       "      <th>44461</th>\n",
       "      <td>&gt; CoLiving apartment with 3 private bedrooms i...</td>\n",
       "      <td>True</td>\n",
       "      <td>True</td>\n",
       "      <td>1.00</td>\n",
       "      <td>0.930000</td>\n",
       "      <td>0.840000</td>\n",
       "      <td>False</td>\n",
       "      <td>137.0</td>\n",
       "      <td>195.0</td>\n",
       "      <td>True</td>\n",
       "      <td>...</td>\n",
       "      <td>106</td>\n",
       "      <td>23</td>\n",
       "      <td>83</td>\n",
       "      <td>0</td>\n",
       "      <td>0.00</td>\n",
       "      <td>54.0</td>\n",
       "      <td>150.0</td>\n",
       "      <td>1</td>\n",
       "      <td>1</td>\n",
       "      <td>0</td>\n",
       "    </tr>\n",
       "    <tr>\n",
       "      <th>44462</th>\n",
       "      <td>Enjoy a stylish experience at this centrally-l...</td>\n",
       "      <td>False</td>\n",
       "      <td>False</td>\n",
       "      <td>5.00</td>\n",
       "      <td>0.610000</td>\n",
       "      <td>0.560000</td>\n",
       "      <td>False</td>\n",
       "      <td>74.0</td>\n",
       "      <td>85.0</td>\n",
       "      <td>True</td>\n",
       "      <td>...</td>\n",
       "      <td>69</td>\n",
       "      <td>18</td>\n",
       "      <td>51</td>\n",
       "      <td>0</td>\n",
       "      <td>0.00</td>\n",
       "      <td>33.0</td>\n",
       "      <td>150.0</td>\n",
       "      <td>1</td>\n",
       "      <td>1</td>\n",
       "      <td>0</td>\n",
       "    </tr>\n",
       "    <tr>\n",
       "      <th>44463</th>\n",
       "      <td>The whole group will enjoy easy access to ever...</td>\n",
       "      <td>False</td>\n",
       "      <td>False</td>\n",
       "      <td>5.00</td>\n",
       "      <td>0.610000</td>\n",
       "      <td>0.560000</td>\n",
       "      <td>False</td>\n",
       "      <td>74.0</td>\n",
       "      <td>85.0</td>\n",
       "      <td>True</td>\n",
       "      <td>...</td>\n",
       "      <td>69</td>\n",
       "      <td>18</td>\n",
       "      <td>51</td>\n",
       "      <td>0</td>\n",
       "      <td>0.00</td>\n",
       "      <td>33.0</td>\n",
       "      <td>150.0</td>\n",
       "      <td>1</td>\n",
       "      <td>1</td>\n",
       "      <td>0</td>\n",
       "    </tr>\n",
       "  </tbody>\n",
       "</table>\n",
       "<p>43763 rows × 56 columns</p>\n",
       "</div>"
      ],
      "text/plain": [
       "                                             description  \\\n",
       "0      Welcome to our guest studio house! private ent...   \n",
       "1      <b>The space</b><br />Nice, quiet  master bedr...   \n",
       "2      *** Unit upgraded with new bamboo flooring, ne...   \n",
       "3      Wake up to the sound of waves crashing on the ...   \n",
       "4      Best value in most exciting part of DTLA!  Wal...   \n",
       "...                                                  ...   \n",
       "44459  Guesthouse is a collection of creatively desig...   \n",
       "44460  > Private room with shared bathroom <br />> 3 ...   \n",
       "44461  > CoLiving apartment with 3 private bedrooms i...   \n",
       "44462  Enjoy a stylish experience at this centrally-l...   \n",
       "44463  The whole group will enjoy easy access to ever...   \n",
       "\n",
       "       neighborhood_overview  host_about  host_response_time  \\\n",
       "0                       True        True                1.00   \n",
       "1                      False        True               13.00   \n",
       "2                      False        True                5.00   \n",
       "3                      False        True                1.00   \n",
       "4                       True       False                3.11   \n",
       "...                      ...         ...                 ...   \n",
       "44459                  False        True                1.00   \n",
       "44460                   True        True                1.00   \n",
       "44461                   True        True                1.00   \n",
       "44462                  False       False                5.00   \n",
       "44463                  False       False                5.00   \n",
       "\n",
       "       host_response_rate  host_acceptance_rate  host_is_superhost  \\\n",
       "0                1.000000              1.000000              False   \n",
       "1                1.000000              0.170000              False   \n",
       "2                1.000000              0.000000              False   \n",
       "3                1.000000              0.990000               True   \n",
       "4                0.959705              0.897212              False   \n",
       "...                   ...                   ...                ...   \n",
       "44459            1.000000              0.740000               True   \n",
       "44460            0.930000              0.840000              False   \n",
       "44461            0.930000              0.840000              False   \n",
       "44462            0.610000              0.560000              False   \n",
       "44463            0.610000              0.560000              False   \n",
       "\n",
       "       host_listings_count  host_total_listings_count  host_has_profile_pic  \\\n",
       "0                      4.0                        9.0                  True   \n",
       "1                      1.0                        3.0                  True   \n",
       "2                      1.0                        3.0                  True   \n",
       "3                     12.0                       12.0                  True   \n",
       "4                     20.0                       24.0                 False   \n",
       "...                    ...                        ...                   ...   \n",
       "44459                 13.0                       36.0                  True   \n",
       "44460                137.0                      195.0                  True   \n",
       "44461                137.0                      195.0                  True   \n",
       "44462                 74.0                       85.0                  True   \n",
       "44463                 74.0                       85.0                  True   \n",
       "\n",
       "       ...  calculated_host_listings_count  \\\n",
       "0      ...                               4   \n",
       "1      ...                               1   \n",
       "2      ...                               1   \n",
       "3      ...                               2   \n",
       "4      ...                              14   \n",
       "...    ...                             ...   \n",
       "44459  ...                               9   \n",
       "44460  ...                             106   \n",
       "44461  ...                             106   \n",
       "44462  ...                              69   \n",
       "44463  ...                              69   \n",
       "\n",
       "      calculated_host_listings_count_entire_homes  \\\n",
       "0                                               1   \n",
       "1                                               0   \n",
       "2                                               1   \n",
       "3                                               2   \n",
       "4                                               0   \n",
       "...                                           ...   \n",
       "44459                                           9   \n",
       "44460                                          23   \n",
       "44461                                          23   \n",
       "44462                                          18   \n",
       "44463                                          18   \n",
       "\n",
       "      calculated_host_listings_count_private_rooms  \\\n",
       "0                                                3   \n",
       "1                                                1   \n",
       "2                                                0   \n",
       "3                                                0   \n",
       "4                                               14   \n",
       "...                                            ...   \n",
       "44459                                            0   \n",
       "44460                                           83   \n",
       "44461                                           83   \n",
       "44462                                           51   \n",
       "44463                                           51   \n",
       "\n",
       "      calculated_host_listings_count_shared_rooms reviews_per_month  \\\n",
       "0                                               0              1.67   \n",
       "1                                               0              0.08   \n",
       "2                                               0              0.01   \n",
       "3                                               0              0.01   \n",
       "4                                               0              0.72   \n",
       "...                                           ...               ...   \n",
       "44459                                           0              0.00   \n",
       "44460                                           0              0.00   \n",
       "44461                                           0              0.00   \n",
       "44462                                           0              0.00   \n",
       "44463                                           0              0.00   \n",
       "\n",
       "       host_since_elapsed  last_review_elapsed  email  phone work_email  \n",
       "0                   150.0                 36.0      1      1          0  \n",
       "1                   160.0                 63.0      1      1          0  \n",
       "2                   185.0                 90.0      1      1          0  \n",
       "3                   149.0                126.0      1      1          0  \n",
       "4                    73.0                  6.0      1      1          0  \n",
       "...                   ...                  ...    ...    ...        ...  \n",
       "44459                47.0                150.0      1      1          1  \n",
       "44460                54.0                150.0      1      1          0  \n",
       "44461                54.0                150.0      1      1          0  \n",
       "44462                33.0                150.0      1      1          0  \n",
       "44463                33.0                150.0      1      1          0  \n",
       "\n",
       "[43763 rows x 56 columns]"
      ]
     },
     "execution_count": 459,
     "metadata": {},
     "output_type": "execute_result"
    }
   ],
   "source": [
    "df_new"
   ]
  },
  {
   "cell_type": "code",
   "execution_count": 460,
   "id": "b4fded9092bc223f",
   "metadata": {
    "ExecuteTime": {
     "end_time": "2023-11-27T01:57:12.081839600Z",
     "start_time": "2023-11-27T01:57:12.050188700Z"
    }
   },
   "outputs": [],
   "source": [
    "df_new['neighbourhood_cleansed'].unique() # too many categories, drop it\n",
    "df_new.drop('neighbourhood_cleansed', axis = 1, inplace = True)"
   ]
  },
  {
   "cell_type": "code",
   "execution_count": 461,
   "id": "e3d8ca8560baa2ab",
   "metadata": {
    "ExecuteTime": {
     "end_time": "2023-11-27T01:57:15.437848400Z",
     "start_time": "2023-11-27T01:57:15.406215Z"
    }
   },
   "outputs": [
    {
     "data": {
      "text/plain": [
       "array(['City of Los Angeles', 'Other Cities', 'Unincorporated Areas'],\n",
       "      dtype=object)"
      ]
     },
     "execution_count": 461,
     "metadata": {},
     "output_type": "execute_result"
    }
   ],
   "source": [
    "df_new['neighbourhood_group_cleansed'].unique()"
   ]
  },
  {
   "cell_type": "code",
   "execution_count": 462,
   "id": "a91ee9c910ecb701",
   "metadata": {
    "ExecuteTime": {
     "end_time": "2023-11-27T01:57:17.723822Z",
     "start_time": "2023-11-27T01:57:17.694921Z"
    }
   },
   "outputs": [
    {
     "data": {
      "text/plain": [
       "{}"
      ]
     },
     "execution_count": 462,
     "metadata": {},
     "output_type": "execute_result"
    }
   ],
   "source": [
    "get_missing_value_percentage(df_new)"
   ]
  },
  {
   "cell_type": "code",
   "execution_count": 463,
   "id": "658cce585490b8b0",
   "metadata": {
    "ExecuteTime": {
     "end_time": "2023-11-27T01:57:19.979510800Z",
     "start_time": "2023-11-27T01:57:19.916451400Z"
    }
   },
   "outputs": [
    {
     "data": {
      "text/plain": [
       "False    43097\n",
       "True       666\n",
       "Name: property_type, dtype: int64"
      ]
     },
     "execution_count": 463,
     "metadata": {},
     "output_type": "execute_result"
    }
   ],
   "source": [
    "df_new['property_type'].str.contains('hotel').value_counts()"
   ]
  },
  {
   "cell_type": "code",
   "execution_count": 464,
   "id": "b13c12006bbc1804",
   "metadata": {
    "ExecuteTime": {
     "end_time": "2023-11-27T01:57:34.880187900Z",
     "start_time": "2023-11-27T01:57:34.833200900Z"
    }
   },
   "outputs": [
    {
     "data": {
      "text/plain": [
       "0        bnb\n",
       "1        bnb\n",
       "2        bnb\n",
       "3        bnb\n",
       "4        bnb\n",
       "        ... \n",
       "44459    bnb\n",
       "44460    bnb\n",
       "44461    bnb\n",
       "44462    bnb\n",
       "44463    bnb\n",
       "Name: property_type, Length: 43763, dtype: object"
      ]
     },
     "execution_count": 464,
     "metadata": {},
     "output_type": "execute_result"
    }
   ],
   "source": [
    "df_new['property_type'] = df_new['property_type'].apply(lambda x: 'bnb' if not 'hotel' in x else 'hotel')\n",
    "df_new['property_type']"
   ]
  },
  {
   "cell_type": "code",
   "execution_count": 465,
   "id": "b46478db85465410",
   "metadata": {
    "ExecuteTime": {
     "end_time": "2023-11-27T01:57:39.867520400Z",
     "start_time": "2023-11-27T01:57:39.820147700Z"
    }
   },
   "outputs": [
    {
     "data": {
      "text/plain": [
       "array(['Private room', 'Entire home/apt', 'Shared room', 'Hotel room'],\n",
       "      dtype=object)"
      ]
     },
     "execution_count": 465,
     "metadata": {},
     "output_type": "execute_result"
    }
   ],
   "source": [
    "df_new['room_type'].unique()"
   ]
  },
  {
   "cell_type": "markdown",
   "id": "dc4a0dbcf5106257",
   "metadata": {},
   "source": [
    "## process the natural language (col: description and amenities)"
   ]
  },
  {
   "cell_type": "code",
   "execution_count": 394,
   "id": "cee079d76a7c6b5f",
   "metadata": {
    "ExecuteTime": {
     "end_time": "2023-11-27T01:52:47.465419200Z",
     "start_time": "2023-11-27T01:52:47.451597800Z"
    }
   },
   "outputs": [],
   "source": [
    "import re\n",
    "from nltk.tokenize import word_tokenize\n",
    "from nltk.corpus import stopwords\n",
    "from nltk.stem import PorterStemmer\n",
    "from sklearn.feature_extraction.text import CountVectorizer\n",
    "from sklearn.model_selection import train_test_split"
   ]
  },
  {
   "cell_type": "code",
   "execution_count": 395,
   "id": "85f58a4aaa8445a5",
   "metadata": {
    "ExecuteTime": {
     "end_time": "2023-11-27T01:52:47.465923700Z",
     "start_time": "2023-11-27T01:52:47.459644600Z"
    }
   },
   "outputs": [],
   "source": [
    "import nltk"
   ]
  },
  {
   "cell_type": "code",
   "execution_count": 467,
   "id": "640efdac41e97023",
   "metadata": {
    "ExecuteTime": {
     "end_time": "2023-11-27T02:03:09.649497300Z",
     "start_time": "2023-11-27T02:01:18.162592100Z"
    }
   },
   "outputs": [],
   "source": [
    "corpus = []\n",
    "stemmer = PorterStemmer()\n",
    "for i in df_new.index:\n",
    "    # Check if the value is a non-null string\n",
    "    if isinstance(df_new['description'][i], str):\n",
    "        des = re.sub('[^A-Za-z]', ' ', df_new['description'][i]).lower()\n",
    "        des = word_tokenize(des)\n",
    "        stopword = stopwords.words('english')\n",
    "        stopword.remove('not')\n",
    "        des_nostop = [j for j in des if j not in set(stopword)]\n",
    "        des_stemmed = [stemmer.stem(j) for j in des_nostop] \n",
    "        des_new = ' '.join(des_stemmed)\n",
    "        corpus.append(des_new)\n",
    "    else:\n",
    "        corpus.append('')\n"
   ]
  },
  {
   "cell_type": "code",
   "execution_count": 468,
   "id": "84545f30240acad8",
   "metadata": {
    "ExecuteTime": {
     "end_time": "2023-11-27T02:04:39.994824500Z",
     "start_time": "2023-11-27T02:04:37.594773300Z"
    }
   },
   "outputs": [
    {
     "data": {
      "text/plain": [
       "array([[19,  0,  1],\n",
       "       [ 8,  1,  1],\n",
       "       [16,  0,  1],\n",
       "       ...,\n",
       "       [20,  0,  1],\n",
       "       [ 0,  0,  0],\n",
       "       [ 0,  0,  0]], dtype=int64)"
      ]
     },
     "execution_count": 468,
     "metadata": {},
     "output_type": "execute_result"
    }
   ],
   "source": [
    "\n",
    "vectorizer = CountVectorizer(max_features = 3)\n",
    "des_vec = vectorizer.fit_transform(corpus).toarray()\n",
    "des_vec"
   ]
  },
  {
   "cell_type": "code",
   "execution_count": 469,
   "id": "2eba3b045e0408b2",
   "metadata": {
    "ExecuteTime": {
     "end_time": "2023-11-27T02:04:42.621338800Z",
     "start_time": "2023-11-27T02:04:42.589124500Z"
    }
   },
   "outputs": [],
   "source": [
    "\n",
    "des_vec = pd.DataFrame(des_vec, columns=['des_1', 'des_2', 'des_3'])"
   ]
  },
  {
   "cell_type": "code",
   "execution_count": 471,
   "id": "1376eadaf090310c",
   "metadata": {
    "ExecuteTime": {
     "end_time": "2023-11-27T02:08:08.518458400Z",
     "start_time": "2023-11-27T02:06:23.338031500Z"
    }
   },
   "outputs": [],
   "source": [
    "## extract features from amenities\n",
    "corpus1 = []\n",
    "for i in df_new.index:\n",
    "    if isinstance(df_new['amenities'][i], str):\n",
    "        amen = re.sub('[^A-Za-z]', ' ', df_new['amenities'][i]).lower()\n",
    "        amen = word_tokenize(amen)\n",
    "        stopword = stopwords.words('english')\n",
    "        stopword.remove('not')\n",
    "        amen_nostop = [j for j in amen if j not in set(stopword)]\n",
    "        amen_stemmed = [stemmer.stem(j) for j in amen_nostop] \n",
    "        amen_new = ' '.join(amen_stemmed)\n",
    "        corpus1.append(amen_new)\n",
    "    else:\n",
    "        corpus1.append('')"
   ]
  },
  {
   "cell_type": "code",
   "execution_count": 472,
   "id": "8eac6bdce8486551",
   "metadata": {
    "ExecuteTime": {
     "end_time": "2023-11-27T02:08:10.429748400Z",
     "start_time": "2023-11-27T02:08:08.522964500Z"
    }
   },
   "outputs": [
    {
     "data": {
      "text/plain": [
       "array([[2, 1, 1],\n",
       "       [2, 1, 1],\n",
       "       [2, 2, 1],\n",
       "       ...,\n",
       "       [2, 2, 1],\n",
       "       [1, 0, 0],\n",
       "       [1, 0, 0]], dtype=int64)"
      ]
     },
     "execution_count": 472,
     "metadata": {},
     "output_type": "execute_result"
    }
   ],
   "source": [
    "amen_vec = vectorizer.fit_transform(corpus1).toarray()\n",
    "amen_vec"
   ]
  },
  {
   "cell_type": "code",
   "execution_count": 473,
   "id": "a144709aac224f31",
   "metadata": {
    "ExecuteTime": {
     "end_time": "2023-11-27T02:08:10.435279800Z",
     "start_time": "2023-11-27T02:08:10.429748400Z"
    }
   },
   "outputs": [],
   "source": [
    "amen_vec = pd.DataFrame(amen_vec, columns=['amen_1', 'amen_2', 'amen_3'])"
   ]
  },
  {
   "cell_type": "code",
   "execution_count": 533,
   "id": "b1c79dcbf942faf4",
   "metadata": {
    "ExecuteTime": {
     "end_time": "2023-11-27T03:12:30.745820700Z",
     "start_time": "2023-11-27T03:12:30.635656500Z"
    }
   },
   "outputs": [],
   "source": [
    "df_new = pd.concat([df_new.drop(['description', 'amenities'], axis = 1), des_vec, amen_vec], axis = 1)"
   ]
  },
  {
   "cell_type": "code",
   "execution_count": 568,
   "id": "c127a0b14aee1a41",
   "metadata": {
    "ExecuteTime": {
     "end_time": "2023-11-27T03:40:48.118239400Z",
     "start_time": "2023-11-27T03:40:48.023833100Z"
    }
   },
   "outputs": [],
   "source": [
    "df_new.dropna(inplace=True)"
   ]
  },
  {
   "cell_type": "markdown",
   "id": "7dfbffbb1fbb4b19",
   "metadata": {},
   "source": [
    "\n",
    "## resolve imbalanced data: price"
   ]
  },
  {
   "cell_type": "code",
   "execution_count": 569,
   "id": "64ab35216eaaf707",
   "metadata": {
    "ExecuteTime": {
     "end_time": "2023-11-27T03:40:49.799700200Z",
     "start_time": "2023-11-27T03:40:49.735977200Z"
    }
   },
   "outputs": [
    {
     "data": {
      "text/plain": [
       "count    43062.000000\n",
       "mean         1.607577\n",
       "std          0.167422\n",
       "min          0.665730\n",
       "25%          1.501549\n",
       "50%          1.608880\n",
       "75%          1.708642\n",
       "max          2.434423\n",
       "Name: price, dtype: float64"
      ]
     },
     "execution_count": 569,
     "metadata": {},
     "output_type": "execute_result"
    }
   ],
   "source": [
    "df_new['price'].describe()"
   ]
  },
  {
   "cell_type": "code",
   "execution_count": 570,
   "id": "cf2c2a70c1b10b5c",
   "metadata": {
    "ExecuteTime": {
     "end_time": "2023-11-27T03:40:50.641678700Z",
     "start_time": "2023-11-27T03:40:50.609858800Z"
    }
   },
   "outputs": [
    {
     "data": {
      "text/plain": [
       "25496    2.434423\n",
       "14599    2.434393\n",
       "17609    2.308374\n",
       "30568    2.302882\n",
       "25219    2.293295\n",
       "           ...   \n",
       "14967    0.834032\n",
       "21565    0.834032\n",
       "3585     0.834032\n",
       "21984    0.834032\n",
       "16111    0.665730\n",
       "Name: price, Length: 43062, dtype: float64"
      ]
     },
     "execution_count": 570,
     "metadata": {},
     "output_type": "execute_result"
    }
   ],
   "source": [
    "df_new['price'].sort_values(ascending=False)"
   ]
  },
  {
   "cell_type": "code",
   "execution_count": 571,
   "id": "e48334c471c22906",
   "metadata": {
    "ExecuteTime": {
     "end_time": "2023-11-27T03:40:51.302981400Z",
     "start_time": "2023-11-27T03:40:51.271382900Z"
    }
   },
   "outputs": [],
   "source": [
    "## remove the outliers\n",
    "df_skew = df_new[df_new['price'] < 30000]"
   ]
  },
  {
   "cell_type": "code",
   "execution_count": 572,
   "id": "d187d93f5bed122c",
   "metadata": {
    "ExecuteTime": {
     "end_time": "2023-11-27T03:40:52.671658400Z",
     "start_time": "2023-11-27T03:40:52.239367900Z"
    }
   },
   "outputs": [
    {
     "name": "stderr",
     "output_type": "stream",
     "text": [
      "C:\\Users\\Zhaoyq\\AppData\\Local\\Temp\\ipykernel_12440\\1663862655.py:1: UserWarning: \n",
      "\n",
      "`distplot` is a deprecated function and will be removed in seaborn v0.14.0.\n",
      "\n",
      "Please adapt your code to use either `displot` (a figure-level function with\n",
      "similar flexibility) or `histplot` (an axes-level function for histograms).\n",
      "\n",
      "For a guide to updating your code to use the new functions, please see\n",
      "https://gist.github.com/mwaskom/de44147ed2974457ad6372750bbe5751\n",
      "\n",
      "  sns.distplot(df_skew['price'], kde = False, bins = 100)\n"
     ]
    },
    {
     "data": {
      "text/plain": [
       "<Axes: xlabel='price'>"
      ]
     },
     "execution_count": 572,
     "metadata": {},
     "output_type": "execute_result"
    },
    {
     "data": {
      "image/png": "[encoded data removed]",
      "text/plain": [
       "<Figure size 640x480 with 1 Axes>"
      ]
     },
     "metadata": {},
     "output_type": "display_data"
    }
   ],
   "source": [
    "sns.distplot(df_skew['price'], kde = False, bins = 100)"
   ]
  },
  {
   "cell_type": "code",
   "execution_count": 573,
   "id": "b371ae26dd877ba2",
   "metadata": {
    "ExecuteTime": {
     "end_time": "2023-11-27T03:40:54.008307100Z",
     "start_time": "2023-11-27T03:40:53.671207800Z"
    }
   },
   "outputs": [
    {
     "name": "stderr",
     "output_type": "stream",
     "text": [
      "C:\\Users\\Zhaoyq\\AppData\\Local\\Temp\\ipykernel_12440\\1471286711.py:1: UserWarning: \n",
      "\n",
      "`distplot` is a deprecated function and will be removed in seaborn v0.14.0.\n",
      "\n",
      "Please adapt your code to use either `displot` (a figure-level function with\n",
      "similar flexibility) or `histplot` (an axes-level function for histograms).\n",
      "\n",
      "For a guide to updating your code to use the new functions, please see\n",
      "https://gist.github.com/mwaskom/de44147ed2974457ad6372750bbe5751\n",
      "\n",
      "  sns.distplot(np.log10(df_skew['price']), bins = 100, kde = False)\n"
     ]
    },
    {
     "data": {
      "text/plain": [
       "<Axes: xlabel='price'>"
      ]
     },
     "execution_count": 573,
     "metadata": {},
     "output_type": "execute_result"
    },
    {
     "data": {
      "image/png": "[encoded data removed]",
      "text/plain": [
       "<Figure size 640x480 with 1 Axes>"
      ]
     },
     "metadata": {},
     "output_type": "display_data"
    }
   ],
   "source": [
    "sns.distplot(np.log10(df_skew['price']), bins = 100, kde = False)"
   ]
  },
  {
   "cell_type": "code",
   "execution_count": 574,
   "id": "f2dcb757077fddd6",
   "metadata": {
    "ExecuteTime": {
     "end_time": "2023-11-27T03:40:58.322844200Z",
     "start_time": "2023-11-27T03:40:58.291404300Z"
    }
   },
   "outputs": [],
   "source": [
    "df_skew['price'] = np.log(df_skew['price'])"
   ]
  },
  {
   "cell_type": "markdown",
   "id": "80143121d609fa43",
   "metadata": {},
   "source": [
    "## split data into X y"
   ]
  },
  {
   "cell_type": "code",
   "execution_count": 575,
   "id": "1f997183f72657f1",
   "metadata": {
    "ExecuteTime": {
     "end_time": "2023-11-27T03:40:59.852152100Z",
     "start_time": "2023-11-27T03:40:59.820298800Z"
    }
   },
   "outputs": [
    {
     "data": {
      "text/plain": [
       "17"
      ]
     },
     "execution_count": 575,
     "metadata": {},
     "output_type": "execute_result"
    }
   ],
   "source": [
    "index = list(np.arange(df_skew.shape[1]))\n",
    "df_skew.columns.get_loc('price')"
   ]
  },
  {
   "cell_type": "code",
   "execution_count": 576,
   "id": "82752b60c32bf1e9",
   "metadata": {
    "ExecuteTime": {
     "end_time": "2023-11-27T03:41:00.323972400Z",
     "start_time": "2023-11-27T03:41:00.294084300Z"
    }
   },
   "outputs": [],
   "source": [
    "index.remove(17)"
   ]
  },
  {
   "cell_type": "code",
   "execution_count": 577,
   "id": "4e16fdb9c1b103f",
   "metadata": {
    "ExecuteTime": {
     "end_time": "2023-11-27T03:41:00.832206Z",
     "start_time": "2023-11-27T03:41:00.785156100Z"
    }
   },
   "outputs": [],
   "source": [
    "X = df_skew.iloc[:, index]\n",
    "y = df_skew.iloc[:, 17]"
   ]
  },
  {
   "cell_type": "code",
   "execution_count": 578,
   "id": "b131eeb2fee8c9fc",
   "metadata": {
    "ExecuteTime": {
     "end_time": "2023-11-27T03:41:01.327832700Z",
     "start_time": "2023-11-27T03:41:01.295433500Z"
    }
   },
   "outputs": [
    {
     "data": {
      "text/plain": [
       "count    43062.000000\n",
       "mean         0.469235\n",
       "std          0.105417\n",
       "min         -0.406871\n",
       "25%          0.406497\n",
       "50%          0.475538\n",
       "75%          0.535699\n",
       "max          0.889710\n",
       "Name: price, dtype: float64"
      ]
     },
     "execution_count": 578,
     "metadata": {},
     "output_type": "execute_result"
    }
   ],
   "source": [
    "\n",
    "y.describe()\n",
    "# "
   ]
  },
  {
   "cell_type": "code",
   "execution_count": 579,
   "id": "ebb89378154e6ba1",
   "metadata": {
    "ExecuteTime": {
     "end_time": "2023-11-27T03:41:02.163852700Z",
     "start_time": "2023-11-27T03:41:02.069726Z"
    }
   },
   "outputs": [
    {
     "data": {
      "text/html": [
       "<div>\n",
       "<style scoped>\n",
       "    .dataframe tbody tr th:only-of-type {\n",
       "        vertical-align: middle;\n",
       "    }\n",
       "\n",
       "    .dataframe tbody tr th {\n",
       "        vertical-align: top;\n",
       "    }\n",
       "\n",
       "    .dataframe thead th {\n",
       "        text-align: right;\n",
       "    }\n",
       "</style>\n",
       "<table border=\"1\" class=\"dataframe\">\n",
       "  <thead>\n",
       "    <tr style=\"text-align: right;\">\n",
       "      <th></th>\n",
       "      <th>host_response_time</th>\n",
       "      <th>host_response_rate</th>\n",
       "      <th>host_acceptance_rate</th>\n",
       "      <th>host_listings_count</th>\n",
       "      <th>host_total_listings_count</th>\n",
       "      <th>accommodates</th>\n",
       "      <th>bathrooms_text</th>\n",
       "      <th>bedrooms</th>\n",
       "      <th>beds</th>\n",
       "      <th>minimum_nights</th>\n",
       "      <th>...</th>\n",
       "      <th>host_identity_verified_True</th>\n",
       "      <th>neighbourhood_group_cleansed_Other Cities</th>\n",
       "      <th>neighbourhood_group_cleansed_Unincorporated Areas</th>\n",
       "      <th>property_type_hotel</th>\n",
       "      <th>room_type_Hotel room</th>\n",
       "      <th>room_type_Private room</th>\n",
       "      <th>room_type_Shared room</th>\n",
       "      <th>has_availability_True</th>\n",
       "      <th>license_True</th>\n",
       "      <th>instant_bookable_True</th>\n",
       "    </tr>\n",
       "  </thead>\n",
       "  <tbody>\n",
       "    <tr>\n",
       "      <th>0</th>\n",
       "      <td>1.00</td>\n",
       "      <td>1.000000</td>\n",
       "      <td>1.000000</td>\n",
       "      <td>4.0</td>\n",
       "      <td>9.0</td>\n",
       "      <td>3.0</td>\n",
       "      <td>1.0</td>\n",
       "      <td>1.0</td>\n",
       "      <td>2.0</td>\n",
       "      <td>31.0</td>\n",
       "      <td>...</td>\n",
       "      <td>1</td>\n",
       "      <td>0</td>\n",
       "      <td>0</td>\n",
       "      <td>0</td>\n",
       "      <td>0</td>\n",
       "      <td>1</td>\n",
       "      <td>0</td>\n",
       "      <td>1</td>\n",
       "      <td>0</td>\n",
       "      <td>0</td>\n",
       "    </tr>\n",
       "    <tr>\n",
       "      <th>1</th>\n",
       "      <td>13.00</td>\n",
       "      <td>1.000000</td>\n",
       "      <td>0.170000</td>\n",
       "      <td>1.0</td>\n",
       "      <td>3.0</td>\n",
       "      <td>2.0</td>\n",
       "      <td>1.0</td>\n",
       "      <td>1.0</td>\n",
       "      <td>2.0</td>\n",
       "      <td>30.0</td>\n",
       "      <td>...</td>\n",
       "      <td>0</td>\n",
       "      <td>0</td>\n",
       "      <td>0</td>\n",
       "      <td>0</td>\n",
       "      <td>0</td>\n",
       "      <td>1</td>\n",
       "      <td>0</td>\n",
       "      <td>1</td>\n",
       "      <td>0</td>\n",
       "      <td>0</td>\n",
       "    </tr>\n",
       "    <tr>\n",
       "      <th>2</th>\n",
       "      <td>5.00</td>\n",
       "      <td>1.000000</td>\n",
       "      <td>0.000000</td>\n",
       "      <td>1.0</td>\n",
       "      <td>3.0</td>\n",
       "      <td>6.0</td>\n",
       "      <td>2.0</td>\n",
       "      <td>2.0</td>\n",
       "      <td>2.0</td>\n",
       "      <td>30.0</td>\n",
       "      <td>...</td>\n",
       "      <td>1</td>\n",
       "      <td>1</td>\n",
       "      <td>0</td>\n",
       "      <td>0</td>\n",
       "      <td>0</td>\n",
       "      <td>0</td>\n",
       "      <td>0</td>\n",
       "      <td>1</td>\n",
       "      <td>0</td>\n",
       "      <td>0</td>\n",
       "    </tr>\n",
       "    <tr>\n",
       "      <th>3</th>\n",
       "      <td>1.00</td>\n",
       "      <td>1.000000</td>\n",
       "      <td>0.990000</td>\n",
       "      <td>12.0</td>\n",
       "      <td>12.0</td>\n",
       "      <td>2.0</td>\n",
       "      <td>1.0</td>\n",
       "      <td>1.0</td>\n",
       "      <td>1.0</td>\n",
       "      <td>60.0</td>\n",
       "      <td>...</td>\n",
       "      <td>1</td>\n",
       "      <td>1</td>\n",
       "      <td>0</td>\n",
       "      <td>0</td>\n",
       "      <td>0</td>\n",
       "      <td>0</td>\n",
       "      <td>0</td>\n",
       "      <td>1</td>\n",
       "      <td>0</td>\n",
       "      <td>0</td>\n",
       "    </tr>\n",
       "    <tr>\n",
       "      <th>4</th>\n",
       "      <td>3.11</td>\n",
       "      <td>0.959705</td>\n",
       "      <td>0.897212</td>\n",
       "      <td>20.0</td>\n",
       "      <td>24.0</td>\n",
       "      <td>1.0</td>\n",
       "      <td>11.0</td>\n",
       "      <td>1.0</td>\n",
       "      <td>1.0</td>\n",
       "      <td>2.0</td>\n",
       "      <td>...</td>\n",
       "      <td>0</td>\n",
       "      <td>0</td>\n",
       "      <td>0</td>\n",
       "      <td>0</td>\n",
       "      <td>0</td>\n",
       "      <td>1</td>\n",
       "      <td>0</td>\n",
       "      <td>1</td>\n",
       "      <td>1</td>\n",
       "      <td>0</td>\n",
       "    </tr>\n",
       "    <tr>\n",
       "      <th>...</th>\n",
       "      <td>...</td>\n",
       "      <td>...</td>\n",
       "      <td>...</td>\n",
       "      <td>...</td>\n",
       "      <td>...</td>\n",
       "      <td>...</td>\n",
       "      <td>...</td>\n",
       "      <td>...</td>\n",
       "      <td>...</td>\n",
       "      <td>...</td>\n",
       "      <td>...</td>\n",
       "      <td>...</td>\n",
       "      <td>...</td>\n",
       "      <td>...</td>\n",
       "      <td>...</td>\n",
       "      <td>...</td>\n",
       "      <td>...</td>\n",
       "      <td>...</td>\n",
       "      <td>...</td>\n",
       "      <td>...</td>\n",
       "      <td>...</td>\n",
       "    </tr>\n",
       "    <tr>\n",
       "      <th>43758</th>\n",
       "      <td>1.00</td>\n",
       "      <td>0.980000</td>\n",
       "      <td>0.590000</td>\n",
       "      <td>34.0</td>\n",
       "      <td>84.0</td>\n",
       "      <td>3.0</td>\n",
       "      <td>1.0</td>\n",
       "      <td>1.0</td>\n",
       "      <td>2.0</td>\n",
       "      <td>1.0</td>\n",
       "      <td>...</td>\n",
       "      <td>1</td>\n",
       "      <td>1</td>\n",
       "      <td>0</td>\n",
       "      <td>0</td>\n",
       "      <td>0</td>\n",
       "      <td>0</td>\n",
       "      <td>0</td>\n",
       "      <td>1</td>\n",
       "      <td>0</td>\n",
       "      <td>0</td>\n",
       "    </tr>\n",
       "    <tr>\n",
       "      <th>43759</th>\n",
       "      <td>1.00</td>\n",
       "      <td>1.000000</td>\n",
       "      <td>0.930000</td>\n",
       "      <td>2.0</td>\n",
       "      <td>3.0</td>\n",
       "      <td>2.0</td>\n",
       "      <td>1.0</td>\n",
       "      <td>1.0</td>\n",
       "      <td>1.0</td>\n",
       "      <td>1.0</td>\n",
       "      <td>...</td>\n",
       "      <td>1</td>\n",
       "      <td>1</td>\n",
       "      <td>0</td>\n",
       "      <td>0</td>\n",
       "      <td>0</td>\n",
       "      <td>1</td>\n",
       "      <td>0</td>\n",
       "      <td>1</td>\n",
       "      <td>0</td>\n",
       "      <td>0</td>\n",
       "    </tr>\n",
       "    <tr>\n",
       "      <th>43760</th>\n",
       "      <td>1.00</td>\n",
       "      <td>0.980000</td>\n",
       "      <td>0.590000</td>\n",
       "      <td>34.0</td>\n",
       "      <td>84.0</td>\n",
       "      <td>3.0</td>\n",
       "      <td>1.0</td>\n",
       "      <td>1.0</td>\n",
       "      <td>2.0</td>\n",
       "      <td>1.0</td>\n",
       "      <td>...</td>\n",
       "      <td>1</td>\n",
       "      <td>1</td>\n",
       "      <td>0</td>\n",
       "      <td>0</td>\n",
       "      <td>0</td>\n",
       "      <td>0</td>\n",
       "      <td>0</td>\n",
       "      <td>1</td>\n",
       "      <td>0</td>\n",
       "      <td>0</td>\n",
       "    </tr>\n",
       "    <tr>\n",
       "      <th>43761</th>\n",
       "      <td>1.00</td>\n",
       "      <td>0.980000</td>\n",
       "      <td>0.590000</td>\n",
       "      <td>34.0</td>\n",
       "      <td>84.0</td>\n",
       "      <td>3.0</td>\n",
       "      <td>1.0</td>\n",
       "      <td>1.0</td>\n",
       "      <td>2.0</td>\n",
       "      <td>1.0</td>\n",
       "      <td>...</td>\n",
       "      <td>1</td>\n",
       "      <td>1</td>\n",
       "      <td>0</td>\n",
       "      <td>0</td>\n",
       "      <td>0</td>\n",
       "      <td>0</td>\n",
       "      <td>0</td>\n",
       "      <td>1</td>\n",
       "      <td>0</td>\n",
       "      <td>0</td>\n",
       "    </tr>\n",
       "    <tr>\n",
       "      <th>43762</th>\n",
       "      <td>1.00</td>\n",
       "      <td>0.980000</td>\n",
       "      <td>0.590000</td>\n",
       "      <td>34.0</td>\n",
       "      <td>84.0</td>\n",
       "      <td>3.0</td>\n",
       "      <td>1.0</td>\n",
       "      <td>1.0</td>\n",
       "      <td>2.0</td>\n",
       "      <td>1.0</td>\n",
       "      <td>...</td>\n",
       "      <td>1</td>\n",
       "      <td>1</td>\n",
       "      <td>0</td>\n",
       "      <td>0</td>\n",
       "      <td>0</td>\n",
       "      <td>0</td>\n",
       "      <td>0</td>\n",
       "      <td>1</td>\n",
       "      <td>0</td>\n",
       "      <td>0</td>\n",
       "    </tr>\n",
       "  </tbody>\n",
       "</table>\n",
       "<p>43062 rows × 61 columns</p>\n",
       "</div>"
      ],
      "text/plain": [
       "       host_response_time  host_response_rate  host_acceptance_rate  \\\n",
       "0                    1.00            1.000000              1.000000   \n",
       "1                   13.00            1.000000              0.170000   \n",
       "2                    5.00            1.000000              0.000000   \n",
       "3                    1.00            1.000000              0.990000   \n",
       "4                    3.11            0.959705              0.897212   \n",
       "...                   ...                 ...                   ...   \n",
       "43758                1.00            0.980000              0.590000   \n",
       "43759                1.00            1.000000              0.930000   \n",
       "43760                1.00            0.980000              0.590000   \n",
       "43761                1.00            0.980000              0.590000   \n",
       "43762                1.00            0.980000              0.590000   \n",
       "\n",
       "       host_listings_count  host_total_listings_count  accommodates  \\\n",
       "0                      4.0                        9.0           3.0   \n",
       "1                      1.0                        3.0           2.0   \n",
       "2                      1.0                        3.0           6.0   \n",
       "3                     12.0                       12.0           2.0   \n",
       "4                     20.0                       24.0           1.0   \n",
       "...                    ...                        ...           ...   \n",
       "43758                 34.0                       84.0           3.0   \n",
       "43759                  2.0                        3.0           2.0   \n",
       "43760                 34.0                       84.0           3.0   \n",
       "43761                 34.0                       84.0           3.0   \n",
       "43762                 34.0                       84.0           3.0   \n",
       "\n",
       "       bathrooms_text  bedrooms  beds  minimum_nights  ...  \\\n",
       "0                 1.0       1.0   2.0            31.0  ...   \n",
       "1                 1.0       1.0   2.0            30.0  ...   \n",
       "2                 2.0       2.0   2.0            30.0  ...   \n",
       "3                 1.0       1.0   1.0            60.0  ...   \n",
       "4                11.0       1.0   1.0             2.0  ...   \n",
       "...               ...       ...   ...             ...  ...   \n",
       "43758             1.0       1.0   2.0             1.0  ...   \n",
       "43759             1.0       1.0   1.0             1.0  ...   \n",
       "43760             1.0       1.0   2.0             1.0  ...   \n",
       "43761             1.0       1.0   2.0             1.0  ...   \n",
       "43762             1.0       1.0   2.0             1.0  ...   \n",
       "\n",
       "       host_identity_verified_True  neighbourhood_group_cleansed_Other Cities  \\\n",
       "0                                1                                          0   \n",
       "1                                0                                          0   \n",
       "2                                1                                          1   \n",
       "3                                1                                          1   \n",
       "4                                0                                          0   \n",
       "...                            ...                                        ...   \n",
       "43758                            1                                          1   \n",
       "43759                            1                                          1   \n",
       "43760                            1                                          1   \n",
       "43761                            1                                          1   \n",
       "43762                            1                                          1   \n",
       "\n",
       "       neighbourhood_group_cleansed_Unincorporated Areas  property_type_hotel  \\\n",
       "0                                                      0                    0   \n",
       "1                                                      0                    0   \n",
       "2                                                      0                    0   \n",
       "3                                                      0                    0   \n",
       "4                                                      0                    0   \n",
       "...                                                  ...                  ...   \n",
       "43758                                                  0                    0   \n",
       "43759                                                  0                    0   \n",
       "43760                                                  0                    0   \n",
       "43761                                                  0                    0   \n",
       "43762                                                  0                    0   \n",
       "\n",
       "       room_type_Hotel room  room_type_Private room  room_type_Shared room  \\\n",
       "0                         0                       1                      0   \n",
       "1                         0                       1                      0   \n",
       "2                         0                       0                      0   \n",
       "3                         0                       0                      0   \n",
       "4                         0                       1                      0   \n",
       "...                     ...                     ...                    ...   \n",
       "43758                     0                       0                      0   \n",
       "43759                     0                       1                      0   \n",
       "43760                     0                       0                      0   \n",
       "43761                     0                       0                      0   \n",
       "43762                     0                       0                      0   \n",
       "\n",
       "       has_availability_True  license_True  instant_bookable_True  \n",
       "0                          1             0                      0  \n",
       "1                          1             0                      0  \n",
       "2                          1             0                      0  \n",
       "3                          1             0                      0  \n",
       "4                          1             1                      0  \n",
       "...                      ...           ...                    ...  \n",
       "43758                      1             0                      0  \n",
       "43759                      1             0                      0  \n",
       "43760                      1             0                      0  \n",
       "43761                      1             0                      0  \n",
       "43762                      1             0                      0  \n",
       "\n",
       "[43062 rows x 61 columns]"
      ]
     },
     "execution_count": 579,
     "metadata": {},
     "output_type": "execute_result"
    }
   ],
   "source": [
    "X = pd.get_dummies(X, drop_first=True)\n",
    "X"
   ]
  },
  {
   "cell_type": "code",
   "execution_count": 607,
   "id": "cfa0a38aa2e0552f",
   "metadata": {
    "ExecuteTime": {
     "end_time": "2023-11-27T04:24:34.690302300Z",
     "start_time": "2023-11-27T04:24:34.619532500Z"
    }
   },
   "outputs": [],
   "source": [
    "X_train, X_test, y_train, y_test = train_test_split(X, y, random_state=42, test_size=0.2)"
   ]
  },
  {
   "cell_type": "code",
   "execution_count": 614,
   "id": "badab3d5c09984ec",
   "metadata": {
    "ExecuteTime": {
     "end_time": "2023-11-27T04:25:36.462163900Z",
     "start_time": "2023-11-27T04:25:36.414989900Z"
    }
   },
   "outputs": [
    {
     "data": {
      "text/plain": [
       "(8613, 61)"
      ]
     },
     "execution_count": 614,
     "metadata": {},
     "output_type": "execute_result"
    }
   ],
   "source": [
    "X_test.shape"
   ]
  },
  {
   "cell_type": "code",
   "execution_count": 608,
   "id": "7a51d1f5587160a8",
   "metadata": {
    "ExecuteTime": {
     "end_time": "2023-11-27T04:25:08.471648100Z",
     "start_time": "2023-11-27T04:25:08.444988400Z"
    }
   },
   "outputs": [],
   "source": [
    "from sklearn.preprocessing import StandardScaler\n",
    "sc = StandardScaler()"
   ]
  },
  {
   "cell_type": "code",
   "execution_count": 615,
   "id": "a34d236e7aa66aa0",
   "metadata": {
    "ExecuteTime": {
     "end_time": "2023-11-27T04:25:48.343427200Z",
     "start_time": "2023-11-27T04:25:48.155194300Z"
    }
   },
   "outputs": [],
   "source": [
    "X_train_sc = sc.fit_transform(X_train)\n",
    "X_test_sc = sc.transform(X_test)"
   ]
  },
  {
   "cell_type": "code",
   "execution_count": 610,
   "id": "3d9fcb8f6e0fc3af",
   "metadata": {
    "ExecuteTime": {
     "end_time": "2023-11-27T04:25:09.458874900Z",
     "start_time": "2023-11-27T04:25:09.414605300Z"
    }
   },
   "outputs": [],
   "source": [
    "from sklearn.decomposition import PCA"
   ]
  },
  {
   "cell_type": "code",
   "execution_count": 616,
   "id": "5f66cc0b3c3b4829",
   "metadata": {
    "ExecuteTime": {
     "end_time": "2023-11-27T04:25:58.634105600Z",
     "start_time": "2023-11-27T04:25:58.234834800Z"
    }
   },
   "outputs": [
    {
     "data": {
      "text/plain": [
       "Text(0, 0.5, 'cumulative explained variance')"
      ]
     },
     "execution_count": 616,
     "metadata": {},
     "output_type": "execute_result"
    },
    {
     "data": {
      "image/png": "[encoded data removed]",
      "text/plain": [
       "<Figure size 640x480 with 1 Axes>"
      ]
     },
     "metadata": {},
     "output_type": "display_data"
    }
   ],
   "source": [
    "pca = PCA().fit(X_train_sc)\n",
    "plt.plot(np.cumsum(pca.explained_variance_ratio_))\n",
    "plt.xlabel('number of components')\n",
    "plt.ylabel('cumulative explained variance')"
   ]
  },
  {
   "cell_type": "code",
   "execution_count": 617,
   "id": "bdb6718cdf7bdf7b",
   "metadata": {
    "ExecuteTime": {
     "end_time": "2023-11-27T04:25:59.193744200Z",
     "start_time": "2023-11-27T04:25:58.956247600Z"
    }
   },
   "outputs": [],
   "source": [
    "#the number of components that capture around 95% of the variance is around 35\n",
    "pca_x = PCA(35)\n",
    "X_train_pca = pca_x.fit_transform(X_train_sc)\n",
    "X_test_pca = pca_x.transform(X_test_sc)"
   ]
  },
  {
   "cell_type": "code",
   "execution_count": 618,
   "id": "42a4e88a3307a4e",
   "metadata": {
    "ExecuteTime": {
     "end_time": "2023-11-27T04:25:59.896884700Z",
     "start_time": "2023-11-27T04:25:59.865245400Z"
    }
   },
   "outputs": [
    {
     "data": {
      "text/plain": [
       "(8613, 35)"
      ]
     },
     "execution_count": 618,
     "metadata": {},
     "output_type": "execute_result"
    }
   ],
   "source": [
    "X_test_pca.shape"
   ]
  },
  {
   "cell_type": "markdown",
   "id": "607cc5a725c0a9c7",
   "metadata": {},
   "source": [
    "## built the models"
   ]
  },
  {
   "cell_type": "code",
   "execution_count": 599,
   "id": "34252fac6c58bcea",
   "metadata": {
    "ExecuteTime": {
     "end_time": "2023-11-27T04:19:37.683316700Z",
     "start_time": "2023-11-27T04:19:37.656781200Z"
    }
   },
   "outputs": [],
   "source": [
    "from sklearn.tree import DecisionTreeRegressor\n",
    "from sklearn.linear_model import LinearRegression\n",
    "from sklearn.ensemble import RandomForestRegressor\n",
    "from sklearn.svm import SVR\n",
    "from sklearn.metrics import mean_squared_error"
   ]
  },
  {
   "cell_type": "code",
   "execution_count": 619,
   "id": "c390ee50dc07d60c",
   "metadata": {
    "ExecuteTime": {
     "end_time": "2023-11-27T04:26:05.031201600Z",
     "start_time": "2023-11-27T04:26:05.000179200Z"
    }
   },
   "outputs": [
    {
     "data": {
      "text/plain": [
       "((8613,), (8613, 35))"
      ]
     },
     "execution_count": 619,
     "metadata": {},
     "output_type": "execute_result"
    }
   ],
   "source": [
    "y_test.shape, X_test_pca.shape"
   ]
  },
  {
   "cell_type": "markdown",
   "id": "f04ba384a18d1dd1",
   "metadata": {},
   "source": [
    "## Mutiple LR"
   ]
  },
  {
   "cell_type": "code",
   "execution_count": 621,
   "id": "7bbb362365f96bb4",
   "metadata": {
    "ExecuteTime": {
     "end_time": "2023-11-27T04:28:28.766675600Z",
     "start_time": "2023-11-27T04:28:28.687758Z"
    }
   },
   "outputs": [
    {
     "data": {
      "text/plain": [
       "0.004329897775968891"
      ]
     },
     "execution_count": 621,
     "metadata": {},
     "output_type": "execute_result"
    }
   ],
   "source": [
    "lr = LinearRegression()\n",
    "lr.fit(X_train_pca, y_train)\n",
    "y_pred_lr = lr.predict(X_test_pca)\n",
    "mean_squared_error(y_test, y_pred_lr)"
   ]
  },
  {
   "cell_type": "markdown",
   "id": "39e4e41a316ad7dc",
   "metadata": {},
   "source": [
    "## Decision Tree"
   ]
  },
  {
   "cell_type": "code",
   "execution_count": 623,
   "id": "90fbf570e26b7269",
   "metadata": {
    "ExecuteTime": {
     "end_time": "2023-11-27T04:30:24.509172400Z",
     "start_time": "2023-11-27T04:30:22.098396300Z"
    }
   },
   "outputs": [
    {
     "data": {
      "text/plain": [
       "0.007443381382915692"
      ]
     },
     "execution_count": 623,
     "metadata": {},
     "output_type": "execute_result"
    }
   ],
   "source": [
    "dt = DecisionTreeRegressor(random_state=42)\n",
    "dt.fit(X_train_pca, y_train)\n",
    "y_pred_dt = dt.predict(X_test_pca)\n",
    "mean_squared_error(y_test, y_pred_dt)"
   ]
  },
  {
   "cell_type": "markdown",
   "id": "448e7f0338883dd1",
   "metadata": {},
   "source": [
    "## Random Forest"
   ]
  },
  {
   "cell_type": "code",
   "execution_count": 626,
   "id": "560b4559672875ce",
   "metadata": {
    "ExecuteTime": {
     "end_time": "2023-11-27T04:55:36.835215Z",
     "start_time": "2023-11-27T04:52:47.109659800Z"
    }
   },
   "outputs": [
    {
     "data": {
      "text/plain": "0.0034614323861269403"
     },
     "execution_count": 626,
     "metadata": {},
     "output_type": "execute_result"
    }
   ],
   "source": [
    "rf = RandomForestRegressor(100, random_state=42)\n",
    "rf.fit(X_train_pca, y_train)\n",
    "y_pred_rf = rf.predict(X_test_pca)\n",
    "mean_squared_error(y_test, y_pred_rf)"
   ]
  },
  {
   "cell_type": "markdown",
   "id": "a2a6eb743ba33b1d",
   "metadata": {},
   "source": [
    "## SVR"
   ]
  },
  {
   "cell_type": "code",
   "execution_count": 625,
   "id": "91510279fe148df6",
   "metadata": {
    "ExecuteTime": {
     "end_time": "2023-11-27T04:33:37.953021800Z",
     "start_time": "2023-11-27T04:33:15.096779200Z"
    }
   },
   "outputs": [
    {
     "data": {
      "text/plain": [
       "0.003899467862566247"
      ]
     },
     "execution_count": 625,
     "metadata": {},
     "output_type": "execute_result"
    }
   ],
   "source": [
    "svr = SVR()\n",
    "svr.fit(X_train_pca, y_train)\n",
    "y_pred_svr = svr.predict(X_test_pca)\n",
    "mean_squared_error(y_test, y_pred_svr)"
   ]
  },
  {
   "cell_type": "markdown",
   "id": "e8fd9652cdc3d3",
   "metadata": {},
   "source": [
    "## report"
   ]
  },
  {
   "cell_type": "markdown",
   "id": "edd4e2cc4a6a5e1",
   "metadata": {},
   "source": [
    "Random forest has the lowest mse value, so it has the greatest performance. the mse of others have little difference from the one of Random forest, so they are also acceptable"
   ]
  },
  {
   "cell_type": "code",
   "execution_count": null,
   "id": "4bd6eeddaaec4f17",
   "metadata": {},
   "outputs": [],
   "source": []
  }
 ],
 "metadata": {
  "kernelspec": {
   "display_name": "Python 3 (ipykernel)",
   "language": "python",
   "name": "python3"
  },
  "language_info": {
   "codemirror_mode": {
    "name": "ipython",
    "version": 3
   },
   "file_extension": ".py",
   "mimetype": "text/x-python",
   "name": "python",
   "nbconvert_exporter": "python",
   "pygments_lexer": "ipython3",
   "version": "3.11.4"
  }
 },
 "nbformat": 4,
 "nbformat_minor": 5
}
